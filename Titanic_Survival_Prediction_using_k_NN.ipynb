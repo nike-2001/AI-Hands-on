{
  "nbformat": 4,
  "nbformat_minor": 0,
  "metadata": {
    "colab": {
      "name": "Copy of Titanic Survival Prediction using k-NN.ipynb",
      "provenance": [],
      "collapsed_sections": [],
      "toc_visible": true,
      "include_colab_link": true
    },
    "kernelspec": {
      "name": "python3",
      "display_name": "Python 3"
    },
    "language_info": {
      "name": "python"
    }
  },
  "cells": [
    {
      "cell_type": "markdown",
      "metadata": {
        "id": "view-in-github",
        "colab_type": "text"
      },
      "source": [
        "<a href=\"https://colab.research.google.com/github/nike-2001/AI-Hands-on/blob/main/Titanic_Survival_Prediction_using_k_NN.ipynb\" target=\"_parent\"><img src=\"https://colab.research.google.com/assets/colab-badge.svg\" alt=\"Open In Colab\"/></a>"
      ]
    },
    {
      "cell_type": "code",
      "metadata": {
        "id": "FMjlcOiWulsm"
      },
      "source": [
        "import numpy as np\n",
        "import pandas as pd"
      ],
      "execution_count": null,
      "outputs": []
    },
    {
      "cell_type": "markdown",
      "metadata": {
        "id": "Bkg7djDW2K_a"
      },
      "source": [
        "*italicized text*# Data Collection"
      ]
    },
    {
      "cell_type": "code",
      "metadata": {
        "id": "09HLkyVhuvyP",
        "colab": {
          "base_uri": "https://localhost:8080/"
        },
        "outputId": "54947e15-f9f0-441f-fe74-4a68d7b7b0be"
      },
      "source": [
        "!wget https://nkb-backend-otg-media-static.s3.ap-south-1.amazonaws.com/otg_prod/media/Tech_4.0/AI_ML/Datasets/kaggle_titanic/train.csv\n",
        "!wget https://nkb-backend-otg-media-static.s3.ap-south-1.amazonaws.com/otg_prod/media/Tech_4.0/AI_ML/Datasets/kaggle_titanic/test.csv"
      ],
      "execution_count": null,
      "outputs": [
        {
          "output_type": "stream",
          "text": [
            "--2021-04-10 12:11:02--  https://nkb-backend-otg-media-static.s3.ap-south-1.amazonaws.com/otg_prod/media/Tech_4.0/AI_ML/Datasets/kaggle_titanic/train.csv\n",
            "Resolving nkb-backend-otg-media-static.s3.ap-south-1.amazonaws.com (nkb-backend-otg-media-static.s3.ap-south-1.amazonaws.com)... 52.219.62.23\n",
            "Connecting to nkb-backend-otg-media-static.s3.ap-south-1.amazonaws.com (nkb-backend-otg-media-static.s3.ap-south-1.amazonaws.com)|52.219.62.23|:443... connected.\n",
            "HTTP request sent, awaiting response... 200 OK\n",
            "Length: 61194 (60K) [text/csv]\n",
            "Saving to: ‘train.csv.4’\n",
            "\n",
            "train.csv.4         100%[===================>]  59.76K   142KB/s    in 0.4s    \n",
            "\n",
            "2021-04-10 12:11:04 (142 KB/s) - ‘train.csv.4’ saved [61194/61194]\n",
            "\n",
            "--2021-04-10 12:11:04--  https://nkb-backend-otg-media-static.s3.ap-south-1.amazonaws.com/otg_prod/media/Tech_4.0/AI_ML/Datasets/kaggle_titanic/test.csv\n",
            "Resolving nkb-backend-otg-media-static.s3.ap-south-1.amazonaws.com (nkb-backend-otg-media-static.s3.ap-south-1.amazonaws.com)... 52.219.62.23\n",
            "Connecting to nkb-backend-otg-media-static.s3.ap-south-1.amazonaws.com (nkb-backend-otg-media-static.s3.ap-south-1.amazonaws.com)|52.219.62.23|:443... connected.\n",
            "HTTP request sent, awaiting response... 200 OK\n",
            "Length: 28629 (28K) [text/csv]\n",
            "Saving to: ‘test.csv.4’\n",
            "\n",
            "test.csv.4          100%[===================>]  27.96K   136KB/s    in 0.2s    \n",
            "\n",
            "2021-04-10 12:11:05 (136 KB/s) - ‘test.csv.4’ saved [28629/28629]\n",
            "\n"
          ],
          "name": "stdout"
        }
      ]
    },
    {
      "cell_type": "code",
      "metadata": {
        "id": "HoJx-RR61Sk2"
      },
      "source": [
        "train_df = pd.read_csv('train.csv')\n",
        "test_df = pd.read_csv('test.csv')"
      ],
      "execution_count": null,
      "outputs": []
    },
    {
      "cell_type": "markdown",
      "metadata": {
        "id": "KL75wKKzuq85"
      },
      "source": [
        "# Understanding Data"
      ]
    },
    {
      "cell_type": "code",
      "metadata": {
        "id": "zAyCyg2hutli",
        "colab": {
          "base_uri": "https://localhost:8080/",
          "height": 754
        },
        "outputId": "5e2019d7-b361-4eaa-ac3e-6f5fe8d39bb1"
      },
      "source": [
        "train_df.head(10)"
      ],
      "execution_count": null,
      "outputs": [
        {
          "output_type": "execute_result",
          "data": {
            "text/html": [
              "<div>\n",
              "<style scoped>\n",
              "    .dataframe tbody tr th:only-of-type {\n",
              "        vertical-align: middle;\n",
              "    }\n",
              "\n",
              "    .dataframe tbody tr th {\n",
              "        vertical-align: top;\n",
              "    }\n",
              "\n",
              "    .dataframe thead th {\n",
              "        text-align: right;\n",
              "    }\n",
              "</style>\n",
              "<table border=\"1\" class=\"dataframe\">\n",
              "  <thead>\n",
              "    <tr style=\"text-align: right;\">\n",
              "      <th></th>\n",
              "      <th>PassengerId</th>\n",
              "      <th>Survived</th>\n",
              "      <th>Pclass</th>\n",
              "      <th>Name</th>\n",
              "      <th>Sex</th>\n",
              "      <th>Age</th>\n",
              "      <th>SibSp</th>\n",
              "      <th>Parch</th>\n",
              "      <th>Ticket</th>\n",
              "      <th>Fare</th>\n",
              "      <th>Cabin</th>\n",
              "      <th>Embarked</th>\n",
              "    </tr>\n",
              "  </thead>\n",
              "  <tbody>\n",
              "    <tr>\n",
              "      <th>0</th>\n",
              "      <td>1</td>\n",
              "      <td>0</td>\n",
              "      <td>3</td>\n",
              "      <td>Braund, Mr. Owen Harris</td>\n",
              "      <td>male</td>\n",
              "      <td>22.0</td>\n",
              "      <td>1</td>\n",
              "      <td>0</td>\n",
              "      <td>A/5 21171</td>\n",
              "      <td>7.2500</td>\n",
              "      <td>NaN</td>\n",
              "      <td>S</td>\n",
              "    </tr>\n",
              "    <tr>\n",
              "      <th>1</th>\n",
              "      <td>2</td>\n",
              "      <td>1</td>\n",
              "      <td>1</td>\n",
              "      <td>Cumings, Mrs. John Bradley (Florence Briggs Th...</td>\n",
              "      <td>female</td>\n",
              "      <td>38.0</td>\n",
              "      <td>1</td>\n",
              "      <td>0</td>\n",
              "      <td>PC 17599</td>\n",
              "      <td>71.2833</td>\n",
              "      <td>C85</td>\n",
              "      <td>C</td>\n",
              "    </tr>\n",
              "    <tr>\n",
              "      <th>2</th>\n",
              "      <td>3</td>\n",
              "      <td>1</td>\n",
              "      <td>3</td>\n",
              "      <td>Heikkinen, Miss. Laina</td>\n",
              "      <td>female</td>\n",
              "      <td>26.0</td>\n",
              "      <td>0</td>\n",
              "      <td>0</td>\n",
              "      <td>STON/O2. 3101282</td>\n",
              "      <td>7.9250</td>\n",
              "      <td>NaN</td>\n",
              "      <td>S</td>\n",
              "    </tr>\n",
              "    <tr>\n",
              "      <th>3</th>\n",
              "      <td>4</td>\n",
              "      <td>1</td>\n",
              "      <td>1</td>\n",
              "      <td>Futrelle, Mrs. Jacques Heath (Lily May Peel)</td>\n",
              "      <td>female</td>\n",
              "      <td>35.0</td>\n",
              "      <td>1</td>\n",
              "      <td>0</td>\n",
              "      <td>113803</td>\n",
              "      <td>53.1000</td>\n",
              "      <td>C123</td>\n",
              "      <td>S</td>\n",
              "    </tr>\n",
              "    <tr>\n",
              "      <th>4</th>\n",
              "      <td>5</td>\n",
              "      <td>0</td>\n",
              "      <td>3</td>\n",
              "      <td>Allen, Mr. William Henry</td>\n",
              "      <td>male</td>\n",
              "      <td>35.0</td>\n",
              "      <td>0</td>\n",
              "      <td>0</td>\n",
              "      <td>373450</td>\n",
              "      <td>8.0500</td>\n",
              "      <td>NaN</td>\n",
              "      <td>S</td>\n",
              "    </tr>\n",
              "    <tr>\n",
              "      <th>5</th>\n",
              "      <td>6</td>\n",
              "      <td>0</td>\n",
              "      <td>3</td>\n",
              "      <td>Moran, Mr. James</td>\n",
              "      <td>male</td>\n",
              "      <td>NaN</td>\n",
              "      <td>0</td>\n",
              "      <td>0</td>\n",
              "      <td>330877</td>\n",
              "      <td>8.4583</td>\n",
              "      <td>NaN</td>\n",
              "      <td>Q</td>\n",
              "    </tr>\n",
              "    <tr>\n",
              "      <th>6</th>\n",
              "      <td>7</td>\n",
              "      <td>0</td>\n",
              "      <td>1</td>\n",
              "      <td>McCarthy, Mr. Timothy J</td>\n",
              "      <td>male</td>\n",
              "      <td>54.0</td>\n",
              "      <td>0</td>\n",
              "      <td>0</td>\n",
              "      <td>17463</td>\n",
              "      <td>51.8625</td>\n",
              "      <td>E46</td>\n",
              "      <td>S</td>\n",
              "    </tr>\n",
              "    <tr>\n",
              "      <th>7</th>\n",
              "      <td>8</td>\n",
              "      <td>0</td>\n",
              "      <td>3</td>\n",
              "      <td>Palsson, Master. Gosta Leonard</td>\n",
              "      <td>male</td>\n",
              "      <td>2.0</td>\n",
              "      <td>3</td>\n",
              "      <td>1</td>\n",
              "      <td>349909</td>\n",
              "      <td>21.0750</td>\n",
              "      <td>NaN</td>\n",
              "      <td>S</td>\n",
              "    </tr>\n",
              "    <tr>\n",
              "      <th>8</th>\n",
              "      <td>9</td>\n",
              "      <td>1</td>\n",
              "      <td>3</td>\n",
              "      <td>Johnson, Mrs. Oscar W (Elisabeth Vilhelmina Berg)</td>\n",
              "      <td>female</td>\n",
              "      <td>27.0</td>\n",
              "      <td>0</td>\n",
              "      <td>2</td>\n",
              "      <td>347742</td>\n",
              "      <td>11.1333</td>\n",
              "      <td>NaN</td>\n",
              "      <td>S</td>\n",
              "    </tr>\n",
              "    <tr>\n",
              "      <th>9</th>\n",
              "      <td>10</td>\n",
              "      <td>1</td>\n",
              "      <td>2</td>\n",
              "      <td>Nasser, Mrs. Nicholas (Adele Achem)</td>\n",
              "      <td>female</td>\n",
              "      <td>14.0</td>\n",
              "      <td>1</td>\n",
              "      <td>0</td>\n",
              "      <td>237736</td>\n",
              "      <td>30.0708</td>\n",
              "      <td>NaN</td>\n",
              "      <td>C</td>\n",
              "    </tr>\n",
              "  </tbody>\n",
              "</table>\n",
              "</div>"
            ],
            "text/plain": [
              "   PassengerId  Survived  Pclass  ...     Fare Cabin  Embarked\n",
              "0            1         0       3  ...   7.2500   NaN         S\n",
              "1            2         1       1  ...  71.2833   C85         C\n",
              "2            3         1       3  ...   7.9250   NaN         S\n",
              "3            4         1       1  ...  53.1000  C123         S\n",
              "4            5         0       3  ...   8.0500   NaN         S\n",
              "5            6         0       3  ...   8.4583   NaN         Q\n",
              "6            7         0       1  ...  51.8625   E46         S\n",
              "7            8         0       3  ...  21.0750   NaN         S\n",
              "8            9         1       3  ...  11.1333   NaN         S\n",
              "9           10         1       2  ...  30.0708   NaN         C\n",
              "\n",
              "[10 rows x 12 columns]"
            ]
          },
          "metadata": {
            "tags": []
          },
          "execution_count": 4
        }
      ]
    },
    {
      "cell_type": "markdown",
      "metadata": {
        "id": "6LCcswtbSAvf"
      },
      "source": [
        "![titanic data description.png](data:image/png;base64,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)"
      ]
    },
    {
      "cell_type": "code",
      "metadata": {
        "id": "r8Bu0VBhvBut",
        "colab": {
          "base_uri": "https://localhost:8080/"
        },
        "outputId": "020449fb-9301-4933-e89d-4ba54421c4c9"
      },
      "source": [
        "train_df.columns"
      ],
      "execution_count": null,
      "outputs": [
        {
          "output_type": "execute_result",
          "data": {
            "text/plain": [
              "Index(['PassengerId', 'Survived', 'Pclass', 'Name', 'Sex', 'Age', 'SibSp',\n",
              "       'Parch', 'Ticket', 'Fare', 'Cabin', 'Embarked'],\n",
              "      dtype='object')"
            ]
          },
          "metadata": {
            "tags": []
          },
          "execution_count": 5
        }
      ]
    },
    {
      "cell_type": "code",
      "metadata": {
        "id": "D8O_9fvPCjJd",
        "colab": {
          "base_uri": "https://localhost:8080/"
        },
        "outputId": "d9c74d11-d19c-4bd5-9b42-40803df4677b"
      },
      "source": [
        "train_df.dtypes"
      ],
      "execution_count": null,
      "outputs": [
        {
          "output_type": "execute_result",
          "data": {
            "text/plain": [
              "PassengerId      int64\n",
              "Survived         int64\n",
              "Pclass           int64\n",
              "Name            object\n",
              "Sex             object\n",
              "Age            float64\n",
              "SibSp            int64\n",
              "Parch            int64\n",
              "Ticket          object\n",
              "Fare           float64\n",
              "Cabin           object\n",
              "Embarked        object\n",
              "dtype: object"
            ]
          },
          "metadata": {
            "tags": []
          },
          "execution_count": 6
        }
      ]
    },
    {
      "cell_type": "code",
      "metadata": {
        "id": "iT8feHpQCfrf",
        "colab": {
          "base_uri": "https://localhost:8080/"
        },
        "outputId": "a205c598-4029-4b1d-f750-c1aa7237536f"
      },
      "source": [
        "train_df.shape"
      ],
      "execution_count": null,
      "outputs": [
        {
          "output_type": "execute_result",
          "data": {
            "text/plain": [
              "(891, 12)"
            ]
          },
          "metadata": {
            "tags": []
          },
          "execution_count": 7
        }
      ]
    },
    {
      "cell_type": "code",
      "metadata": {
        "id": "2D9Id5y2u18O",
        "colab": {
          "base_uri": "https://localhost:8080/"
        },
        "outputId": "337fc145-89e0-493d-f0b5-3e1474ab4c70"
      },
      "source": [
        "train_df.info()"
      ],
      "execution_count": null,
      "outputs": [
        {
          "output_type": "stream",
          "text": [
            "<class 'pandas.core.frame.DataFrame'>\n",
            "RangeIndex: 891 entries, 0 to 890\n",
            "Data columns (total 12 columns):\n",
            " #   Column       Non-Null Count  Dtype  \n",
            "---  ------       --------------  -----  \n",
            " 0   PassengerId  891 non-null    int64  \n",
            " 1   Survived     891 non-null    int64  \n",
            " 2   Pclass       891 non-null    int64  \n",
            " 3   Name         891 non-null    object \n",
            " 4   Sex          891 non-null    object \n",
            " 5   Age          714 non-null    float64\n",
            " 6   SibSp        891 non-null    int64  \n",
            " 7   Parch        891 non-null    int64  \n",
            " 8   Ticket       891 non-null    object \n",
            " 9   Fare         891 non-null    float64\n",
            " 10  Cabin        204 non-null    object \n",
            " 11  Embarked     889 non-null    object \n",
            "dtypes: float64(2), int64(5), object(5)\n",
            "memory usage: 83.7+ KB\n"
          ],
          "name": "stdout"
        }
      ]
    },
    {
      "cell_type": "code",
      "metadata": {
        "id": "sf70LjMsu4vL",
        "colab": {
          "base_uri": "https://localhost:8080/",
          "height": 283
        },
        "outputId": "e8963c35-b8bd-4e8a-a098-d962c1e15d51"
      },
      "source": [
        "train_df.describe()"
      ],
      "execution_count": null,
      "outputs": [
        {
          "output_type": "execute_result",
          "data": {
            "text/html": [
              "<div>\n",
              "<style scoped>\n",
              "    .dataframe tbody tr th:only-of-type {\n",
              "        vertical-align: middle;\n",
              "    }\n",
              "\n",
              "    .dataframe tbody tr th {\n",
              "        vertical-align: top;\n",
              "    }\n",
              "\n",
              "    .dataframe thead th {\n",
              "        text-align: right;\n",
              "    }\n",
              "</style>\n",
              "<table border=\"1\" class=\"dataframe\">\n",
              "  <thead>\n",
              "    <tr style=\"text-align: right;\">\n",
              "      <th></th>\n",
              "      <th>PassengerId</th>\n",
              "      <th>Survived</th>\n",
              "      <th>Pclass</th>\n",
              "      <th>Age</th>\n",
              "      <th>SibSp</th>\n",
              "      <th>Parch</th>\n",
              "      <th>Fare</th>\n",
              "    </tr>\n",
              "  </thead>\n",
              "  <tbody>\n",
              "    <tr>\n",
              "      <th>count</th>\n",
              "      <td>891.000000</td>\n",
              "      <td>891.000000</td>\n",
              "      <td>891.000000</td>\n",
              "      <td>714.000000</td>\n",
              "      <td>891.000000</td>\n",
              "      <td>891.000000</td>\n",
              "      <td>891.000000</td>\n",
              "    </tr>\n",
              "    <tr>\n",
              "      <th>mean</th>\n",
              "      <td>446.000000</td>\n",
              "      <td>0.383838</td>\n",
              "      <td>2.308642</td>\n",
              "      <td>29.699118</td>\n",
              "      <td>0.523008</td>\n",
              "      <td>0.381594</td>\n",
              "      <td>32.204208</td>\n",
              "    </tr>\n",
              "    <tr>\n",
              "      <th>std</th>\n",
              "      <td>257.353842</td>\n",
              "      <td>0.486592</td>\n",
              "      <td>0.836071</td>\n",
              "      <td>14.526497</td>\n",
              "      <td>1.102743</td>\n",
              "      <td>0.806057</td>\n",
              "      <td>49.693429</td>\n",
              "    </tr>\n",
              "    <tr>\n",
              "      <th>min</th>\n",
              "      <td>1.000000</td>\n",
              "      <td>0.000000</td>\n",
              "      <td>1.000000</td>\n",
              "      <td>0.420000</td>\n",
              "      <td>0.000000</td>\n",
              "      <td>0.000000</td>\n",
              "      <td>0.000000</td>\n",
              "    </tr>\n",
              "    <tr>\n",
              "      <th>25%</th>\n",
              "      <td>223.500000</td>\n",
              "      <td>0.000000</td>\n",
              "      <td>2.000000</td>\n",
              "      <td>20.125000</td>\n",
              "      <td>0.000000</td>\n",
              "      <td>0.000000</td>\n",
              "      <td>7.910400</td>\n",
              "    </tr>\n",
              "    <tr>\n",
              "      <th>50%</th>\n",
              "      <td>446.000000</td>\n",
              "      <td>0.000000</td>\n",
              "      <td>3.000000</td>\n",
              "      <td>28.000000</td>\n",
              "      <td>0.000000</td>\n",
              "      <td>0.000000</td>\n",
              "      <td>14.454200</td>\n",
              "    </tr>\n",
              "    <tr>\n",
              "      <th>75%</th>\n",
              "      <td>668.500000</td>\n",
              "      <td>1.000000</td>\n",
              "      <td>3.000000</td>\n",
              "      <td>38.000000</td>\n",
              "      <td>1.000000</td>\n",
              "      <td>0.000000</td>\n",
              "      <td>31.000000</td>\n",
              "    </tr>\n",
              "    <tr>\n",
              "      <th>max</th>\n",
              "      <td>891.000000</td>\n",
              "      <td>1.000000</td>\n",
              "      <td>3.000000</td>\n",
              "      <td>80.000000</td>\n",
              "      <td>8.000000</td>\n",
              "      <td>6.000000</td>\n",
              "      <td>512.329200</td>\n",
              "    </tr>\n",
              "  </tbody>\n",
              "</table>\n",
              "</div>"
            ],
            "text/plain": [
              "       PassengerId    Survived      Pclass  ...       SibSp       Parch        Fare\n",
              "count   891.000000  891.000000  891.000000  ...  891.000000  891.000000  891.000000\n",
              "mean    446.000000    0.383838    2.308642  ...    0.523008    0.381594   32.204208\n",
              "std     257.353842    0.486592    0.836071  ...    1.102743    0.806057   49.693429\n",
              "min       1.000000    0.000000    1.000000  ...    0.000000    0.000000    0.000000\n",
              "25%     223.500000    0.000000    2.000000  ...    0.000000    0.000000    7.910400\n",
              "50%     446.000000    0.000000    3.000000  ...    0.000000    0.000000   14.454200\n",
              "75%     668.500000    1.000000    3.000000  ...    1.000000    0.000000   31.000000\n",
              "max     891.000000    1.000000    3.000000  ...    8.000000    6.000000  512.329200\n",
              "\n",
              "[8 rows x 7 columns]"
            ]
          },
          "metadata": {
            "tags": []
          },
          "execution_count": 9
        }
      ]
    },
    {
      "cell_type": "markdown",
      "metadata": {
        "id": "KK4WyZgm343-"
      },
      "source": [
        "# Data Preprocessing"
      ]
    },
    {
      "cell_type": "markdown",
      "metadata": {
        "id": "lVzvUbr7wBZ4"
      },
      "source": [
        "## Checking for missing values"
      ]
    },
    {
      "cell_type": "code",
      "metadata": {
        "id": "svtzxINGxEew",
        "colab": {
          "base_uri": "https://localhost:8080/"
        },
        "outputId": "650d0443-2c4d-4352-dbde-d0bc2f16425f"
      },
      "source": [
        "train_df.isna().sum()"
      ],
      "execution_count": null,
      "outputs": [
        {
          "output_type": "execute_result",
          "data": {
            "text/plain": [
              "PassengerId      0\n",
              "Survived         0\n",
              "Pclass           0\n",
              "Name             0\n",
              "Sex              0\n",
              "Age            177\n",
              "SibSp            0\n",
              "Parch            0\n",
              "Ticket           0\n",
              "Fare             0\n",
              "Cabin          687\n",
              "Embarked         2\n",
              "dtype: int64"
            ]
          },
          "metadata": {
            "tags": []
          },
          "execution_count": 10
        }
      ]
    },
    {
      "cell_type": "code",
      "metadata": {
        "id": "EcvNSAeV6sgz",
        "colab": {
          "base_uri": "https://localhost:8080/"
        },
        "outputId": "12aaea96-3ce2-4f50-e5c1-68f765ac6949"
      },
      "source": [
        "test_df.isna().sum()"
      ],
      "execution_count": null,
      "outputs": [
        {
          "output_type": "execute_result",
          "data": {
            "text/plain": [
              "PassengerId      0\n",
              "Pclass           0\n",
              "Name             0\n",
              "Sex              0\n",
              "Age             86\n",
              "SibSp            0\n",
              "Parch            0\n",
              "Ticket           0\n",
              "Fare             1\n",
              "Cabin          327\n",
              "Embarked         0\n",
              "dtype: int64"
            ]
          },
          "metadata": {
            "tags": []
          },
          "execution_count": 11
        }
      ]
    },
    {
      "cell_type": "markdown",
      "metadata": {
        "id": "NdRW-zt1C0Cp"
      },
      "source": [
        "## Dropping columns"
      ]
    },
    {
      "cell_type": "markdown",
      "metadata": {
        "id": "0tZpuZ9iD2zF"
      },
      "source": [
        "The '**Cabin**' feature has a lot of missing values. \n",
        "It seems like the features 'Cabin', 'PassengerId', 'Name' and 'Ticket' probably won't help us in understanding whether a person survives or not. So, these columns can be dropped from the dataset."
      ]
    },
    {
      "cell_type": "markdown",
      "metadata": {
        "id": "v5PxDjYUeuLR"
      },
      "source": [
        "**ToDo**\n",
        "* Drop the 'Cabin', 'PassengerId', 'Name' and 'Ticket' columns from both the train and test data."
      ]
    },
    {
      "cell_type": "code",
      "metadata": {
        "id": "6msLqR2FfGHW"
      },
      "source": [
        "# ADD YOUR CODE HERE\n",
        "train_df = train_df.drop(['Cabin', 'PassengerId', 'Name', 'Ticket'], axis = 1)\n",
        "test_df = test_df.drop(['Cabin', 'PassengerId', 'Name', 'Ticket'], axis = 1)"
      ],
      "execution_count": null,
      "outputs": []
    },
    {
      "cell_type": "code",
      "metadata": {
        "colab": {
          "base_uri": "https://localhost:8080/"
        },
        "id": "BS493pFgpkTG",
        "outputId": "7db2b8ab-9b1f-43bd-81dd-514c9d9d3976"
      },
      "source": [
        "print(train_df.isna().sum())\n",
        "print(test_df.isna().sum())"
      ],
      "execution_count": null,
      "outputs": [
        {
          "output_type": "stream",
          "text": [
            "Survived      0\n",
            "Pclass        0\n",
            "Sex           0\n",
            "Age         177\n",
            "SibSp         0\n",
            "Parch         0\n",
            "Fare          0\n",
            "Embarked      2\n",
            "dtype: int64\n",
            "Pclass       0\n",
            "Sex          0\n",
            "Age         86\n",
            "SibSp        0\n",
            "Parch        0\n",
            "Fare         1\n",
            "Embarked     0\n",
            "dtype: int64\n"
          ],
          "name": "stdout"
        }
      ]
    },
    {
      "cell_type": "markdown",
      "metadata": {
        "id": "vYhIMbLQIWfS"
      },
      "source": [
        "## Replacing missing values in numerical data with **Mean**"
      ]
    },
    {
      "cell_type": "markdown",
      "metadata": {
        "id": "UmMpjuO6tS8S"
      },
      "source": [
        "The '**Age**' feature has a lot of missing values. However, since the age of a passenger might be highly correlated with whether a passenger survives or not, dropping the 'Age' column could reduce the performance of the model significantly."
      ]
    },
    {
      "cell_type": "markdown",
      "metadata": {
        "id": "3oK8JzdV_mgN"
      },
      "source": [
        "**ToDo**\n",
        "* Compute the mean of the **Age** values in the **train** data.\n",
        "* Replace the missing values of the 'Age' feature in the **train** data with the calculated mean from the previous step.\n",
        "* The preprocessing techniques and parameters used on the train data should be used as it is on the test data.\n",
        "* So, replace the missing values of the 'Age' feature in the **test** data using the same calculated mean(from the first step).\n",
        "\n",
        "**HINTS**: \n",
        "  * You can use `df['column_name'].mean()` to calculate the mean.\n",
        "  * You can use `df['column_name'].fillna()` to fill the missing values.\n"
      ]
    },
    {
      "cell_type": "code",
      "metadata": {
        "id": "iXz7eYoWc9ZA"
      },
      "source": [
        "train_df = train_df.fillna(value = {'Age': train_df['Age'].mean()})\n",
        "test_df = test_df.fillna(value = {'Age': train_df['Age'].mean()})"
      ],
      "execution_count": null,
      "outputs": []
    },
    {
      "cell_type": "code",
      "metadata": {
        "colab": {
          "base_uri": "https://localhost:8080/"
        },
        "id": "3FPOrtecXm0O",
        "outputId": "82749f0b-39f3-4c6b-8076-e9be8dab0728"
      },
      "source": [
        "train_df['Age']"
      ],
      "execution_count": null,
      "outputs": [
        {
          "output_type": "execute_result",
          "data": {
            "text/plain": [
              "0      22.000000\n",
              "1      38.000000\n",
              "2      26.000000\n",
              "3      35.000000\n",
              "4      35.000000\n",
              "         ...    \n",
              "886    27.000000\n",
              "887    19.000000\n",
              "888    29.699118\n",
              "889    26.000000\n",
              "890    32.000000\n",
              "Name: Age, Length: 891, dtype: float64"
            ]
          },
          "metadata": {
            "tags": []
          },
          "execution_count": 15
        }
      ]
    },
    {
      "cell_type": "code",
      "metadata": {
        "colab": {
          "base_uri": "https://localhost:8080/"
        },
        "id": "KWnTGCBwXOO4",
        "outputId": "dadf2b87-d318-4253-ab9a-39938e3c6622"
      },
      "source": [
        "print(train_df.isna().sum())\n",
        "print(test_df.isna().sum())"
      ],
      "execution_count": null,
      "outputs": [
        {
          "output_type": "stream",
          "text": [
            "Survived    0\n",
            "Pclass      0\n",
            "Sex         0\n",
            "Age         0\n",
            "SibSp       0\n",
            "Parch       0\n",
            "Fare        0\n",
            "Embarked    2\n",
            "dtype: int64\n",
            "Pclass      0\n",
            "Sex         0\n",
            "Age         0\n",
            "SibSp       0\n",
            "Parch       0\n",
            "Fare        1\n",
            "Embarked    0\n",
            "dtype: int64\n"
          ],
          "name": "stdout"
        }
      ]
    },
    {
      "cell_type": "markdown",
      "metadata": {
        "id": "u3tzna5sBbkq"
      },
      "source": [
        "**ToDo**\n",
        "The test data has missing values in the **Fare** feature. \n",
        "* Compute the mean of the **Fare** values in the **train** data.\n",
        "* Replace the missing values of the **Fare** feature in the **test** data with the calculated mean from the previous step.\n",
        "\n",
        "**HINTS**: \n",
        "  * You can use `df['column_name'].mean()` to calculate the mean.\n",
        "  * You can use `df['column_name'].fillna()` to fill the missing values.\n"
      ]
    },
    {
      "cell_type": "code",
      "metadata": {
        "id": "ZRDDlHnSAACU"
      },
      "source": [
        "# ADD YOUR CODE HERE\n",
        "test_df = test_df.fillna(value = {'Fare': train_df['Fare'].mean()})"
      ],
      "execution_count": null,
      "outputs": []
    },
    {
      "cell_type": "code",
      "metadata": {
        "colab": {
          "base_uri": "https://localhost:8080/"
        },
        "id": "BXAtlMwfjWlI",
        "outputId": "ad1300d0-6998-452b-c2b8-84ff5e8fa750"
      },
      "source": [
        "print(train_df.isna().sum())\n",
        "print(test_df.isna().sum())"
      ],
      "execution_count": null,
      "outputs": [
        {
          "output_type": "stream",
          "text": [
            "Survived    0\n",
            "Pclass      0\n",
            "Sex         0\n",
            "Age         0\n",
            "SibSp       0\n",
            "Parch       0\n",
            "Fare        0\n",
            "Embarked    2\n",
            "dtype: int64\n",
            "Pclass      0\n",
            "Sex         0\n",
            "Age         0\n",
            "SibSp       0\n",
            "Parch       0\n",
            "Fare        0\n",
            "Embarked    0\n",
            "dtype: int64\n"
          ],
          "name": "stdout"
        }
      ]
    },
    {
      "cell_type": "markdown",
      "metadata": {
        "id": "Tl8U4S1iKQB8"
      },
      "source": [
        "## Replacing non-numerical(categorical) missing values with **Mode**"
      ]
    },
    {
      "cell_type": "markdown",
      "metadata": {
        "id": "ftxMuKq4KXqz"
      },
      "source": [
        "The '**Embarked**' feature has 2 missing values.<br>\n",
        "It's a non-numerical(categorical) feature. So, we can replace it with the most frequent value. **Mode** gives us the most frequent value."
      ]
    },
    {
      "cell_type": "markdown",
      "metadata": {
        "id": "-0gRY7rDU9tN"
      },
      "source": [
        "**ToDo**\n",
        "\n",
        "* Compute the mode value of the **Embarked** feature.\n",
        "* Replace the missing values in the **Embarked** feature in the **train** data with the calculated mode from the previous step.\n",
        "* Since there aren't any missing Embarked values in test data, we don't have to perform this step on the test data.\n",
        "\n",
        "**HINTS**: \n",
        "  * You can use `df['column_name'].mode()[0]` to get the mode value.\n",
        "  * You can use `df['column_name'].fillna()` to fill the missing values.\n"
      ]
    },
    {
      "cell_type": "code",
      "metadata": {
        "id": "5YHalT8kKHKo"
      },
      "source": [
        "# ADD YOUR CODE HERE\n",
        "train_df = train_df.fillna(value = {'Embarked': train_df['Embarked'].mode()[0]})\n"
      ],
      "execution_count": null,
      "outputs": []
    },
    {
      "cell_type": "code",
      "metadata": {
        "colab": {
          "base_uri": "https://localhost:8080/"
        },
        "id": "ranhnZhtjgWR",
        "outputId": "2b504f7e-5bec-4167-e32a-3e21fd88f146"
      },
      "source": [
        "print(train_df.isna().sum())\n",
        "print(test_df.isna().sum())"
      ],
      "execution_count": null,
      "outputs": [
        {
          "output_type": "stream",
          "text": [
            "Survived    0\n",
            "Pclass      0\n",
            "Sex         0\n",
            "Age         0\n",
            "SibSp       0\n",
            "Parch       0\n",
            "Fare        0\n",
            "Embarked    0\n",
            "dtype: int64\n",
            "Pclass      0\n",
            "Sex         0\n",
            "Age         0\n",
            "SibSp       0\n",
            "Parch       0\n",
            "Fare        0\n",
            "Embarked    0\n",
            "dtype: int64\n"
          ],
          "name": "stdout"
        }
      ]
    },
    {
      "cell_type": "markdown",
      "metadata": {
        "id": "bL8wRPYpbNPL"
      },
      "source": [
        "## Converting all the data to Numerical data"
      ]
    },
    {
      "cell_type": "markdown",
      "metadata": {
        "id": "e-lcoM-wemWX"
      },
      "source": [
        "'Sex' and 'Embarked' are non-numerical (categorical) columns."
      ]
    },
    {
      "cell_type": "code",
      "metadata": {
        "id": "Ps3JJmFgbe9I",
        "colab": {
          "base_uri": "https://localhost:8080/"
        },
        "outputId": "cb27dd4f-9d2e-4775-dacc-712f6424b9ea"
      },
      "source": [
        "train_df.dtypes"
      ],
      "execution_count": null,
      "outputs": [
        {
          "output_type": "execute_result",
          "data": {
            "text/plain": [
              "Survived      int64\n",
              "Pclass        int64\n",
              "Sex          object\n",
              "Age         float64\n",
              "SibSp         int64\n",
              "Parch         int64\n",
              "Fare        float64\n",
              "Embarked     object\n",
              "dtype: object"
            ]
          },
          "metadata": {
            "tags": []
          },
          "execution_count": 21
        }
      ]
    },
    {
      "cell_type": "markdown",
      "metadata": {
        "id": "5AbJzyauggDZ"
      },
      "source": [
        "One-hot encoding is one of the methods used to convert non-numerical features like 'Embarked' and 'Sex' to numerical.<br>\n",
        "Apply One-hot encoding on the train and test datasets using `pd.get_dummies(df)`. "
      ]
    },
    {
      "cell_type": "code",
      "metadata": {
        "id": "VioNSWNspyH3",
        "colab": {
          "base_uri": "https://localhost:8080/",
          "height": 419
        },
        "outputId": "2d7c7384-a53f-4991-c2b8-4da308dc4b3e"
      },
      "source": [
        "train_df = pd.get_dummies(train_df)\n",
        "test_df = pd.get_dummies(test_df)\n",
        "train_df"
      ],
      "execution_count": null,
      "outputs": [
        {
          "output_type": "execute_result",
          "data": {
            "text/html": [
              "<div>\n",
              "<style scoped>\n",
              "    .dataframe tbody tr th:only-of-type {\n",
              "        vertical-align: middle;\n",
              "    }\n",
              "\n",
              "    .dataframe tbody tr th {\n",
              "        vertical-align: top;\n",
              "    }\n",
              "\n",
              "    .dataframe thead th {\n",
              "        text-align: right;\n",
              "    }\n",
              "</style>\n",
              "<table border=\"1\" class=\"dataframe\">\n",
              "  <thead>\n",
              "    <tr style=\"text-align: right;\">\n",
              "      <th></th>\n",
              "      <th>Survived</th>\n",
              "      <th>Pclass</th>\n",
              "      <th>Age</th>\n",
              "      <th>SibSp</th>\n",
              "      <th>Parch</th>\n",
              "      <th>Fare</th>\n",
              "      <th>Sex_female</th>\n",
              "      <th>Sex_male</th>\n",
              "      <th>Embarked_C</th>\n",
              "      <th>Embarked_Q</th>\n",
              "      <th>Embarked_S</th>\n",
              "    </tr>\n",
              "  </thead>\n",
              "  <tbody>\n",
              "    <tr>\n",
              "      <th>0</th>\n",
              "      <td>0</td>\n",
              "      <td>3</td>\n",
              "      <td>22.000000</td>\n",
              "      <td>1</td>\n",
              "      <td>0</td>\n",
              "      <td>7.2500</td>\n",
              "      <td>0</td>\n",
              "      <td>1</td>\n",
              "      <td>0</td>\n",
              "      <td>0</td>\n",
              "      <td>1</td>\n",
              "    </tr>\n",
              "    <tr>\n",
              "      <th>1</th>\n",
              "      <td>1</td>\n",
              "      <td>1</td>\n",
              "      <td>38.000000</td>\n",
              "      <td>1</td>\n",
              "      <td>0</td>\n",
              "      <td>71.2833</td>\n",
              "      <td>1</td>\n",
              "      <td>0</td>\n",
              "      <td>1</td>\n",
              "      <td>0</td>\n",
              "      <td>0</td>\n",
              "    </tr>\n",
              "    <tr>\n",
              "      <th>2</th>\n",
              "      <td>1</td>\n",
              "      <td>3</td>\n",
              "      <td>26.000000</td>\n",
              "      <td>0</td>\n",
              "      <td>0</td>\n",
              "      <td>7.9250</td>\n",
              "      <td>1</td>\n",
              "      <td>0</td>\n",
              "      <td>0</td>\n",
              "      <td>0</td>\n",
              "      <td>1</td>\n",
              "    </tr>\n",
              "    <tr>\n",
              "      <th>3</th>\n",
              "      <td>1</td>\n",
              "      <td>1</td>\n",
              "      <td>35.000000</td>\n",
              "      <td>1</td>\n",
              "      <td>0</td>\n",
              "      <td>53.1000</td>\n",
              "      <td>1</td>\n",
              "      <td>0</td>\n",
              "      <td>0</td>\n",
              "      <td>0</td>\n",
              "      <td>1</td>\n",
              "    </tr>\n",
              "    <tr>\n",
              "      <th>4</th>\n",
              "      <td>0</td>\n",
              "      <td>3</td>\n",
              "      <td>35.000000</td>\n",
              "      <td>0</td>\n",
              "      <td>0</td>\n",
              "      <td>8.0500</td>\n",
              "      <td>0</td>\n",
              "      <td>1</td>\n",
              "      <td>0</td>\n",
              "      <td>0</td>\n",
              "      <td>1</td>\n",
              "    </tr>\n",
              "    <tr>\n",
              "      <th>...</th>\n",
              "      <td>...</td>\n",
              "      <td>...</td>\n",
              "      <td>...</td>\n",
              "      <td>...</td>\n",
              "      <td>...</td>\n",
              "      <td>...</td>\n",
              "      <td>...</td>\n",
              "      <td>...</td>\n",
              "      <td>...</td>\n",
              "      <td>...</td>\n",
              "      <td>...</td>\n",
              "    </tr>\n",
              "    <tr>\n",
              "      <th>886</th>\n",
              "      <td>0</td>\n",
              "      <td>2</td>\n",
              "      <td>27.000000</td>\n",
              "      <td>0</td>\n",
              "      <td>0</td>\n",
              "      <td>13.0000</td>\n",
              "      <td>0</td>\n",
              "      <td>1</td>\n",
              "      <td>0</td>\n",
              "      <td>0</td>\n",
              "      <td>1</td>\n",
              "    </tr>\n",
              "    <tr>\n",
              "      <th>887</th>\n",
              "      <td>1</td>\n",
              "      <td>1</td>\n",
              "      <td>19.000000</td>\n",
              "      <td>0</td>\n",
              "      <td>0</td>\n",
              "      <td>30.0000</td>\n",
              "      <td>1</td>\n",
              "      <td>0</td>\n",
              "      <td>0</td>\n",
              "      <td>0</td>\n",
              "      <td>1</td>\n",
              "    </tr>\n",
              "    <tr>\n",
              "      <th>888</th>\n",
              "      <td>0</td>\n",
              "      <td>3</td>\n",
              "      <td>29.699118</td>\n",
              "      <td>1</td>\n",
              "      <td>2</td>\n",
              "      <td>23.4500</td>\n",
              "      <td>1</td>\n",
              "      <td>0</td>\n",
              "      <td>0</td>\n",
              "      <td>0</td>\n",
              "      <td>1</td>\n",
              "    </tr>\n",
              "    <tr>\n",
              "      <th>889</th>\n",
              "      <td>1</td>\n",
              "      <td>1</td>\n",
              "      <td>26.000000</td>\n",
              "      <td>0</td>\n",
              "      <td>0</td>\n",
              "      <td>30.0000</td>\n",
              "      <td>0</td>\n",
              "      <td>1</td>\n",
              "      <td>1</td>\n",
              "      <td>0</td>\n",
              "      <td>0</td>\n",
              "    </tr>\n",
              "    <tr>\n",
              "      <th>890</th>\n",
              "      <td>0</td>\n",
              "      <td>3</td>\n",
              "      <td>32.000000</td>\n",
              "      <td>0</td>\n",
              "      <td>0</td>\n",
              "      <td>7.7500</td>\n",
              "      <td>0</td>\n",
              "      <td>1</td>\n",
              "      <td>0</td>\n",
              "      <td>1</td>\n",
              "      <td>0</td>\n",
              "    </tr>\n",
              "  </tbody>\n",
              "</table>\n",
              "<p>891 rows × 11 columns</p>\n",
              "</div>"
            ],
            "text/plain": [
              "     Survived  Pclass        Age  ...  Embarked_C  Embarked_Q  Embarked_S\n",
              "0           0       3  22.000000  ...           0           0           1\n",
              "1           1       1  38.000000  ...           1           0           0\n",
              "2           1       3  26.000000  ...           0           0           1\n",
              "3           1       1  35.000000  ...           0           0           1\n",
              "4           0       3  35.000000  ...           0           0           1\n",
              "..        ...     ...        ...  ...         ...         ...         ...\n",
              "886         0       2  27.000000  ...           0           0           1\n",
              "887         1       1  19.000000  ...           0           0           1\n",
              "888         0       3  29.699118  ...           0           0           1\n",
              "889         1       1  26.000000  ...           1           0           0\n",
              "890         0       3  32.000000  ...           0           1           0\n",
              "\n",
              "[891 rows x 11 columns]"
            ]
          },
          "metadata": {
            "tags": []
          },
          "execution_count": 22
        }
      ]
    },
    {
      "cell_type": "markdown",
      "metadata": {
        "id": "PA4TFyBKgKug"
      },
      "source": [
        "* Note that executing the code given above produced five new columns:\n",
        "     * 'Embarked_C', 'Embarked_Q', and 'Embarked_S' in place of the 'Embarked' column\n",
        "     * 'Sex_male' and 'Sex_female' in place of the 'Sex' column \n",
        "* All of these columns contain binary values (0 or 1).\n",
        "* *Example*: If the value in the 'Sex' column is 'male', then it will be replaced by the two columns 'Sex_male' with 1 and 'Sex_female' with 0."
      ]
    },
    {
      "cell_type": "markdown",
      "metadata": {
        "id": "-ZDNzYO5DCPw"
      },
      "source": [
        "##**ToDo**\n",
        "## Separate target feature **Survived** in the train data\n",
        "\n",
        "**HINT**: You can use `df.pop('column_name')` to separate a column."
      ]
    },
    {
      "cell_type": "code",
      "metadata": {
        "id": "hDADLQO5AoSE"
      },
      "source": [
        "# ADD YOUR CODE HERE\n",
        "y = train_df.pop('Survived')\n"
      ],
      "execution_count": null,
      "outputs": []
    },
    {
      "cell_type": "code",
      "metadata": {
        "id": "EwI41YKdBHsv",
        "colab": {
          "base_uri": "https://localhost:8080/",
          "height": 399
        },
        "outputId": "c84814c6-8d95-46a8-eea4-c6d82687a5e9"
      },
      "source": [
        "train_df"
      ],
      "execution_count": null,
      "outputs": [
        {
          "output_type": "execute_result",
          "data": {
            "text/html": [
              "<div>\n",
              "<style scoped>\n",
              "    .dataframe tbody tr th:only-of-type {\n",
              "        vertical-align: middle;\n",
              "    }\n",
              "\n",
              "    .dataframe tbody tr th {\n",
              "        vertical-align: top;\n",
              "    }\n",
              "\n",
              "    .dataframe thead th {\n",
              "        text-align: right;\n",
              "    }\n",
              "</style>\n",
              "<table border=\"1\" class=\"dataframe\">\n",
              "  <thead>\n",
              "    <tr style=\"text-align: right;\">\n",
              "      <th></th>\n",
              "      <th>Pclass</th>\n",
              "      <th>Age</th>\n",
              "      <th>SibSp</th>\n",
              "      <th>Parch</th>\n",
              "      <th>Fare</th>\n",
              "      <th>Sex_female</th>\n",
              "      <th>Sex_male</th>\n",
              "      <th>Embarked_C</th>\n",
              "      <th>Embarked_Q</th>\n",
              "      <th>Embarked_S</th>\n",
              "    </tr>\n",
              "  </thead>\n",
              "  <tbody>\n",
              "    <tr>\n",
              "      <th>0</th>\n",
              "      <td>3</td>\n",
              "      <td>22.000000</td>\n",
              "      <td>1</td>\n",
              "      <td>0</td>\n",
              "      <td>7.2500</td>\n",
              "      <td>0</td>\n",
              "      <td>1</td>\n",
              "      <td>0</td>\n",
              "      <td>0</td>\n",
              "      <td>1</td>\n",
              "    </tr>\n",
              "    <tr>\n",
              "      <th>1</th>\n",
              "      <td>1</td>\n",
              "      <td>38.000000</td>\n",
              "      <td>1</td>\n",
              "      <td>0</td>\n",
              "      <td>71.2833</td>\n",
              "      <td>1</td>\n",
              "      <td>0</td>\n",
              "      <td>1</td>\n",
              "      <td>0</td>\n",
              "      <td>0</td>\n",
              "    </tr>\n",
              "    <tr>\n",
              "      <th>2</th>\n",
              "      <td>3</td>\n",
              "      <td>26.000000</td>\n",
              "      <td>0</td>\n",
              "      <td>0</td>\n",
              "      <td>7.9250</td>\n",
              "      <td>1</td>\n",
              "      <td>0</td>\n",
              "      <td>0</td>\n",
              "      <td>0</td>\n",
              "      <td>1</td>\n",
              "    </tr>\n",
              "    <tr>\n",
              "      <th>3</th>\n",
              "      <td>1</td>\n",
              "      <td>35.000000</td>\n",
              "      <td>1</td>\n",
              "      <td>0</td>\n",
              "      <td>53.1000</td>\n",
              "      <td>1</td>\n",
              "      <td>0</td>\n",
              "      <td>0</td>\n",
              "      <td>0</td>\n",
              "      <td>1</td>\n",
              "    </tr>\n",
              "    <tr>\n",
              "      <th>4</th>\n",
              "      <td>3</td>\n",
              "      <td>35.000000</td>\n",
              "      <td>0</td>\n",
              "      <td>0</td>\n",
              "      <td>8.0500</td>\n",
              "      <td>0</td>\n",
              "      <td>1</td>\n",
              "      <td>0</td>\n",
              "      <td>0</td>\n",
              "      <td>1</td>\n",
              "    </tr>\n",
              "    <tr>\n",
              "      <th>...</th>\n",
              "      <td>...</td>\n",
              "      <td>...</td>\n",
              "      <td>...</td>\n",
              "      <td>...</td>\n",
              "      <td>...</td>\n",
              "      <td>...</td>\n",
              "      <td>...</td>\n",
              "      <td>...</td>\n",
              "      <td>...</td>\n",
              "      <td>...</td>\n",
              "    </tr>\n",
              "    <tr>\n",
              "      <th>886</th>\n",
              "      <td>2</td>\n",
              "      <td>27.000000</td>\n",
              "      <td>0</td>\n",
              "      <td>0</td>\n",
              "      <td>13.0000</td>\n",
              "      <td>0</td>\n",
              "      <td>1</td>\n",
              "      <td>0</td>\n",
              "      <td>0</td>\n",
              "      <td>1</td>\n",
              "    </tr>\n",
              "    <tr>\n",
              "      <th>887</th>\n",
              "      <td>1</td>\n",
              "      <td>19.000000</td>\n",
              "      <td>0</td>\n",
              "      <td>0</td>\n",
              "      <td>30.0000</td>\n",
              "      <td>1</td>\n",
              "      <td>0</td>\n",
              "      <td>0</td>\n",
              "      <td>0</td>\n",
              "      <td>1</td>\n",
              "    </tr>\n",
              "    <tr>\n",
              "      <th>888</th>\n",
              "      <td>3</td>\n",
              "      <td>29.699118</td>\n",
              "      <td>1</td>\n",
              "      <td>2</td>\n",
              "      <td>23.4500</td>\n",
              "      <td>1</td>\n",
              "      <td>0</td>\n",
              "      <td>0</td>\n",
              "      <td>0</td>\n",
              "      <td>1</td>\n",
              "    </tr>\n",
              "    <tr>\n",
              "      <th>889</th>\n",
              "      <td>1</td>\n",
              "      <td>26.000000</td>\n",
              "      <td>0</td>\n",
              "      <td>0</td>\n",
              "      <td>30.0000</td>\n",
              "      <td>0</td>\n",
              "      <td>1</td>\n",
              "      <td>1</td>\n",
              "      <td>0</td>\n",
              "      <td>0</td>\n",
              "    </tr>\n",
              "    <tr>\n",
              "      <th>890</th>\n",
              "      <td>3</td>\n",
              "      <td>32.000000</td>\n",
              "      <td>0</td>\n",
              "      <td>0</td>\n",
              "      <td>7.7500</td>\n",
              "      <td>0</td>\n",
              "      <td>1</td>\n",
              "      <td>0</td>\n",
              "      <td>1</td>\n",
              "      <td>0</td>\n",
              "    </tr>\n",
              "  </tbody>\n",
              "</table>\n",
              "<p>891 rows × 10 columns</p>\n",
              "</div>"
            ],
            "text/plain": [
              "     Pclass        Age  SibSp  ...  Embarked_C  Embarked_Q  Embarked_S\n",
              "0         3  22.000000      1  ...           0           0           1\n",
              "1         1  38.000000      1  ...           1           0           0\n",
              "2         3  26.000000      0  ...           0           0           1\n",
              "3         1  35.000000      1  ...           0           0           1\n",
              "4         3  35.000000      0  ...           0           0           1\n",
              "..      ...        ...    ...  ...         ...         ...         ...\n",
              "886       2  27.000000      0  ...           0           0           1\n",
              "887       1  19.000000      0  ...           0           0           1\n",
              "888       3  29.699118      1  ...           0           0           1\n",
              "889       1  26.000000      0  ...           1           0           0\n",
              "890       3  32.000000      0  ...           0           1           0\n",
              "\n",
              "[891 rows x 10 columns]"
            ]
          },
          "metadata": {
            "tags": []
          },
          "execution_count": 24
        }
      ]
    },
    {
      "cell_type": "markdown",
      "metadata": {
        "id": "LODBt3WSRTX3"
      },
      "source": [
        "## Feature Scaling"
      ]
    },
    {
      "cell_type": "markdown",
      "metadata": {
        "id": "_HQCo1rKER6b"
      },
      "source": [
        "k-NN gives better performance when all the features are with the same scale.<br>We perform **Feature Scaling** to bring all the features to the same scale.<br>We are using `sklearn.preprocessing.MinMaxScaler()` to perform Feature Scaling here."
      ]
    },
    {
      "cell_type": "code",
      "metadata": {
        "id": "7PgM3os1RTX5"
      },
      "source": [
        "from sklearn.preprocessing import MinMaxScaler\n",
        "\n",
        "scaler = MinMaxScaler()\n",
        "train_df = scaler.fit_transform(train_df)\n",
        "test_df = scaler.transform(test_df)"
      ],
      "execution_count": null,
      "outputs": []
    },
    {
      "cell_type": "markdown",
      "metadata": {
        "id": "VaHCzBIfLjc7"
      },
      "source": [
        "# Training"
      ]
    },
    {
      "cell_type": "markdown",
      "metadata": {
        "id": "WX_Er_pX0DAG"
      },
      "source": [
        "**ToDo**\n",
        "* Find the best hyperparameters **k**(nearest neighbours) and **p** (power metric in minkowski's distance) using **GridSearchCV** and **KNeighborsClassifier**"
      ]
    },
    {
      "cell_type": "code",
      "metadata": {
        "id": "utH0Ug82R9r5",
        "colab": {
          "base_uri": "https://localhost:8080/"
        },
        "outputId": "637345d1-2841-4231-aff6-0b4e5cd1259f"
      },
      "source": [
        "# ADD YOUR CODE HERE\n",
        "from sklearn.model_selection import GridSearchCV\n",
        "from sklearn.neighbors import KNeighborsClassifier\n",
        "\n",
        "hyperparameters = {\n",
        "    'n_neighbors': [10, 15],\n",
        "    'p': [1,2]\n",
        "}\n",
        "\n",
        "clf = GridSearchCV(KNeighborsClassifier(), hyperparameters, scoring='accuracy', n_jobs=2, refit=True, verbose=1) \n",
        "clf.fit(train_df, y)\n",
        "print(clf.best_params_)\n"
      ],
      "execution_count": null,
      "outputs": [
        {
          "output_type": "stream",
          "text": [
            "Fitting 5 folds for each of 4 candidates, totalling 20 fits\n"
          ],
          "name": "stdout"
        },
        {
          "output_type": "stream",
          "text": [
            "[Parallel(n_jobs=2)]: Using backend LokyBackend with 2 concurrent workers.\n"
          ],
          "name": "stderr"
        },
        {
          "output_type": "stream",
          "text": [
            "{'n_neighbors': 10, 'p': 1}\n"
          ],
          "name": "stdout"
        },
        {
          "output_type": "stream",
          "text": [
            "[Parallel(n_jobs=2)]: Done  20 out of  20 | elapsed:    1.5s finished\n"
          ],
          "name": "stderr"
        }
      ]
    },
    {
      "cell_type": "markdown",
      "metadata": {
        "id": "wwEx1T0MLp1y"
      },
      "source": [
        "# Predicting for Test data"
      ]
    },
    {
      "cell_type": "markdown",
      "metadata": {
        "id": "JjR1nnGJ0JnX"
      },
      "source": [
        "**ToDo**\n",
        "\n",
        "Predict the target values for Test data(`predicted_test_Y`) using the best model(model with the best hyperparameters fit on the entire train data)."
      ]
    },
    {
      "cell_type": "code",
      "metadata": {
        "id": "UXeLuJbLSftM",
        "colab": {
          "base_uri": "https://localhost:8080/"
        },
        "outputId": "66ea3d4a-fe7d-416d-d128-12367552d2fa"
      },
      "source": [
        "# ADD YOUR CODE HERE\n",
        "best_model = clf.best_estimator_\n",
        "predicted_test_Y = best_model.predict(test_df)\n",
        "predicted_test_Y"
      ],
      "execution_count": null,
      "outputs": [
        {
          "output_type": "execute_result",
          "data": {
            "text/plain": [
              "array([0, 0, 0, 0, 0, 0, 1, 0, 1, 0, 0, 0, 1, 0, 1, 1, 0, 0, 0, 1, 0, 1,\n",
              "       1, 0, 1, 0, 1, 0, 0, 0, 0, 0, 0, 0, 0, 0, 0, 0, 0, 0, 0, 0, 0, 1,\n",
              "       1, 0, 0, 0, 1, 0, 0, 0, 1, 1, 0, 0, 0, 0, 0, 1, 0, 0, 0, 1, 0, 1,\n",
              "       1, 0, 0, 1, 1, 0, 0, 0, 1, 0, 0, 1, 0, 1, 0, 0, 0, 0, 0, 0, 1, 1,\n",
              "       1, 1, 0, 0, 1, 0, 0, 0, 1, 0, 1, 0, 1, 0, 0, 0, 1, 0, 0, 0, 0, 0,\n",
              "       0, 1, 1, 1, 1, 0, 0, 1, 0, 1, 1, 0, 1, 0, 0, 1, 0, 1, 0, 0, 0, 0,\n",
              "       0, 0, 0, 0, 0, 0, 0, 0, 0, 1, 0, 0, 0, 0, 0, 0, 0, 0, 1, 0, 0, 0,\n",
              "       0, 0, 1, 0, 0, 0, 1, 0, 1, 0, 0, 0, 0, 0, 1, 0, 0, 0, 0, 0, 0, 1,\n",
              "       1, 0, 1, 1, 0, 1, 1, 0, 1, 0, 1, 0, 0, 0, 0, 0, 0, 0, 1, 0, 0, 1,\n",
              "       0, 0, 1, 1, 0, 1, 0, 0, 1, 0, 1, 0, 0, 0, 0, 1, 0, 0, 1, 0, 1, 0,\n",
              "       1, 0, 1, 0, 1, 1, 0, 1, 0, 0, 0, 1, 0, 0, 1, 0, 0, 0, 1, 1, 1, 1,\n",
              "       0, 0, 0, 0, 1, 0, 1, 1, 1, 0, 0, 0, 0, 0, 0, 0, 1, 0, 0, 0, 1, 1,\n",
              "       0, 0, 0, 0, 0, 0, 1, 0, 1, 1, 0, 1, 0, 0, 0, 0, 0, 0, 1, 1, 1, 0,\n",
              "       0, 0, 0, 0, 0, 1, 0, 0, 0, 0, 1, 0, 0, 0, 0, 0, 0, 0, 1, 1, 0, 1,\n",
              "       0, 0, 0, 0, 0, 1, 1, 1, 0, 0, 0, 0, 0, 0, 0, 1, 1, 0, 1, 0, 0, 0,\n",
              "       1, 0, 0, 0, 0, 0, 0, 0, 0, 0, 0, 0, 0, 1, 0, 1, 0, 1, 0, 1, 1, 0,\n",
              "       0, 0, 0, 0, 1, 0, 0, 0, 0, 1, 1, 0, 1, 0, 0, 0, 1, 0, 0, 1, 0, 0,\n",
              "       1, 1, 0, 0, 0, 0, 0, 0, 0, 0, 0, 1, 0, 0, 0, 0, 0, 1, 0, 0, 0, 1,\n",
              "       0, 1, 0, 0, 1, 0, 1, 0, 1, 0, 0, 0, 1, 1, 1, 1, 0, 0, 1, 0, 0, 0])"
            ]
          },
          "metadata": {
            "tags": []
          },
          "execution_count": 27
        }
      ]
    },
    {
      "cell_type": "markdown",
      "metadata": {
        "id": "l1KfKB-vzZS_"
      },
      "source": [
        "Download the `titanic_knn_submission.csv` file and upload [here](https://www.kaggle.com/c/titanic/submit)."
      ]
    },
    {
      "cell_type": "code",
      "metadata": {
        "id": "6f_CJ3aIEOMW"
      },
      "source": [
        "test_X_df = pd.read_csv('test.csv')\n",
        "\n",
        "predicted_test_Y_df = pd.DataFrame()\n",
        "predicted_test_Y_df['PassengerId'] = test_X_df['PassengerId']\n",
        "predicted_test_Y_df['Survived'] = predicted_test_Y\n",
        "\n",
        "predicted_test_Y_df.to_csv(\"titanic_knn_submission.csv\", index = False, header = True) "
      ],
      "execution_count": null,
      "outputs": []
    },
    {
      "cell_type": "markdown",
      "metadata": {
        "id": "xr6JEsgY6E8R"
      },
      "source": [
        "After submitting your project in Kaggle, submit your kaggle profile link in the form present in the next sub-topic ‘Project Submission Form’.\n",
        "Sample profile link format: https://www.kaggle.com/your-user-name/\n"
      ]
    }
  ]
}