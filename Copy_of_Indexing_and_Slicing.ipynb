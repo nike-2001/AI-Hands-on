{
  "nbformat": 4,
  "nbformat_minor": 0,
  "metadata": {
    "colab": {
      "name": "Copy of Indexing and Slicing.ipynb",
      "provenance": [],
      "collapsed_sections": [],
      "toc_visible": true,
      "include_colab_link": true
    },
    "kernelspec": {
      "name": "python3",
      "display_name": "Python 3"
    }
  },
  "cells": [
    {
      "cell_type": "markdown",
      "metadata": {
        "id": "view-in-github",
        "colab_type": "text"
      },
      "source": [
        "<a href=\"https://colab.research.google.com/github/nike-2001/AI-Hands-on/blob/main/Copy_of_Indexing_and_Slicing.ipynb\" target=\"_parent\"><img src=\"https://colab.research.google.com/assets/colab-badge.svg\" alt=\"Open In Colab\"/></a>"
      ]
    },
    {
      "cell_type": "code",
      "metadata": {
        "id": "qd-8WG4KbtPL"
      },
      "source": [
        "# importing numpy\n",
        "import numpy as np"
      ],
      "execution_count": null,
      "outputs": []
    },
    {
      "cell_type": "markdown",
      "metadata": {
        "id": "h6PLV0Pskl3c"
      },
      "source": [
        "# Indexing and Slicing - 1D Arrays"
      ]
    },
    {
      "cell_type": "markdown",
      "metadata": {
        "id": "aw0TvE0rkl31"
      },
      "source": [
        "### Accessing Elements of a 1D Array"
      ]
    },
    {
      "cell_type": "markdown",
      "metadata": {
        "id": "23yHq5d7kl32"
      },
      "source": [
        "Indexing in NumPy Arrays is similar to Python Lists\n",
        "\n",
        "\n",
        "*   **Zero-based indexing**: Index of the first element is 0\n",
        "*   **Supports Negative Indexing**: Index of the last element is -1\n",
        "\n",
        "\n",
        "\n",
        "\n",
        "\n",
        "\n",
        "\n"
      ]
    },
    {
      "cell_type": "code",
      "metadata": {
        "id": "CPgUOUpbkl33",
        "colab": {
          "base_uri": "https://localhost:8080/"
        },
        "outputId": "c0335b12-e1a0-43bc-e861-2c2880ae3eb1"
      },
      "source": [
        "numbers_array = np.array([1, 3, 10, 0, 2, 15, 7, 100])\n",
        "third_number = numbers_array[2]\n",
        "print(\"third_number:\", third_number)"
      ],
      "execution_count": null,
      "outputs": [
        {
          "output_type": "stream",
          "text": [
            "third_number: 10\n"
          ],
          "name": "stdout"
        }
      ]
    },
    {
      "cell_type": "code",
      "metadata": {
        "id": "Oz07Gn0jL7Tx",
        "colab": {
          "base_uri": "https://localhost:8080/"
        },
        "outputId": "062bcc38-c436-4df0-da21-51d62dae175d"
      },
      "source": [
        "fourth_number_from_last = numbers_array[-4]\n",
        "print(\"fourth_number_from_last:\", fourth_number_from_last)"
      ],
      "execution_count": null,
      "outputs": [
        {
          "output_type": "stream",
          "text": [
            "fourth_number_from_last: 2\n"
          ],
          "name": "stdout"
        }
      ]
    },
    {
      "cell_type": "markdown",
      "metadata": {
        "id": "_6ktuH1rNdaj"
      },
      "source": [
        "## Slicing 1D Arrays"
      ]
    },
    {
      "cell_type": "markdown",
      "metadata": {
        "id": "ukePET3LNiGv"
      },
      "source": [
        "Slicing is also similar to Python Lists.\n",
        "\n",
        "*   Slice with the `[start:stop]` syntax outputs elements in the interval **[start, stop)**\n",
        "*   Slice with the `[start:stop:step]` syntax outputs elements in the interval **[start, stop)** with a step size of **step**"
      ]
    },
    {
      "cell_type": "code",
      "metadata": {
        "id": "Zu-9TShrNuIJ",
        "colab": {
          "base_uri": "https://localhost:8080/"
        },
        "outputId": "fde31a01-ac23-4528-9fc2-ba602298d46a"
      },
      "source": [
        "numbers_array = np.array([1, 3, 10, 0, 2, 15, 7, 100])\n",
        "sliced_arr = numbers_array[4:7] \n",
        "print(\"sliced array: \", sliced_arr)"
      ],
      "execution_count": null,
      "outputs": [
        {
          "output_type": "stream",
          "text": [
            "sliced array:  [ 2 15  7]\n"
          ],
          "name": "stdout"
        }
      ]
    },
    {
      "cell_type": "markdown",
      "metadata": {
        "id": "qhXUlQMc11lp"
      },
      "source": [
        "![sac.png](data:image/png;base64,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)"
      ]
    },
    {
      "cell_type": "markdown",
      "metadata": {
        "id": "_Snww0NsKCVS"
      },
      "source": [
        "**Using Negative Indices**"
      ]
    },
    {
      "cell_type": "code",
      "metadata": {
        "id": "sqIT0EQVi-zl",
        "colab": {
          "base_uri": "https://localhost:8080/"
        },
        "outputId": "256cfd1d-e62a-4152-d4ac-0e15b174e4aa"
      },
      "source": [
        "numbers_array = np.array([1, 3, 10, 0, 2, 15, 7, 100])\n",
        "sliced_arr = numbers_array[1:-2]\n",
        "print(\"sliced array with -ve index:\", sliced_arr)"
      ],
      "execution_count": null,
      "outputs": [
        {
          "output_type": "stream",
          "text": [
            "sliced array with -ve index: [ 3 10  0  2 15]\n"
          ],
          "name": "stdout"
        }
      ]
    },
    {
      "cell_type": "markdown",
      "metadata": {
        "id": "1oaC47mKKHab"
      },
      "source": [
        "**Slicing with step size and negative indices**"
      ]
    },
    {
      "cell_type": "code",
      "metadata": {
        "id": "KVUkTigZKKWb",
        "colab": {
          "base_uri": "https://localhost:8080/"
        },
        "outputId": "5362a47f-a09d-42e9-97c4-9a4d2c41ddc2"
      },
      "source": [
        "numbers_array = np.array([1, 3, 10, 0, 2, 15, 7, 100])\n",
        "sliced_arr = numbers_array[1:-2:2]\n",
        "print(\"sliced array with step size & -ve index:\", sliced_arr)"
      ],
      "execution_count": null,
      "outputs": [
        {
          "output_type": "stream",
          "text": [
            "sliced array with step size & -ve index: [ 3  0 15]\n"
          ],
          "name": "stdout"
        }
      ]
    },
    {
      "cell_type": "markdown",
      "metadata": {
        "id": "0CJAsCTPLnXP"
      },
      "source": [
        "**Omitting the Start and Stop Indices**"
      ]
    },
    {
      "cell_type": "code",
      "metadata": {
        "id": "9RfqBePqLq0S",
        "colab": {
          "base_uri": "https://localhost:8080/"
        },
        "outputId": "8c1b4f59-b42c-4229-d245-54b9af68f6de"
      },
      "source": [
        "sliced_arr = numbers_array[:4]\n",
        "print(\"sliced array with start index omitted:\", sliced_arr)"
      ],
      "execution_count": null,
      "outputs": [
        {
          "output_type": "stream",
          "text": [
            "sliced array with start index omitted: [ 1  3 10  0]\n"
          ],
          "name": "stdout"
        }
      ]
    },
    {
      "cell_type": "code",
      "metadata": {
        "id": "UD1zmXbVMOFy",
        "colab": {
          "base_uri": "https://localhost:8080/"
        },
        "outputId": "388adf7f-b634-4050-e950-bfaab03e7a21"
      },
      "source": [
        "sliced_arr = numbers_array[-3:]\n",
        "print(\"sliced array with end index omitted:\", sliced_arr)"
      ],
      "execution_count": null,
      "outputs": [
        {
          "output_type": "stream",
          "text": [
            "sliced array with end index omitted: [ 15   7 100]\n"
          ],
          "name": "stdout"
        }
      ]
    },
    {
      "cell_type": "code",
      "metadata": {
        "id": "TVK1aT-tKgtx",
        "colab": {
          "base_uri": "https://localhost:8080/"
        },
        "outputId": "36f13a46-f856-4b0d-98bd-1a3077ce8eee"
      },
      "source": [
        "numbers_array = np.array([1, 3, 10, 0, 2, 15, 7, 100])\n",
        "slice_1 = numbers_array[1::2]\n",
        "print(\"sliced array with step size & end index omitted:\", slice_1)\n",
        "\n",
        "slice_2 = numbers_array[::2]\n",
        "print(\"sliced array with step size & both start and end index omitted:\", slice_2)"
      ],
      "execution_count": null,
      "outputs": [
        {
          "output_type": "stream",
          "text": [
            "sliced array with step size & end index omitted: [  3   0  15 100]\n",
            "sliced array with step size & both start and end index omitted: [ 1 10  2  7]\n"
          ],
          "name": "stdout"
        }
      ]
    },
    {
      "cell_type": "markdown",
      "metadata": {
        "id": "cDQuwn8O19bR"
      },
      "source": [
        "**Slicing with a Negative Step Size**"
      ]
    },
    {
      "cell_type": "code",
      "metadata": {
        "id": "u74b63ab2B7B",
        "colab": {
          "base_uri": "https://localhost:8080/"
        },
        "outputId": "c70852d9-ecce-4823-cc1b-ec7372dfcf45"
      },
      "source": [
        "numbers_array = np.array([1, 3, 10, 0, 2, 15, 7, 100])\n",
        "slice_1 = numbers_array[-1:0:-2]\n",
        "print(\"sliced array with -ve step size:\", slice_1)\n",
        "\n",
        "slice_2 = numbers_array[3:-1:-1]\n",
        "print(\"sliced array with -ve step size, stop to the right of start:\", slice_2)"
      ],
      "execution_count": null,
      "outputs": [
        {
          "output_type": "stream",
          "text": [
            "sliced array with -ve step size: [100  15   0   3]\n",
            "sliced array with -ve step size, stop to the right of start: []\n"
          ],
          "name": "stdout"
        }
      ]
    },
    {
      "cell_type": "code",
      "metadata": {
        "id": "eIOcjx993U0b",
        "colab": {
          "base_uri": "https://localhost:8080/"
        },
        "outputId": "caac566b-6571-4d17-a1a9-99714d4f4c4e"
      },
      "source": [
        "slice_3 = numbers_array[-2:1:2]\n",
        "print(\"sliced array with +ve step size, stop to the left of start:\", slice_3)"
      ],
      "execution_count": null,
      "outputs": [
        {
          "output_type": "stream",
          "text": [
            "sliced array with +ve step size, stop to the left of start: []\n"
          ],
          "name": "stdout"
        }
      ]
    },
    {
      "cell_type": "markdown",
      "metadata": {
        "id": "DNf5mBV5OIdc"
      },
      "source": [
        "## Modifying Slices\n"
      ]
    },
    {
      "cell_type": "markdown",
      "metadata": {
        "id": "re3kbc82OQPW"
      },
      "source": [
        "In NumPy, slices can be assigned\n",
        "\n",
        "*   a _constant_ or\n",
        "*   an _array of the right shape_."
      ]
    },
    {
      "cell_type": "code",
      "metadata": {
        "id": "lpLU9BPnOdOx",
        "colab": {
          "base_uri": "https://localhost:8080/"
        },
        "outputId": "ffc0c386-2d50-46ed-9921-0fd925cffa1c"
      },
      "source": [
        "number_array = np.array([1, 3, 10, 0, 2, 15, 7, 100])\n",
        "number_array[1:4] = 5\n",
        "print(\"number_array with 5s:\", number_array)"
      ],
      "execution_count": null,
      "outputs": [
        {
          "output_type": "stream",
          "text": [
            "number_array with 5s: [  1   5   5   5   2  15   7 100]\n"
          ],
          "name": "stdout"
        }
      ]
    },
    {
      "cell_type": "code",
      "metadata": {
        "id": "_0tcReur38lQ",
        "colab": {
          "base_uri": "https://localhost:8080/"
        },
        "outputId": "b57d7dcc-b5d8-4028-c056-d90a9727d432"
      },
      "source": [
        "number_array[2:6] = np.array([11, 7, 21, 151])\n",
        "print(\"number_array with updated slice:\", number_array)"
      ],
      "execution_count": null,
      "outputs": [
        {
          "output_type": "stream",
          "text": [
            "number_array with updated slice: [  1   5  11   7  21 151   7 100]\n"
          ],
          "name": "stdout"
        }
      ]
    },
    {
      "cell_type": "markdown",
      "metadata": {
        "id": "fZleiWDdO0J3"
      },
      "source": [
        "In NumPy **slicing returns a view** of the original array, instead of creating a new array.\n",
        "\n",
        "*  This makes slicing numpy arrays very **fast**. \n",
        "*  This also means **modifying a slice, modifies the underlying array as well**. \n",
        "\n",
        "\n"
      ]
    },
    {
      "cell_type": "code",
      "metadata": {
        "id": "J26ESX6yPDml",
        "colab": {
          "base_uri": "https://localhost:8080/"
        },
        "outputId": "3ea84cce-2c58-4d45-a2a1-46dc1603e05f"
      },
      "source": [
        "numbers_array = np.array([1, 7, 11, 0, 3, 17, 9, 100])\n",
        "sliced_array = numbers_array[1:4]\n",
        "\n",
        "sliced_array[0] = -10\n",
        "print(\"sliced_array after modifying:\", sliced_array)\n",
        "print(\"numbers_array after modifying the slice:\", numbers_array)"
      ],
      "execution_count": null,
      "outputs": [
        {
          "output_type": "stream",
          "text": [
            "sliced_array after modifying: [-10  11   0]\n",
            "numbers_array after modifying the slice: [  1 -10  11   0   3  17   9 100]\n"
          ],
          "name": "stdout"
        }
      ]
    },
    {
      "cell_type": "markdown",
      "metadata": {
        "id": "1SiwY9RbDMr8"
      },
      "source": [
        "**Assignment also returns a view of the original array**"
      ]
    },
    {
      "cell_type": "code",
      "metadata": {
        "id": "Z3NfUaGqCcnd",
        "colab": {
          "base_uri": "https://localhost:8080/"
        },
        "outputId": "c9324d2c-5205-4be0-9cdc-7805192b77a1"
      },
      "source": [
        "numbers_array = np.array([1, 7, 11, 0, 3, 17, 9, 100])\n",
        "new_array = numbers_array\n",
        "\n",
        "new_array[0] = 777\n",
        "new_array[-1] = 999\n",
        "print(\"new_array after modification:\", new_array)"
      ],
      "execution_count": null,
      "outputs": [
        {
          "output_type": "stream",
          "text": [
            "new_array after modification: [777   7  11   0   3  17   9 999]\n"
          ],
          "name": "stdout"
        }
      ]
    },
    {
      "cell_type": "code",
      "metadata": {
        "id": "ELRNwdJwDHoI",
        "colab": {
          "base_uri": "https://localhost:8080/"
        },
        "outputId": "667d08b4-2616-4117-aca1-3810e5078a51"
      },
      "source": [
        "print(\"numbers_array after modifying the new_array:\", numbers_array)"
      ],
      "execution_count": null,
      "outputs": [
        {
          "output_type": "stream",
          "text": [
            "numbers_array after modifying the new_array: [777   7  11   0   3  17   9 999]\n"
          ],
          "name": "stdout"
        }
      ]
    },
    {
      "cell_type": "markdown",
      "metadata": {
        "id": "viikh-qpPaRK"
      },
      "source": [
        "## Copying NumPy Arrays using `.copy()`\n"
      ]
    },
    {
      "cell_type": "code",
      "metadata": {
        "id": "L86VtmTFDmA5",
        "colab": {
          "base_uri": "https://localhost:8080/"
        },
        "outputId": "be40a876-efe7-4b5a-badb-625a6889df65"
      },
      "source": [
        "numbers_array = np.array([1, 7, 11, 0, 3, 17, 9, 100])\n",
        "new_array = numbers_array.copy()\n",
        "\n",
        "new_array[0] = 777\n",
        "new_array[-1] = 999\n",
        "print(\"new_array after modification:\", new_array)"
      ],
      "execution_count": null,
      "outputs": [
        {
          "output_type": "stream",
          "text": [
            "new_array after modification: [777   7  11   0   3  17   9 999]\n"
          ],
          "name": "stdout"
        }
      ]
    },
    {
      "cell_type": "code",
      "metadata": {
        "id": "YtYAAr-DDtGj",
        "colab": {
          "base_uri": "https://localhost:8080/"
        },
        "outputId": "9368d810-cd41-47ea-e256-5732a4989bf5"
      },
      "source": [
        "print(\"numbers_array after modifying the new_array:\", numbers_array)"
      ],
      "execution_count": null,
      "outputs": [
        {
          "output_type": "stream",
          "text": [
            "numbers_array after modifying the new_array: [  1   7  11   0   3  17   9 100]\n"
          ],
          "name": "stdout"
        }
      ]
    },
    {
      "cell_type": "markdown",
      "metadata": {
        "id": "m2WNt2UwFL4N"
      },
      "source": [
        "\n",
        "\n",
        "---\n",
        "\n"
      ]
    },
    {
      "cell_type": "markdown",
      "metadata": {
        "id": "RjocV3QORFn7"
      },
      "source": [
        "# Indexing and Slicing - 2D Arrays"
      ]
    },
    {
      "cell_type": "markdown",
      "metadata": {
        "id": "GgIiqBsIRFn7"
      },
      "source": [
        "### Accessing Elements of a 2D Array"
      ]
    },
    {
      "cell_type": "code",
      "metadata": {
        "id": "5WFkkfm4Ha3y",
        "colab": {
          "base_uri": "https://localhost:8080/"
        },
        "outputId": "ead48c37-04bf-4ec4-bda4-43face5206bb"
      },
      "source": [
        "array_2d = np.array([['A', 'B', 'C', 'D'],\n",
        "                     ['F', 'G', 'H', 'I'],\n",
        "                     ['K', 'L', 'M', 'N']])\n",
        "\n",
        "print(\"[0,0]: \", array_2d[0,0])\n",
        "print(\"[1,-1]: \", array_2d[1,-1])"
      ],
      "execution_count": null,
      "outputs": [
        {
          "output_type": "stream",
          "text": [
            "[0,0]:  A\n",
            "[1,-1]:  I\n"
          ],
          "name": "stdout"
        }
      ]
    },
    {
      "cell_type": "markdown",
      "metadata": {
        "id": "CTooEwqHIdYQ"
      },
      "source": [
        "### Accessing a single row or a single column"
      ]
    },
    {
      "cell_type": "markdown",
      "metadata": {
        "id": "oHqeiW42QDMI"
      },
      "source": [
        "Accessing a single row"
      ]
    },
    {
      "cell_type": "code",
      "metadata": {
        "id": "LytCCnfDIW6M",
        "colab": {
          "base_uri": "https://localhost:8080/"
        },
        "outputId": "796405f3-0a64-479b-cc51-2b3e0fbbd6b5"
      },
      "source": [
        "first_row = array_2d[0]\n",
        "print(\"first_row:\", first_row)"
      ],
      "execution_count": null,
      "outputs": [
        {
          "output_type": "stream",
          "text": [
            "first_row: ['A' 'B' 'C' 'D']\n"
          ],
          "name": "stdout"
        }
      ]
    },
    {
      "cell_type": "code",
      "metadata": {
        "id": "-p9EMRFcJLbV",
        "colab": {
          "base_uri": "https://localhost:8080/"
        },
        "outputId": "8d178479-15ab-418d-9556-999ae6976276"
      },
      "source": [
        "print(\"second_row:\", array_2d[1])\n",
        "print(\"third_row:\", array_2d[2])"
      ],
      "execution_count": null,
      "outputs": [
        {
          "output_type": "stream",
          "text": [
            "second_row: ['F' 'G' 'H' 'I']\n",
            "third_row: ['K' 'L' 'M' 'N']\n"
          ],
          "name": "stdout"
        }
      ]
    },
    {
      "cell_type": "markdown",
      "metadata": {
        "id": "hlmuAgF3Jo0s"
      },
      "source": [
        "Accessing a single column"
      ]
    },
    {
      "cell_type": "code",
      "metadata": {
        "id": "IJjnhW8GJjZf",
        "colab": {
          "base_uri": "https://localhost:8080/"
        },
        "outputId": "6dd2897a-233d-4ef4-d742-4e49ed970c88"
      },
      "source": [
        "first_col = array_2d[:,0]\n",
        "print(\"first_col:\", first_col)"
      ],
      "execution_count": null,
      "outputs": [
        {
          "output_type": "stream",
          "text": [
            "first_col: ['A' 'F' 'K']\n"
          ],
          "name": "stdout"
        }
      ]
    },
    {
      "cell_type": "markdown",
      "metadata": {
        "id": "0sBsd_uKJ2vi"
      },
      "source": [
        "### Slicing 2D Arrays"
      ]
    },
    {
      "cell_type": "markdown",
      "metadata": {
        "id": "U_vJbP48PFJL"
      },
      "source": [
        "Slicing rows"
      ]
    },
    {
      "cell_type": "code",
      "metadata": {
        "id": "ugSLpptJI_0c",
        "colab": {
          "base_uri": "https://localhost:8080/"
        },
        "outputId": "8aa081c8-8d6a-4293-f42e-346e1dc31176"
      },
      "source": [
        "array_2d = np.array([['A', 'B', 'C', 'D'],\n",
        "                     ['F', 'G', 'H', 'I'],\n",
        "                     ['K', 'L', 'M', 'N']])\n",
        "\n",
        "array_2d[1:3]"
      ],
      "execution_count": null,
      "outputs": [
        {
          "output_type": "execute_result",
          "data": {
            "text/plain": [
              "array([['F', 'G', 'H', 'I'],\n",
              "       ['K', 'L', 'M', 'N']], dtype='<U1')"
            ]
          },
          "metadata": {
            "tags": []
          },
          "execution_count": 23
        }
      ]
    },
    {
      "cell_type": "markdown",
      "metadata": {
        "id": "F2DrgNM_PNoi"
      },
      "source": [
        "Slicing rows and columns"
      ]
    },
    {
      "cell_type": "code",
      "metadata": {
        "id": "jEioFUe4KVY7",
        "colab": {
          "base_uri": "https://localhost:8080/"
        },
        "outputId": "30d98b1f-bb20-4cde-fe88-5c3f70367f33"
      },
      "source": [
        "array_2d[1:3, 2:4]"
      ],
      "execution_count": null,
      "outputs": [
        {
          "output_type": "execute_result",
          "data": {
            "text/plain": [
              "array([['H', 'I'],\n",
              "       ['M', 'N']], dtype='<U1')"
            ]
          },
          "metadata": {
            "tags": []
          },
          "execution_count": 24
        }
      ]
    },
    {
      "cell_type": "markdown",
      "metadata": {
        "id": "t_65NVI0KiBJ"
      },
      "source": [
        "Omitting the start and stop indices can be done in 2D Arrays also"
      ]
    },
    {
      "cell_type": "code",
      "metadata": {
        "id": "Y8y-zlofKeFT",
        "colab": {
          "base_uri": "https://localhost:8080/"
        },
        "outputId": "d21ec3fa-f500-4f4f-ded6-21425c166f00"
      },
      "source": [
        "array_2d[1:, 2:]"
      ],
      "execution_count": null,
      "outputs": [
        {
          "output_type": "execute_result",
          "data": {
            "text/plain": [
              "array([['H', 'I'],\n",
              "       ['M', 'N']], dtype='<U1')"
            ]
          },
          "metadata": {
            "tags": []
          },
          "execution_count": 25
        }
      ]
    },
    {
      "cell_type": "markdown",
      "metadata": {
        "id": "PI7z2qh7LjU_"
      },
      "source": [
        "### Slicing with Step Size\n"
      ]
    },
    {
      "cell_type": "markdown",
      "metadata": {
        "id": "56QQDVBdPaUy"
      },
      "source": [
        "Slicing with a +ve step size"
      ]
    },
    {
      "cell_type": "code",
      "metadata": {
        "id": "rukBwBgsK8l9",
        "colab": {
          "base_uri": "https://localhost:8080/"
        },
        "outputId": "6a66cd29-ad2b-4281-d3ba-27a31cb0f9e2"
      },
      "source": [
        "array_2d = np.array([['A', 'B', 'C', 'D'],\n",
        "                     ['F', 'G', 'H', 'I'],\n",
        "                     ['K', 'L', 'M', 'N']])\n",
        "\n",
        "array_2d[:, 0:4:2]"
      ],
      "execution_count": null,
      "outputs": [
        {
          "output_type": "execute_result",
          "data": {
            "text/plain": [
              "array([['A', 'C'],\n",
              "       ['F', 'H'],\n",
              "       ['K', 'M']], dtype='<U1')"
            ]
          },
          "metadata": {
            "tags": []
          },
          "execution_count": 26
        }
      ]
    },
    {
      "cell_type": "markdown",
      "metadata": {
        "id": "UVTaGIzKM9ZB"
      },
      "source": [
        "Slicing using -ve indices and a -ve step size"
      ]
    },
    {
      "cell_type": "code",
      "metadata": {
        "id": "eNo3xfqZLx2A",
        "colab": {
          "base_uri": "https://localhost:8080/"
        },
        "outputId": "0276b152-e180-4b90-a4e4-516927a46ec9"
      },
      "source": [
        "array_2d[-1:-4:-2, :]"
      ],
      "execution_count": null,
      "outputs": [
        {
          "output_type": "execute_result",
          "data": {
            "text/plain": [
              "array([['K', 'L', 'M', 'N'],\n",
              "       ['A', 'B', 'C', 'D']], dtype='<U1')"
            ]
          },
          "metadata": {
            "tags": []
          },
          "execution_count": 27
        }
      ]
    },
    {
      "cell_type": "markdown",
      "metadata": {
        "id": "WQg5eWnwRFod"
      },
      "source": [
        "## Modifying slices of a 2D Array\n"
      ]
    },
    {
      "cell_type": "code",
      "metadata": {
        "id": "kqcPx-DfRFoe",
        "colab": {
          "base_uri": "https://localhost:8080/"
        },
        "outputId": "fea954bc-b9f1-4598-967d-6c6bb4da9da3"
      },
      "source": [
        "array_2d = np.array([['A', 'B', 'C', 'D'],\n",
        "                     ['F', 'G', 'H', 'I'],\n",
        "                     ['K', 'L', 'M', 'N']])\n",
        "\n",
        "sliced_array = array_2d[1:3, :]\n",
        "\n",
        "sliced_array[1] = 'Z'\n",
        "print(\"sliced_array after modifying:\\n\", sliced_array)\n",
        "print(\"array_2d after modifying the slice:\\n\", array_2d)"
      ],
      "execution_count": null,
      "outputs": [
        {
          "output_type": "stream",
          "text": [
            "sliced_array after modifying:\n",
            " [['F' 'G' 'H' 'I']\n",
            " ['Z' 'Z' 'Z' 'Z']]\n",
            "array_2d after modifying the slice:\n",
            " [['A' 'B' 'C' 'D']\n",
            " ['F' 'G' 'H' 'I']\n",
            " ['Z' 'Z' 'Z' 'Z']]\n"
          ],
          "name": "stdout"
        }
      ]
    },
    {
      "cell_type": "markdown",
      "metadata": {
        "id": "CmW9amGOd13V"
      },
      "source": [
        "# Advanced Indexing and Slicing\n"
      ]
    },
    {
      "cell_type": "markdown",
      "metadata": {
        "id": "UPHMm5ZHXfJC"
      },
      "source": [
        "\n",
        "### Fancy Indexing"
      ]
    },
    {
      "cell_type": "markdown",
      "metadata": {
        "id": "ByCMTHZYXkKz"
      },
      "source": [
        "NumPy arrays can also be indexed with other arrays. \n",
        "*   The result will be a new array which contains elements at the indices given in the input array"
      ]
    },
    {
      "cell_type": "code",
      "metadata": {
        "id": "faEmAUklXwl3",
        "colab": {
          "base_uri": "https://localhost:8080/"
        },
        "outputId": "8c7ecde0-778d-452b-ca79-927075cbf96b"
      },
      "source": [
        "numbers_array = np.array([1, 7, 11, 0, 3])\n",
        "index_array = np.array([0, 2, 3])\n",
        "\n",
        "indexed_array = numbers_array[index_array]\n",
        "print(\"indexed_array:\", indexed_array)"
      ],
      "execution_count": null,
      "outputs": [
        {
          "output_type": "stream",
          "text": [
            "indexed_array: [ 1 11  0]\n"
          ],
          "name": "stdout"
        }
      ]
    },
    {
      "cell_type": "code",
      "metadata": {
        "id": "4Mw8pQUdU_5d",
        "colab": {
          "base_uri": "https://localhost:8080/"
        },
        "outputId": "cfc58129-b3f0-4ae8-ad21-1eb80c0ad0c7"
      },
      "source": [
        "numbers_array = np.array([1, 7, 11, 0, 3])\n",
        "index_array = np.array([0, -2, 4, 0])\n",
        "\n",
        "indexed_array = numbers_array[index_array]\n",
        "print(\"indexed_array:\", indexed_array)"
      ],
      "execution_count": null,
      "outputs": [
        {
          "output_type": "stream",
          "text": [
            "indexed_array: [1 0 3 1]\n"
          ],
          "name": "stdout"
        }
      ]
    },
    {
      "cell_type": "markdown",
      "metadata": {
        "id": "1LaNl2liYETV"
      },
      "source": [
        "\n",
        "*   The index array selects the elements at the given indices from the original array\n",
        "*   The index array should only contain integers that are in the range of index \n",
        "*   The shape of the index array doesn't need to match the shape of the original array."
      ]
    },
    {
      "cell_type": "markdown",
      "metadata": {
        "id": "JK2KG2ujYgx5"
      },
      "source": [
        "### Boolean/Mask Index Arrays"
      ]
    },
    {
      "cell_type": "markdown",
      "metadata": {
        "id": "SYNY1G20YkFu"
      },
      "source": [
        "\n",
        "*   Boolean arrays can also be used as index arrays."
      ]
    },
    {
      "cell_type": "code",
      "metadata": {
        "id": "Ym726UnrYsVR",
        "colab": {
          "base_uri": "https://localhost:8080/"
        },
        "outputId": "9e789456-e297-4b88-9760-8b57da5fb7e1"
      },
      "source": [
        "numbers_array = np.array([1, 7, 11, 0, 3])\n",
        "mask_array = np.array([True, False, False, True, True])\n",
        "\n",
        "indexed_array = numbers_array[mask_array]\n",
        "print(\"indexed_array:\", indexed_array)"
      ],
      "execution_count": null,
      "outputs": [
        {
          "output_type": "stream",
          "text": [
            "indexed_array: [1 0 3]\n"
          ],
          "name": "stdout"
        }
      ]
    },
    {
      "cell_type": "markdown",
      "metadata": {
        "id": "stpjQg3KY980"
      },
      "source": [
        "\n",
        "\n",
        "*   The output will contain only the elements whose corresponding value in the `mask_array` is `True`.\n",
        "*   Unlike normal index arrays, the shape of Boolean Index Arrays should match the shape of the original array.\n"
      ]
    },
    {
      "cell_type": "markdown",
      "metadata": {
        "id": "lbL3puOhdx1W"
      },
      "source": [
        "### Fancy Indexing and Slicing in 2D Arrays"
      ]
    },
    {
      "cell_type": "code",
      "metadata": {
        "id": "FsZ_fSBPfrCz",
        "colab": {
          "base_uri": "https://localhost:8080/"
        },
        "outputId": "42cc8ca2-a61b-4147-da28-c899e5a25827"
      },
      "source": [
        "array_2d = np.array([['A', 'B', 'C', 'D'],\n",
        "                     ['F', 'G', 'H', 'I'],\n",
        "                     ['K', 'L', 'M', 'N']])\n",
        "\n",
        "selected_rows1 = array_2d[(0,2), 0]\n",
        "print(\"selected rows:\", selected_rows1)"
      ],
      "execution_count": null,
      "outputs": [
        {
          "output_type": "stream",
          "text": [
            "selected rows: ['A' 'K']\n"
          ],
          "name": "stdout"
        }
      ]
    },
    {
      "cell_type": "code",
      "metadata": {
        "id": "cn34S5VNXNnF",
        "colab": {
          "base_uri": "https://localhost:8080/"
        },
        "outputId": "06dfad8d-0026-4e12-d3b9-c2fd06056c5d"
      },
      "source": [
        "selected_rows2 = array_2d[[0,2], 0]\n",
        "print(\"selected rows alternative:\", selected_rows2)"
      ],
      "execution_count": null,
      "outputs": [
        {
          "output_type": "stream",
          "text": [
            "selected rows alternative: ['A' 'K']\n"
          ],
          "name": "stdout"
        }
      ]
    },
    {
      "cell_type": "code",
      "metadata": {
        "id": "8QQvgRqLXw6z",
        "colab": {
          "base_uri": "https://localhost:8080/"
        },
        "outputId": "b51570d1-9faf-413b-cf70-9ac576644593"
      },
      "source": [
        "selected_rows3 = array_2d[[0,2]]\n",
        "print(\"selected rows omitting columns: \\n\", selected_rows3)\n"
      ],
      "execution_count": null,
      "outputs": [
        {
          "output_type": "stream",
          "text": [
            "selected rows omitting columns: \n",
            " [['A' 'B' 'C' 'D']\n",
            " ['K' 'L' 'M' 'N']]\n"
          ],
          "name": "stdout"
        }
      ]
    },
    {
      "cell_type": "code",
      "metadata": {
        "id": "K9Y6PpP4XNY0",
        "colab": {
          "base_uri": "https://localhost:8080/"
        },
        "outputId": "b981279c-c407-43a1-e660-cd020aa7fc89"
      },
      "source": [
        "selected_columns1 = array_2d[0, (0,2)]\n",
        "print(\"selected columns:\", selected_columns1) \n",
        "\n",
        "selected_columns2 = array_2d[0, [0,2]]\n",
        "print(\"selected columns alternative:\", selected_columns2)"
      ],
      "execution_count": null,
      "outputs": [
        {
          "output_type": "stream",
          "text": [
            "selected columns: ['A' 'C']\n",
            "selected columns alternative: ['A' 'C']\n"
          ],
          "name": "stdout"
        }
      ]
    },
    {
      "cell_type": "code",
      "metadata": {
        "id": "vWTw5TA2goTk",
        "colab": {
          "base_uri": "https://localhost:8080/"
        },
        "outputId": "2c63e231-c7cf-4ef1-f9b4-5a0077efb451"
      },
      "source": [
        "result_1 = array_2d[[0]]\n",
        "print(\"result_1:\",result_1)\n",
        "\n",
        "result_2 = array_2d[[0,2]]\n",
        "print(\"result_2:\",result_2)\n",
        "\n",
        "result_3 = array_2d[[0,2]][:, [0,2]]\n",
        "print(\"result_3:\",result_3)"
      ],
      "execution_count": null,
      "outputs": [
        {
          "output_type": "stream",
          "text": [
            "result_1: [['A' 'B' 'C' 'D']]\n",
            "result_2: [['A' 'B' 'C' 'D']\n",
            " ['K' 'L' 'M' 'N']]\n",
            "result_3: [['A' 'C']\n",
            " ['K' 'M']]\n"
          ],
          "name": "stdout"
        }
      ]
    },
    {
      "cell_type": "code",
      "metadata": {
        "id": "xZrhEcx0cRLh",
        "colab": {
          "base_uri": "https://localhost:8080/"
        },
        "outputId": "6ab1df56-3e8a-4d63-d9b3-ca9778344ff0"
      },
      "source": [
        "array_2d = np.array([['A', 'B', 'C', 'D'],\n",
        "                     ['F', 'G', 'H', 'I'],\n",
        "                     ['K', 'L', 'M', 'N']])\n",
        "\n",
        "result_4 = array_2d[[0,2], [0,2]]\n",
        "print(\"output with fancy indexing:\", result_4)"
      ],
      "execution_count": null,
      "outputs": [
        {
          "output_type": "stream",
          "text": [
            "output with fancy indexing: ['A' 'M']\n"
          ],
          "name": "stdout"
        }
      ]
    },
    {
      "cell_type": "markdown",
      "metadata": {
        "id": "lE4dY2EbUkys"
      },
      "source": [
        "### Masking in 2D Arrays"
      ]
    },
    {
      "cell_type": "code",
      "metadata": {
        "id": "_niUPpcCZKg3"
      },
      "source": [
        "array_2d = np.array([['A', 'B', 'C', 'D', 'E'],\n",
        "                    ['F', 'G', 'H', 'I', 'J'],\n",
        "                    ['K', 'L', 'M', 'N', 'O'],\n",
        "                    ['P', 'Q', 'R', 'S', 'T'],\n",
        "                    ['U', 'V', 'W', 'X', 'Y']])"
      ],
      "execution_count": null,
      "outputs": []
    },
    {
      "cell_type": "code",
      "metadata": {
        "id": "P1_yqW4wUZ8i",
        "colab": {
          "base_uri": "https://localhost:8080/"
        },
        "outputId": "82cdadef-9eb0-4a36-91c8-a70ae182efc8"
      },
      "source": [
        "row_mask = np.array([False, True, True, False, True])\n",
        "array_2d[row_mask, 3]"
      ],
      "execution_count": null,
      "outputs": [
        {
          "output_type": "execute_result",
          "data": {
            "text/plain": [
              "array(['I', 'N', 'X'], dtype='<U1')"
            ]
          },
          "metadata": {
            "tags": []
          },
          "execution_count": 39
        }
      ]
    },
    {
      "cell_type": "code",
      "metadata": {
        "id": "6qB_6uJHbsAa",
        "colab": {
          "base_uri": "https://localhost:8080/"
        },
        "outputId": "3d86d05b-2a3b-4a8d-fc91-87cc46da840e"
      },
      "source": [
        "row_mask = np.array([False, True, True, False, True])\n",
        "array_2d[row_mask, :]"
      ],
      "execution_count": null,
      "outputs": [
        {
          "output_type": "execute_result",
          "data": {
            "text/plain": [
              "array([['F', 'G', 'H', 'I', 'J'],\n",
              "       ['K', 'L', 'M', 'N', 'O'],\n",
              "       ['U', 'V', 'W', 'X', 'Y']], dtype='<U1')"
            ]
          },
          "metadata": {
            "tags": []
          },
          "execution_count": 40
        }
      ]
    },
    {
      "cell_type": "code",
      "metadata": {
        "id": "jYerSs7OQmWO",
        "colab": {
          "base_uri": "https://localhost:8080/"
        },
        "outputId": "f86d8dab-c5bb-4e58-aed4-58629ea6b351"
      },
      "source": [
        "col_mask = np.array([True, False, True, True, False])\n",
        "array_2d[3, col_mask]"
      ],
      "execution_count": null,
      "outputs": [
        {
          "output_type": "execute_result",
          "data": {
            "text/plain": [
              "array(['P', 'R', 'S'], dtype='<U1')"
            ]
          },
          "metadata": {
            "tags": []
          },
          "execution_count": 41
        }
      ]
    }
  ]
}