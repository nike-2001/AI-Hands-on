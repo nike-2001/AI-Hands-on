{
  "nbformat": 4,
  "nbformat_minor": 0,
  "metadata": {
    "colab": {
      "name": "Copy of Hands-On: Deployment.ipynb",
      "provenance": [],
      "collapsed_sections": [
        "ryVQLLyL67ld"
      ],
      "toc_visible": true,
      "include_colab_link": true
    },
    "kernelspec": {
      "name": "python3",
      "display_name": "Python 3"
    }
  },
  "cells": [
    {
      "cell_type": "markdown",
      "metadata": {
        "id": "view-in-github",
        "colab_type": "text"
      },
      "source": [
        "<a href=\"https://colab.research.google.com/github/nike-2001/AI-Hands-on/blob/main/Hand_Written_Digit_Recognition.ipynb\" target=\"_parent\"><img src=\"https://colab.research.google.com/assets/colab-badge.svg\" alt=\"Open In Colab\"/></a>"
      ]
    },
    {
      "cell_type": "markdown",
      "metadata": {
        "id": "s7C5QJ5NgBOO"
      },
      "source": [
        "# Imports"
      ]
    },
    {
      "cell_type": "code",
      "metadata": {
        "id": "lSXfjCwO1zqv"
      },
      "source": [
        "import pandas as pd"
      ],
      "execution_count": null,
      "outputs": []
    },
    {
      "cell_type": "markdown",
      "metadata": {
        "id": "pWK3_urxbKC_"
      },
      "source": [
        "# Data Collection"
      ]
    },
    {
      "cell_type": "markdown",
      "metadata": {
        "id": "xhCQhICpnDAc"
      },
      "source": [
        "### Downloading MNIST Train and Test Datasets  "
      ]
    },
    {
      "cell_type": "code",
      "metadata": {
        "id": "XuSHXvRmvah-",
        "colab": {
          "base_uri": "https://localhost:8080/"
        },
        "outputId": "4d3b4106-4867-47c2-bcfa-55ba9c639435"
      },
      "source": [
        "# Downloading the datasets using wget\n",
        "!wget https://nkb-backend-otg-media-static.s3.ap-south-1.amazonaws.com/otg_prod/media/Tech_4.0/AI_ML/Datasets/kaggle_mnist/train.csv\n",
        "!wget https://nkb-backend-otg-media-static.s3.ap-south-1.amazonaws.com/otg_prod/media/Tech_4.0/AI_ML/Datasets/kaggle_mnist/test.csv"
      ],
      "execution_count": null,
      "outputs": [
        {
          "output_type": "stream",
          "text": [
            "--2021-04-10 10:03:17--  https://nkb-backend-otg-media-static.s3.ap-south-1.amazonaws.com/otg_prod/media/Tech_4.0/AI_ML/Datasets/kaggle_mnist/train.csv\n",
            "Resolving nkb-backend-otg-media-static.s3.ap-south-1.amazonaws.com (nkb-backend-otg-media-static.s3.ap-south-1.amazonaws.com)... 52.219.64.11\n",
            "Connecting to nkb-backend-otg-media-static.s3.ap-south-1.amazonaws.com (nkb-backend-otg-media-static.s3.ap-south-1.amazonaws.com)|52.219.64.11|:443... connected.\n",
            "HTTP request sent, awaiting response... 200 OK\n",
            "Length: 76775041 (73M) [text/csv]\n",
            "Saving to: ‘train.csv’\n",
            "\n",
            "train.csv           100%[===================>]  73.22M  23.9MB/s    in 3.1s    \n",
            "\n",
            "2021-04-10 10:03:20 (23.9 MB/s) - ‘train.csv’ saved [76775041/76775041]\n",
            "\n",
            "--2021-04-10 10:03:20--  https://nkb-backend-otg-media-static.s3.ap-south-1.amazonaws.com/otg_prod/media/Tech_4.0/AI_ML/Datasets/kaggle_mnist/test.csv\n",
            "Resolving nkb-backend-otg-media-static.s3.ap-south-1.amazonaws.com (nkb-backend-otg-media-static.s3.ap-south-1.amazonaws.com)... 52.219.64.11\n",
            "Connecting to nkb-backend-otg-media-static.s3.ap-south-1.amazonaws.com (nkb-backend-otg-media-static.s3.ap-south-1.amazonaws.com)|52.219.64.11|:443... connected.\n",
            "HTTP request sent, awaiting response... 200 OK\n",
            "Length: 51118296 (49M) [text/csv]\n",
            "Saving to: ‘test.csv’\n",
            "\n",
            "test.csv            100%[===================>]  48.75M  20.9MB/s    in 2.3s    \n",
            "\n",
            "2021-04-10 10:03:23 (20.9 MB/s) - ‘test.csv’ saved [51118296/51118296]\n",
            "\n"
          ],
          "name": "stdout"
        }
      ]
    },
    {
      "cell_type": "markdown",
      "metadata": {
        "id": "giw0bXj-6Jz2"
      },
      "source": [
        "CSV to Dataframes"
      ]
    },
    {
      "cell_type": "code",
      "metadata": {
        "id": "oZ4kRwY06yxm"
      },
      "source": [
        "train_df = pd.read_csv('train.csv')\n",
        "train_X_df = train_df.drop('label', axis=1)\n",
        "train_Y_df = train_df['label']\n",
        "\n",
        "test_X_df = pd.read_csv('test.csv')"
      ],
      "execution_count": null,
      "outputs": []
    },
    {
      "cell_type": "code",
      "metadata": {
        "colab": {
          "base_uri": "https://localhost:8080/",
          "height": 243
        },
        "id": "DEpXDeltMm5q",
        "outputId": "8fbee470-f7bc-40b3-d90b-6060fd906437"
      },
      "source": [
        "train_df.head(5)"
      ],
      "execution_count": null,
      "outputs": [
        {
          "output_type": "execute_result",
          "data": {
            "text/html": [
              "<div>\n",
              "<style scoped>\n",
              "    .dataframe tbody tr th:only-of-type {\n",
              "        vertical-align: middle;\n",
              "    }\n",
              "\n",
              "    .dataframe tbody tr th {\n",
              "        vertical-align: top;\n",
              "    }\n",
              "\n",
              "    .dataframe thead th {\n",
              "        text-align: right;\n",
              "    }\n",
              "</style>\n",
              "<table border=\"1\" class=\"dataframe\">\n",
              "  <thead>\n",
              "    <tr style=\"text-align: right;\">\n",
              "      <th></th>\n",
              "      <th>label</th>\n",
              "      <th>pixel0</th>\n",
              "      <th>pixel1</th>\n",
              "      <th>pixel2</th>\n",
              "      <th>pixel3</th>\n",
              "      <th>pixel4</th>\n",
              "      <th>pixel5</th>\n",
              "      <th>pixel6</th>\n",
              "      <th>pixel7</th>\n",
              "      <th>pixel8</th>\n",
              "      <th>pixel9</th>\n",
              "      <th>pixel10</th>\n",
              "      <th>pixel11</th>\n",
              "      <th>pixel12</th>\n",
              "      <th>pixel13</th>\n",
              "      <th>pixel14</th>\n",
              "      <th>pixel15</th>\n",
              "      <th>pixel16</th>\n",
              "      <th>pixel17</th>\n",
              "      <th>pixel18</th>\n",
              "      <th>pixel19</th>\n",
              "      <th>pixel20</th>\n",
              "      <th>pixel21</th>\n",
              "      <th>pixel22</th>\n",
              "      <th>pixel23</th>\n",
              "      <th>pixel24</th>\n",
              "      <th>pixel25</th>\n",
              "      <th>pixel26</th>\n",
              "      <th>pixel27</th>\n",
              "      <th>pixel28</th>\n",
              "      <th>pixel29</th>\n",
              "      <th>pixel30</th>\n",
              "      <th>pixel31</th>\n",
              "      <th>pixel32</th>\n",
              "      <th>pixel33</th>\n",
              "      <th>pixel34</th>\n",
              "      <th>pixel35</th>\n",
              "      <th>pixel36</th>\n",
              "      <th>pixel37</th>\n",
              "      <th>pixel38</th>\n",
              "      <th>...</th>\n",
              "      <th>pixel744</th>\n",
              "      <th>pixel745</th>\n",
              "      <th>pixel746</th>\n",
              "      <th>pixel747</th>\n",
              "      <th>pixel748</th>\n",
              "      <th>pixel749</th>\n",
              "      <th>pixel750</th>\n",
              "      <th>pixel751</th>\n",
              "      <th>pixel752</th>\n",
              "      <th>pixel753</th>\n",
              "      <th>pixel754</th>\n",
              "      <th>pixel755</th>\n",
              "      <th>pixel756</th>\n",
              "      <th>pixel757</th>\n",
              "      <th>pixel758</th>\n",
              "      <th>pixel759</th>\n",
              "      <th>pixel760</th>\n",
              "      <th>pixel761</th>\n",
              "      <th>pixel762</th>\n",
              "      <th>pixel763</th>\n",
              "      <th>pixel764</th>\n",
              "      <th>pixel765</th>\n",
              "      <th>pixel766</th>\n",
              "      <th>pixel767</th>\n",
              "      <th>pixel768</th>\n",
              "      <th>pixel769</th>\n",
              "      <th>pixel770</th>\n",
              "      <th>pixel771</th>\n",
              "      <th>pixel772</th>\n",
              "      <th>pixel773</th>\n",
              "      <th>pixel774</th>\n",
              "      <th>pixel775</th>\n",
              "      <th>pixel776</th>\n",
              "      <th>pixel777</th>\n",
              "      <th>pixel778</th>\n",
              "      <th>pixel779</th>\n",
              "      <th>pixel780</th>\n",
              "      <th>pixel781</th>\n",
              "      <th>pixel782</th>\n",
              "      <th>pixel783</th>\n",
              "    </tr>\n",
              "  </thead>\n",
              "  <tbody>\n",
              "    <tr>\n",
              "      <th>0</th>\n",
              "      <td>1</td>\n",
              "      <td>0</td>\n",
              "      <td>0</td>\n",
              "      <td>0</td>\n",
              "      <td>0</td>\n",
              "      <td>0</td>\n",
              "      <td>0</td>\n",
              "      <td>0</td>\n",
              "      <td>0</td>\n",
              "      <td>0</td>\n",
              "      <td>0</td>\n",
              "      <td>0</td>\n",
              "      <td>0</td>\n",
              "      <td>0</td>\n",
              "      <td>0</td>\n",
              "      <td>0</td>\n",
              "      <td>0</td>\n",
              "      <td>0</td>\n",
              "      <td>0</td>\n",
              "      <td>0</td>\n",
              "      <td>0</td>\n",
              "      <td>0</td>\n",
              "      <td>0</td>\n",
              "      <td>0</td>\n",
              "      <td>0</td>\n",
              "      <td>0</td>\n",
              "      <td>0</td>\n",
              "      <td>0</td>\n",
              "      <td>0</td>\n",
              "      <td>0</td>\n",
              "      <td>0</td>\n",
              "      <td>0</td>\n",
              "      <td>0</td>\n",
              "      <td>0</td>\n",
              "      <td>0</td>\n",
              "      <td>0</td>\n",
              "      <td>0</td>\n",
              "      <td>0</td>\n",
              "      <td>0</td>\n",
              "      <td>0</td>\n",
              "      <td>...</td>\n",
              "      <td>0</td>\n",
              "      <td>0</td>\n",
              "      <td>0</td>\n",
              "      <td>0</td>\n",
              "      <td>0</td>\n",
              "      <td>0</td>\n",
              "      <td>0</td>\n",
              "      <td>0</td>\n",
              "      <td>0</td>\n",
              "      <td>0</td>\n",
              "      <td>0</td>\n",
              "      <td>0</td>\n",
              "      <td>0</td>\n",
              "      <td>0</td>\n",
              "      <td>0</td>\n",
              "      <td>0</td>\n",
              "      <td>0</td>\n",
              "      <td>0</td>\n",
              "      <td>0</td>\n",
              "      <td>0</td>\n",
              "      <td>0</td>\n",
              "      <td>0</td>\n",
              "      <td>0</td>\n",
              "      <td>0</td>\n",
              "      <td>0</td>\n",
              "      <td>0</td>\n",
              "      <td>0</td>\n",
              "      <td>0</td>\n",
              "      <td>0</td>\n",
              "      <td>0</td>\n",
              "      <td>0</td>\n",
              "      <td>0</td>\n",
              "      <td>0</td>\n",
              "      <td>0</td>\n",
              "      <td>0</td>\n",
              "      <td>0</td>\n",
              "      <td>0</td>\n",
              "      <td>0</td>\n",
              "      <td>0</td>\n",
              "      <td>0</td>\n",
              "    </tr>\n",
              "    <tr>\n",
              "      <th>1</th>\n",
              "      <td>0</td>\n",
              "      <td>0</td>\n",
              "      <td>0</td>\n",
              "      <td>0</td>\n",
              "      <td>0</td>\n",
              "      <td>0</td>\n",
              "      <td>0</td>\n",
              "      <td>0</td>\n",
              "      <td>0</td>\n",
              "      <td>0</td>\n",
              "      <td>0</td>\n",
              "      <td>0</td>\n",
              "      <td>0</td>\n",
              "      <td>0</td>\n",
              "      <td>0</td>\n",
              "      <td>0</td>\n",
              "      <td>0</td>\n",
              "      <td>0</td>\n",
              "      <td>0</td>\n",
              "      <td>0</td>\n",
              "      <td>0</td>\n",
              "      <td>0</td>\n",
              "      <td>0</td>\n",
              "      <td>0</td>\n",
              "      <td>0</td>\n",
              "      <td>0</td>\n",
              "      <td>0</td>\n",
              "      <td>0</td>\n",
              "      <td>0</td>\n",
              "      <td>0</td>\n",
              "      <td>0</td>\n",
              "      <td>0</td>\n",
              "      <td>0</td>\n",
              "      <td>0</td>\n",
              "      <td>0</td>\n",
              "      <td>0</td>\n",
              "      <td>0</td>\n",
              "      <td>0</td>\n",
              "      <td>0</td>\n",
              "      <td>0</td>\n",
              "      <td>...</td>\n",
              "      <td>0</td>\n",
              "      <td>0</td>\n",
              "      <td>0</td>\n",
              "      <td>0</td>\n",
              "      <td>0</td>\n",
              "      <td>0</td>\n",
              "      <td>0</td>\n",
              "      <td>0</td>\n",
              "      <td>0</td>\n",
              "      <td>0</td>\n",
              "      <td>0</td>\n",
              "      <td>0</td>\n",
              "      <td>0</td>\n",
              "      <td>0</td>\n",
              "      <td>0</td>\n",
              "      <td>0</td>\n",
              "      <td>0</td>\n",
              "      <td>0</td>\n",
              "      <td>0</td>\n",
              "      <td>0</td>\n",
              "      <td>0</td>\n",
              "      <td>0</td>\n",
              "      <td>0</td>\n",
              "      <td>0</td>\n",
              "      <td>0</td>\n",
              "      <td>0</td>\n",
              "      <td>0</td>\n",
              "      <td>0</td>\n",
              "      <td>0</td>\n",
              "      <td>0</td>\n",
              "      <td>0</td>\n",
              "      <td>0</td>\n",
              "      <td>0</td>\n",
              "      <td>0</td>\n",
              "      <td>0</td>\n",
              "      <td>0</td>\n",
              "      <td>0</td>\n",
              "      <td>0</td>\n",
              "      <td>0</td>\n",
              "      <td>0</td>\n",
              "    </tr>\n",
              "    <tr>\n",
              "      <th>2</th>\n",
              "      <td>1</td>\n",
              "      <td>0</td>\n",
              "      <td>0</td>\n",
              "      <td>0</td>\n",
              "      <td>0</td>\n",
              "      <td>0</td>\n",
              "      <td>0</td>\n",
              "      <td>0</td>\n",
              "      <td>0</td>\n",
              "      <td>0</td>\n",
              "      <td>0</td>\n",
              "      <td>0</td>\n",
              "      <td>0</td>\n",
              "      <td>0</td>\n",
              "      <td>0</td>\n",
              "      <td>0</td>\n",
              "      <td>0</td>\n",
              "      <td>0</td>\n",
              "      <td>0</td>\n",
              "      <td>0</td>\n",
              "      <td>0</td>\n",
              "      <td>0</td>\n",
              "      <td>0</td>\n",
              "      <td>0</td>\n",
              "      <td>0</td>\n",
              "      <td>0</td>\n",
              "      <td>0</td>\n",
              "      <td>0</td>\n",
              "      <td>0</td>\n",
              "      <td>0</td>\n",
              "      <td>0</td>\n",
              "      <td>0</td>\n",
              "      <td>0</td>\n",
              "      <td>0</td>\n",
              "      <td>0</td>\n",
              "      <td>0</td>\n",
              "      <td>0</td>\n",
              "      <td>0</td>\n",
              "      <td>0</td>\n",
              "      <td>0</td>\n",
              "      <td>...</td>\n",
              "      <td>0</td>\n",
              "      <td>0</td>\n",
              "      <td>0</td>\n",
              "      <td>0</td>\n",
              "      <td>0</td>\n",
              "      <td>0</td>\n",
              "      <td>0</td>\n",
              "      <td>0</td>\n",
              "      <td>0</td>\n",
              "      <td>0</td>\n",
              "      <td>0</td>\n",
              "      <td>0</td>\n",
              "      <td>0</td>\n",
              "      <td>0</td>\n",
              "      <td>0</td>\n",
              "      <td>0</td>\n",
              "      <td>0</td>\n",
              "      <td>0</td>\n",
              "      <td>0</td>\n",
              "      <td>0</td>\n",
              "      <td>0</td>\n",
              "      <td>0</td>\n",
              "      <td>0</td>\n",
              "      <td>0</td>\n",
              "      <td>0</td>\n",
              "      <td>0</td>\n",
              "      <td>0</td>\n",
              "      <td>0</td>\n",
              "      <td>0</td>\n",
              "      <td>0</td>\n",
              "      <td>0</td>\n",
              "      <td>0</td>\n",
              "      <td>0</td>\n",
              "      <td>0</td>\n",
              "      <td>0</td>\n",
              "      <td>0</td>\n",
              "      <td>0</td>\n",
              "      <td>0</td>\n",
              "      <td>0</td>\n",
              "      <td>0</td>\n",
              "    </tr>\n",
              "    <tr>\n",
              "      <th>3</th>\n",
              "      <td>4</td>\n",
              "      <td>0</td>\n",
              "      <td>0</td>\n",
              "      <td>0</td>\n",
              "      <td>0</td>\n",
              "      <td>0</td>\n",
              "      <td>0</td>\n",
              "      <td>0</td>\n",
              "      <td>0</td>\n",
              "      <td>0</td>\n",
              "      <td>0</td>\n",
              "      <td>0</td>\n",
              "      <td>0</td>\n",
              "      <td>0</td>\n",
              "      <td>0</td>\n",
              "      <td>0</td>\n",
              "      <td>0</td>\n",
              "      <td>0</td>\n",
              "      <td>0</td>\n",
              "      <td>0</td>\n",
              "      <td>0</td>\n",
              "      <td>0</td>\n",
              "      <td>0</td>\n",
              "      <td>0</td>\n",
              "      <td>0</td>\n",
              "      <td>0</td>\n",
              "      <td>0</td>\n",
              "      <td>0</td>\n",
              "      <td>0</td>\n",
              "      <td>0</td>\n",
              "      <td>0</td>\n",
              "      <td>0</td>\n",
              "      <td>0</td>\n",
              "      <td>0</td>\n",
              "      <td>0</td>\n",
              "      <td>0</td>\n",
              "      <td>0</td>\n",
              "      <td>0</td>\n",
              "      <td>0</td>\n",
              "      <td>0</td>\n",
              "      <td>...</td>\n",
              "      <td>0</td>\n",
              "      <td>0</td>\n",
              "      <td>0</td>\n",
              "      <td>0</td>\n",
              "      <td>0</td>\n",
              "      <td>0</td>\n",
              "      <td>0</td>\n",
              "      <td>0</td>\n",
              "      <td>0</td>\n",
              "      <td>0</td>\n",
              "      <td>0</td>\n",
              "      <td>0</td>\n",
              "      <td>0</td>\n",
              "      <td>0</td>\n",
              "      <td>0</td>\n",
              "      <td>0</td>\n",
              "      <td>0</td>\n",
              "      <td>0</td>\n",
              "      <td>0</td>\n",
              "      <td>0</td>\n",
              "      <td>0</td>\n",
              "      <td>0</td>\n",
              "      <td>0</td>\n",
              "      <td>0</td>\n",
              "      <td>0</td>\n",
              "      <td>0</td>\n",
              "      <td>0</td>\n",
              "      <td>0</td>\n",
              "      <td>0</td>\n",
              "      <td>0</td>\n",
              "      <td>0</td>\n",
              "      <td>0</td>\n",
              "      <td>0</td>\n",
              "      <td>0</td>\n",
              "      <td>0</td>\n",
              "      <td>0</td>\n",
              "      <td>0</td>\n",
              "      <td>0</td>\n",
              "      <td>0</td>\n",
              "      <td>0</td>\n",
              "    </tr>\n",
              "    <tr>\n",
              "      <th>4</th>\n",
              "      <td>0</td>\n",
              "      <td>0</td>\n",
              "      <td>0</td>\n",
              "      <td>0</td>\n",
              "      <td>0</td>\n",
              "      <td>0</td>\n",
              "      <td>0</td>\n",
              "      <td>0</td>\n",
              "      <td>0</td>\n",
              "      <td>0</td>\n",
              "      <td>0</td>\n",
              "      <td>0</td>\n",
              "      <td>0</td>\n",
              "      <td>0</td>\n",
              "      <td>0</td>\n",
              "      <td>0</td>\n",
              "      <td>0</td>\n",
              "      <td>0</td>\n",
              "      <td>0</td>\n",
              "      <td>0</td>\n",
              "      <td>0</td>\n",
              "      <td>0</td>\n",
              "      <td>0</td>\n",
              "      <td>0</td>\n",
              "      <td>0</td>\n",
              "      <td>0</td>\n",
              "      <td>0</td>\n",
              "      <td>0</td>\n",
              "      <td>0</td>\n",
              "      <td>0</td>\n",
              "      <td>0</td>\n",
              "      <td>0</td>\n",
              "      <td>0</td>\n",
              "      <td>0</td>\n",
              "      <td>0</td>\n",
              "      <td>0</td>\n",
              "      <td>0</td>\n",
              "      <td>0</td>\n",
              "      <td>0</td>\n",
              "      <td>0</td>\n",
              "      <td>...</td>\n",
              "      <td>0</td>\n",
              "      <td>0</td>\n",
              "      <td>0</td>\n",
              "      <td>0</td>\n",
              "      <td>0</td>\n",
              "      <td>0</td>\n",
              "      <td>0</td>\n",
              "      <td>0</td>\n",
              "      <td>0</td>\n",
              "      <td>0</td>\n",
              "      <td>0</td>\n",
              "      <td>0</td>\n",
              "      <td>0</td>\n",
              "      <td>0</td>\n",
              "      <td>0</td>\n",
              "      <td>0</td>\n",
              "      <td>0</td>\n",
              "      <td>0</td>\n",
              "      <td>0</td>\n",
              "      <td>0</td>\n",
              "      <td>0</td>\n",
              "      <td>0</td>\n",
              "      <td>0</td>\n",
              "      <td>0</td>\n",
              "      <td>0</td>\n",
              "      <td>0</td>\n",
              "      <td>0</td>\n",
              "      <td>0</td>\n",
              "      <td>0</td>\n",
              "      <td>0</td>\n",
              "      <td>0</td>\n",
              "      <td>0</td>\n",
              "      <td>0</td>\n",
              "      <td>0</td>\n",
              "      <td>0</td>\n",
              "      <td>0</td>\n",
              "      <td>0</td>\n",
              "      <td>0</td>\n",
              "      <td>0</td>\n",
              "      <td>0</td>\n",
              "    </tr>\n",
              "  </tbody>\n",
              "</table>\n",
              "<p>5 rows × 785 columns</p>\n",
              "</div>"
            ],
            "text/plain": [
              "   label  pixel0  pixel1  pixel2  ...  pixel780  pixel781  pixel782  pixel783\n",
              "0      1       0       0       0  ...         0         0         0         0\n",
              "1      0       0       0       0  ...         0         0         0         0\n",
              "2      1       0       0       0  ...         0         0         0         0\n",
              "3      4       0       0       0  ...         0         0         0         0\n",
              "4      0       0       0       0  ...         0         0         0         0\n",
              "\n",
              "[5 rows x 785 columns]"
            ]
          },
          "metadata": {
            "tags": []
          },
          "execution_count": 6
        }
      ]
    },
    {
      "cell_type": "code",
      "metadata": {
        "colab": {
          "base_uri": "https://localhost:8080/"
        },
        "id": "fM4SV0QPPb73",
        "outputId": "24fc7ccb-12c4-4ec9-b281-e9a1bf804ef2"
      },
      "source": [
        "train_Y_df.head(2)"
      ],
      "execution_count": null,
      "outputs": [
        {
          "output_type": "execute_result",
          "data": {
            "text/plain": [
              "0    1\n",
              "1    0\n",
              "Name: label, dtype: int64"
            ]
          },
          "metadata": {
            "tags": []
          },
          "execution_count": 8
        }
      ]
    },
    {
      "cell_type": "markdown",
      "metadata": {
        "id": "eHWe-Lbi8QKD"
      },
      "source": [
        "# Splitting the Data"
      ]
    },
    {
      "cell_type": "markdown",
      "metadata": {
        "id": "XV8uVIxR1W9J"
      },
      "source": [
        "![image.png](data:image/png;base64,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)"
      ]
    },
    {
      "cell_type": "markdown",
      "metadata": {
        "id": "8WpnxviQXu0_"
      },
      "source": [
        "### sklearn.model_selection.train_test_split()\n",
        "\n",
        "* `sklearn.model_selection.train_test_split(*arrays, test_size=None)`\n",
        "\n",
        "    Splits arrays or dataframes into random train and test subsets\n",
        "  * `*arrays` can be pandas dataframes\n",
        "  * `test_size`: Represents the proportion of the dataset to include in the test split"
      ]
    },
    {
      "cell_type": "markdown",
      "metadata": {
        "id": "uGTyj-Sw1fAd"
      },
      "source": [
        "Since Test Data is already provided separately, `train_X_df` is split into train(`train_X_split`) and validation(`validation_X_split`) sets."
      ]
    },
    {
      "cell_type": "code",
      "metadata": {
        "id": "-CgN6zglplaV",
        "colab": {
          "base_uri": "https://localhost:8080/"
        },
        "outputId": "2a783e55-a58e-4cfc-aecd-ce931e242da5"
      },
      "source": [
        "from sklearn.model_selection import train_test_split\n",
        "train_X_split, validation_X_split, train_Y_split, validation_Y_split = train_test_split(train_X_df, train_Y_df, test_size=0.2)\n",
        "\n",
        "print('Train X shape', train_X_split.shape)\n",
        "print('Validation X shape', validation_X_split.shape)"
      ],
      "execution_count": null,
      "outputs": [
        {
          "output_type": "stream",
          "text": [
            "Train X shape (33600, 784)\n",
            "Validation X shape (8400, 784)\n"
          ],
          "name": "stdout"
        }
      ]
    },
    {
      "cell_type": "markdown",
      "metadata": {
        "id": "Pn9mdPd4cGBn"
      },
      "source": [
        "# Training"
      ]
    },
    {
      "cell_type": "markdown",
      "metadata": {
        "id": "BUSUmCvjfygy"
      },
      "source": [
        "### sklearn.neighbors.KNeighborsClassifier()\n",
        "\n",
        "* `sklearn.neighbors.KNeighborsClassifier(n_neighbors=5, p=2)`\n",
        "\n",
        "  Returns classifier `clf` implementing the k-nearest neighbors.\n",
        "  \n",
        "  * `n_neighbors` represents number of neighbors **(k)**\n",
        "  * `p` repesents power parameter for Minkowski's distance.\n",
        "* `clf.fit()` fits the k-nearest neighbors classifier on the given data."
      ]
    },
    {
      "cell_type": "code",
      "metadata": {
        "id": "JggDy-6Fs6sT",
        "colab": {
          "base_uri": "https://localhost:8080/"
        },
        "outputId": "4fd67a98-fedf-4a71-efb7-213f776f246e"
      },
      "source": [
        "from sklearn.neighbors import KNeighborsClassifier\n",
        "num_neighbors = 1\n",
        "distance_param = 2\n",
        "clf = KNeighborsClassifier(n_neighbors=num_neighbors, p=distance_param)\n",
        "clf.fit(train_X_split, train_Y_split)"
      ],
      "execution_count": null,
      "outputs": [
        {
          "output_type": "execute_result",
          "data": {
            "text/plain": [
              "KNeighborsClassifier(algorithm='auto', leaf_size=30, metric='minkowski',\n",
              "                     metric_params=None, n_jobs=None, n_neighbors=1, p=2,\n",
              "                     weights='uniform')"
            ]
          },
          "metadata": {
            "tags": []
          },
          "execution_count": 6
        }
      ]
    },
    {
      "cell_type": "markdown",
      "metadata": {
        "id": "QvyCDEj-gqOA"
      },
      "source": [
        "## Tuning Hyperparameters"
      ]
    },
    {
      "cell_type": "markdown",
      "metadata": {
        "id": "gyFb-W9I2iWV"
      },
      "source": [
        "![image.png](data:image/png;base64,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)"
      ]
    },
    {
      "cell_type": "markdown",
      "metadata": {
        "id": "fVFMi5NE5bsw"
      },
      "source": [
        "![image.png](data:image/png;base64,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)"
      ]
    },
    {
      "cell_type": "markdown",
      "metadata": {
        "id": "lFYvED55iszQ"
      },
      "source": [
        "### sklearn.model_selection.GridSearchCV\n",
        "\n",
        "* `sklearn.model_selection.GridSearchCV(estimator, param_grid, scoring=None, n_jobs=None, refit=True, cv=None, verbose=0)`\n",
        "\n",
        "  Exhaustive search over specified parameter values for an estimator\n",
        "  * `estimator`: A object of given type is instantiated for each grid point\n",
        "  * `param_grid` is a dictionary with parameters names (str) as keys and lists of parameters to try\n",
        "  * `scoring` is the strategy to evaluate the performance of the model on the test set\n",
        "  * `n_jobs` represents number of jobs to run in parallel\n",
        "  * `refit`: If this is true, it refits an estimator using the best found parameters on the whole dataset\n",
        "  * `cv` determines the cross-validation splitting strategy\n",
        "  * `verbose` controls the verbosity.The higher, the more messages"
      ]
    },
    {
      "cell_type": "markdown",
      "metadata": {
        "id": "txrdDUjclSZ-"
      },
      "source": [
        "* `clf.best_params_` returns a dictionary that represents Parameter setting that gave the best results on the hold out data."
      ]
    },
    {
      "cell_type": "markdown",
      "metadata": {
        "id": "DcUSJ71T5_GH"
      },
      "source": [
        "(Takes ~1 hr to run)"
      ]
    },
    {
      "cell_type": "code",
      "metadata": {
        "id": "IyTfL9lPuzF1",
        "colab": {
          "base_uri": "https://localhost:8080/"
        },
        "outputId": "35a0095a-9660-45db-cc38-5996092599bf"
      },
      "source": [
        "from sklearn.model_selection import GridSearchCV\n",
        "from sklearn.neighbors import KNeighborsClassifier\n",
        "\n",
        "hyperparameters = {\n",
        "    'n_neighbors': [10, 15],\n",
        "    'p': [1,2]\n",
        "}\n",
        "\n",
        "clf = GridSearchCV(KNeighborsClassifier(), hyperparameters, scoring='accuracy', n_jobs=2, refit=True, cv=2, verbose=1) \n",
        "clf.fit(train_X_df, train_Y_df)\n",
        "print(clf.best_params_)\n",
        "\n",
        "# 'p': 2, 'n_neighbors': 10 returned as best"
      ],
      "execution_count": null,
      "outputs": [
        {
          "output_type": "stream",
          "text": [
            "Fitting 2 folds for each of 4 candidates, totalling 8 fits\n"
          ],
          "name": "stdout"
        },
        {
          "output_type": "stream",
          "text": [
            "[Parallel(n_jobs=2)]: Using backend LokyBackend with 2 concurrent workers.\n",
            "[Parallel(n_jobs=2)]: Done   8 out of   8 | elapsed: 67.6min finished\n"
          ],
          "name": "stderr"
        },
        {
          "output_type": "stream",
          "text": [
            "{'n_neighbors': 10, 'p': 2}\n"
          ],
          "name": "stdout"
        }
      ]
    },
    {
      "cell_type": "markdown",
      "metadata": {
        "id": "F1LRsKxXT4ze"
      },
      "source": [
        "# New Section"
      ]
    },
    {
      "cell_type": "code",
      "metadata": {
        "id": "083QfKtH57RD",
        "colab": {
          "base_uri": "https://localhost:8080/"
        },
        "outputId": "bc1e4401-58da-402f-e65e-eee2987bbe24"
      },
      "source": [
        "clf.cv_results_"
      ],
      "execution_count": null,
      "outputs": [
        {
          "output_type": "execute_result",
          "data": {
            "text/plain": [
              "{'mean_fit_time': array([5.22289085, 4.77478421, 4.82710779, 4.83234096]),\n",
              " 'mean_score_time': array([ 998.91225958, 1018.69335628, 1000.06227863, 1016.3567549 ]),\n",
              " 'mean_test_score': array([0.94642857, 0.95533333, 0.9417381 , 0.95135714]),\n",
              " 'param_n_neighbors': masked_array(data=[10, 10, 15, 15],\n",
              "              mask=[False, False, False, False],\n",
              "        fill_value='?',\n",
              "             dtype=object),\n",
              " 'param_p': masked_array(data=[1, 2, 1, 2],\n",
              "              mask=[False, False, False, False],\n",
              "        fill_value='?',\n",
              "             dtype=object),\n",
              " 'params': [{'n_neighbors': 10, 'p': 1},\n",
              "  {'n_neighbors': 10, 'p': 2},\n",
              "  {'n_neighbors': 15, 'p': 1},\n",
              "  {'n_neighbors': 15, 'p': 2}],\n",
              " 'rank_test_score': array([3, 1, 4, 2], dtype=int32),\n",
              " 'split0_test_score': array([0.94695238, 0.95561905, 0.94209524, 0.95228571]),\n",
              " 'split1_test_score': array([0.94590476, 0.95504762, 0.94138095, 0.95042857]),\n",
              " 'std_fit_time': array([0.00639224, 0.00449574, 0.00896633, 0.02872777]),\n",
              " 'std_score_time': array([1.07449079, 1.31956196, 0.99484265, 0.13945854]),\n",
              " 'std_test_score': array([0.00052381, 0.00028571, 0.00035714, 0.00092857])}"
            ]
          },
          "metadata": {
            "tags": []
          },
          "execution_count": 8
        }
      ]
    },
    {
      "cell_type": "markdown",
      "metadata": {
        "id": "rn2fonEHZl29"
      },
      "source": [
        "# Predicting for Test Data"
      ]
    },
    {
      "cell_type": "markdown",
      "metadata": {
        "id": "YV7q06_oBXK4"
      },
      "source": [
        "![image.png](data:image/png;base64,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)"
      ]
    },
    {
      "cell_type": "markdown",
      "metadata": {
        "id": "D3GStJ5BcZjJ"
      },
      "source": [
        "(Takes ~40 mins to run)"
      ]
    },
    {
      "cell_type": "markdown",
      "metadata": {
        "id": "GUQ1AnjUm4FF"
      },
      "source": [
        "* `clf.best_estimator_` contains an estimator trained using the best found parameters on the whole dataset\n",
        "* `model.predict(X)`: Returns an array of predicted class labels for `X` using the trained `model`"
      ]
    },
    {
      "cell_type": "code",
      "metadata": {
        "id": "vFKibvM0cLpe",
        "colab": {
          "base_uri": "https://localhost:8080/"
        },
        "outputId": "cda246e4-d002-4cb0-dc76-72aa5c472cc4"
      },
      "source": [
        "best_model = clf.best_estimator_\n",
        "predicted_test_Y = best_model.predict(test_X_df)\n",
        "predicted_test_Y"
      ],
      "execution_count": null,
      "outputs": [
        {
          "output_type": "execute_result",
          "data": {
            "text/plain": [
              "array([2, 0, 9, ..., 3, 9, 2])"
            ]
          },
          "metadata": {
            "tags": []
          },
          "execution_count": 9
        }
      ]
    },
    {
      "cell_type": "markdown",
      "metadata": {
        "id": "Nzxi41TqVG_B"
      },
      "source": [
        "# Deployment\n",
        "Submission to **Kaggle**: Create account in Kaggle and upload the `submission.csv` [here](https://www.kaggle.com/c/digit-recognizer/submit)\n"
      ]
    },
    {
      "cell_type": "markdown",
      "metadata": {
        "id": "8avNUvHZ8nF9"
      },
      "source": [
        "Kaggle does the evaluation on Test Data."
      ]
    },
    {
      "cell_type": "markdown",
      "metadata": {
        "id": "E8mLZ4KM8ixU"
      },
      "source": [
        "![image.png](data:image/png;base64,iVBORw0KGgoAAAANSUhEUgAAAh8AAAD9CAYAAAAcThVxAAAgAElEQVR4nO3daXBTZ74mcE/NTM3Gh5maujM3NR/mw9TcomqWmlt9K16gb9++3Z1ebhbS6dBLcptAwOnN6aSBbDgY27LDEkICBhMw0BDSMYGweAPhDRsv7AZjwMY2eMWSbHmRjnbpPPNBOsdH8pEt21os+flV/SuJdXTOkXJc7+P3fc97kkBEREQURUmxPgEiIiJaXBg+iIiIKKoYPoiIiCiqGD6IiIgoqhg+iIiIKKoYPoiIiCiqGD6IiIgoqhg+iIiIKKoYPoiIiCiqGD6IiIgoqhg+iIiIKKoYPoiIiCiqGD6IiIgoqhg+iIiIKKoWdfgYsQ3haPt2vFL5t/i7k0msBVovnv+f+FPD8yju3I0xx3CsLxsiIpqnRRk+7B4bCts+jHmjypp9fe/cf8bpRwdifQkREdE8LLrw8dj0AD89/zcxb0RZ86s3Lv0DBi2PY305ERHRHCyq8DFiG8KPS/9bzBtOVnjqlcq/hdk5HuvLioiIZmlRhY/3mlfGvMFkhbdyrq+J9WVFRESztGjCx83hupg3lKzwV/Kpf4U+c2esLy8iIpqFRRM+8m++EfOGkhWZ+vTOhlhfXkRENAuLJnz8sOSvY95IsiJTK7X/K9aXFxERzcKiCB8m51jMG0hW5Cr51L+O9SVGRESzsCjCx2PTg5g3kKzI1rjDGOvLjIiIQrQowkfneGvMG0dWZEtn7Y/1ZUZERCFi+GAlRDF8EBHFD4YPVkIUwwcRUfxg+GAlRDF8EBHFD4YPVkIUwwcRUfxg+GAlRDF8EBHFD4YPVkIUwwcRUfxg+GAlRDF8EBHFD4YPVkIUwwcRUfxg+GAlRDF8EBHFD4YPVkIUwwcRUfxg+Ijj2t36jvwZd7e+E/PzYfggIqJQMHzEcSVS+KgZOB30s6xvXCG/dnukgeGDiCjOMXyEuW6PNACIThiYS/iQGvIec8eC+h5WVSfLT6YNPDdpX3a3Fauqkxk+iIjiHMNHGGtVdbJ8zIUaPpp1WgCRDR9z/R5OdBXI7zvRVYC/O5kEzY118s9qBk4HfS/DBxFR/Fj04WNVdTLKeo6ix9whb293W3F7pGHKX9nrG1fg9kgD7G6rvG37WAs0N9Zhd+s7qg2g1MgrhxWU+1T7eajnNJvwsao62e9YSsr3nugq8Psc7WMtU/Z9+EG+3zbjDiNujzSE9D3MVFLvx7jDiL87mSR/B+MOY9BeD4YPIqL4sujDh7LBC6Sz9vsFD2XoUFrfuMIvKCjNJXyEek6zCR/KbQNJ75V6RQBvY688B2mb6fYTyvcwUx1+kC+/RxpuASZ7Qhg+iIjiH8OHr0HV3Fin2v0v/VzZEJb1HJWHBJSN4nSTJmcbPkI5p7kMu0gCw0CwSZ3tYy0AJkOP8nzXN66Q33v4QX5I30MoFRhgpF4Qhg8iosTA8HEySR7iUOvZkBpP6bXp/oIPZ/gI5ZzCGT7Keo6q7kvZExF4TLvbimad1i8khSN8BPauhLIPhg8iovix6MOHcqihx9yBmoHTfr0cUsMnmW7SY7jCR6jnFM7wEWw+iJK07YmuginDQu1jLfKcjPmGD2WYUA4zMXwQESWGRR8+JMqhBrVGPZw9H8qJk8qgMdtzilTPR4+5Q7UC93X4Qb7fEIk0HBWO8CHtN9S5IgwfRETxg+HDR22eAzDZeCp/Js3zWN+4AjUDp+VhB2UDrtwm8DWp92R36zt+wyqzPae5hA/peDprP1ZVJ8ulnPMR2LsjvS4dUzm/Q3lbrfS+6b4Hhg8iIlr04UP5l/u4wwi72zrruzykbZRrUkikxlPZuCspjzWfcwo1fChDTOB7lb0wgaRgoezV0Fn7/cJTKN8DwwcRES368LGqOtmvsW8fa8H6xhVyI61s1He3vuPXeKutvaGcDyFNyJReC1wfQ3qv1IDP9pzmEj5WVSf7fQadtd9vwmjgUArgDQDKY6q9ruwNmel7YPggIlrcFn34YCVGMXwQEcUPho8EqvWNK7C79R3Vmu2ci0iUtAKqWk23einDBxFRYmH4SKCa7nbZ6W4RjlYFW/0UmP+zcBg+iIjiB8MHKyGK4YOIKH4wfLASohg+iIjiB8MHKyGK4YOIKH4wfLASohg+iIjiB8MHKyGK4YOIKH4wfLASohg+iIjiB8MHKyGK4YOIKH4wfLASohg+iIjiB8MHKyGK4YOIKH4wfLASohg+iIjiB8MHKyGK4YOIKH4wfLASokZsQ7G+zIiIKESLInyM2IZi3jiyIln/AiLEWF9mREQUokURPgBg+en/sAAaSVYk6tny/z7v68MjigwwRERRsmjCx/vNP495I8mKTG2/9Yd5XRsWlx1WtwMiRHggQhQZQoiIImnRhI8m3YWYN5KsyFTH+O05XxcXBu5geXUePnlwAVcNXRAhwu3xwMMAQkQUMYsmfABAeu13Yt5QssJbGxpfnPP14BY9+GnDHqSdz0GaNhc/qt+FHfcrcHW4C6Iowi16OBRDRBQBiyp8PDY9wLLT/z7mDSYrPPX9c3+FYduTOV8PblHE1z1X8cqVz5FWmYflFTlIq8rDz5r2Ir/1HO6PDXIohogoAhZV+ACA+ielnHyaAPX9c3+FOyNN87oWpEmmt0Ye44ObX+PH9buw7KIGyytykVqVh1ea9uOTexUYsZsh+rYnIqL5W3ThAwAGhG78ru77MW9AWXOrD678EuOOkbBcCx7R27MBACV9N7G2+RCW1eRj2YVcLLuQi9TqPKxuOogjnfUAANFXREQ0d4syfEi0fV/hzcs/4VBMHNR3z/4nvNP0M1zVV0XkWpBmd4w7LNh9X4tfNhQitUqDZedzkHohB9+t2YY1jQdR+aTNu73IoRgiorla1OFDacjSi9sjDbhhqGUtoLo90gi9dSAq14A8vwMiHowP4r3rxXixYQ9SKzVYVp6N1Iu5+MmlT/DW1S9wf2wAoihyKIaIaA4YPogCiBDlno0GfQfevXkCP6j7GGkXvT0hKZUavFS/BzvbKmByWjkUQ0Q0SwwfREF4FD0bZ3pv4E+3vkJqbT6WazVIu5CLtKo8vNqwH8WPmuXtGUKAUZMV1x/0oOlul2o13+tGv2GMw1ZEixjDB9EMPL6eEKPdjOPdjfjtjWNYVpOP5edzkarNxfdqtmNd0yHU69rloZjF2rC63R403+tB/e2H09bNriE4Xe5Yny4RxQjDB1EIREiLjgFdJj0OPbyEV64eQFqlBssqcpB6MRfP1X2K924Wo9ukX5TzQUQATrcb19r7Zwwf1zr6YXe4Yn3KRBQjDB9Es+ARRbh9PRt3Rvuwp6MSP6r/BGnaXKRVZCO1SoOX6wuw574WDk/iN64eUYTN4ZRrzGzB1fa+GcNHY9sjjEwIfu91ezyx/jhEFCUMH0RzIM0H8UDEVUMXNG0lSK3SIO18DlLP52B5dT5evbwfJx5fkd8TOBQjAnB4XHCJC6jRFUWIHnfQgjhZHo8brY91uNbRj+sPB3H94SCuPOidMXhI1dT2CNcfDuD6w0Fc6+j39YY4phwnaHGGDVHcYvggmiPl81/GHBbUPGnD+pZipFzMRVp5DlIu5OB71dvw6/pCNBs6VeeDNBke4rn6z9BgeBjDT+IjeuAaboG1/RgsD/4My/0jfmV98Gc4uo4BPccg9hyDqetrNN6buZcj5LrTCf3D8xB7jgKPjwWvni+AnmPAyGXA44j1t0ZEc8DwQTRPk/NBRAxZx3B+4DZ+1fw5UrW5SC3PRoo2B89f2oXNt77BgGVUXqpdhIgvuhqQdiEX36vahn6LMaZ/y5tu7cJo2QswnHsBw6Ur/MpQsgKWyheByz8FLr8E8fJLMDf+DrW3H4cvfNzuxFBzLsT6F4HLL81cDT8F7m+M4TdGRHPF8EEUJsql2jsnhnCoqw7frd2GtAveoZiUKg1+eXmfvFS7W/Sg+sk9pJ73LmBW7BuiidWdMtbaVRgueR6Gc8+plufSCqDeW2L9Ckw0pKOm5VHYwkddy0MMNWVDrHtePs6MdflFwKaLyfdFRHPH8EEUZtJ8EKfHjbujfdhxrwKpld5ekNQLOfjH2u146/px1OvaMWgZxffrPkZKRTZeu1IEk9MWs/AhVL8iBw392WehP/c8DL7Sn30O7ksr4KlbAbH+RXjqX8REwxsRCB858NS9ALH+xeBV9wJEKXw0vQRYemPyfRHR3DF8EEWAcj7IhNOK26O9WH/jKySXZSGlLAsp2hy81LgXBztq8cPqHUgt24LUCzkoH7i9MMLH6R9B33IM+gcXYGjXQt+uxVjXRYx1X8R490WMdV3ERF8j+ocMGNDpw1L9Oj3GB2/B1l8D28ClqdVfA3tPOcS6FRDrX/CGj8aXAKEXnHxKFF8YPogiSJ4PIooYsZvRpO/Eq3WF+HZFDpIrtiDlYi6WVeR4Q0lpFlZfKcKwzRSTNUIs1a9Oho+yldDrnkCv08Gg10EfUAa9DoLZDLPZDEEQwlhmCIJpmrLAeet977wQKXxYGD4i6U7/KPZU38fvjjfhud2V+M72ClaC1TOfXMDrf76MrRWtqH8YnWFMhg+iKPCIIixuB0bsZjToO7Dp1kmklmXh6dLNciWXZSGlIhsf36uAze2MenPqFz5KV0KvG4Jer4fBYFAtKTBYLJbolCBAsNjgYviIiorWfvyfrDNIWnuYtcjqr976C3ZX3YPDFbllABg+iKLAI4rIuHoU363eih9Ub8fyixokB4QPKYCkanOgfXIXYpSXaZ/a86GDYSGFD4uF4SMKRFHE2qMNMW8AWbGv/511Bg914xG5zhg+iCJMhIgeYQTP1u1CakU2Ukq98z6k+R/JZVlILs2Sw0dyxRa82vw5HgvDUR1+iUb4UA6xOKw22IOUw2rz25bhIzpcbg9+/nltzBs91sKpJb8/hpM3Hof9WmP4IIoS7ZO7WN1UhJ9dLsDPGvbihbrPkFaVh+VaDVK1uUjx9YSklGUhpXwLftVQiCfWsYici0dlKfNohQ+bxYo/37yE7EvfIPvSafWq/QZftzZ5h1oYPqLm3VPXY97YsRZeLc38BmMWe1ivNYYPoihy+5ZSH3UI6LcY0ScY8eWjJuS1lSBVmyMPxaSUZWF53Tb0mIfDclypaW5qacP5uisY1E/d73ThQ28wQG/Q+/5pgF5vgNkswGwWIAiWGWoyQJjNZgyM6LGm5ADSyw5NW6vO7se9J70wmU0MH1Fw8d5AzBs51sKtN441hvV6Y/ggihEPvHM6RABWlwO9wgj23Nfi2+c1SLuowct1e8I27PKguxdFX5dh1+ET2FlUjE+PfI2u3gG/OSWhhI8Bwzj6DRPo109AN2aDftQK/ZhtmrJiwmyRw4dJENAx1I91pUVYV1qE35QdxuslB7CutGhK+Hjt7Oe41d8Fs9nM8BEFf5t9NuYNHGthV9tg+HpiGT6IYkyEKIcMu9sJvc2Eos5LGLLOf6KXKIq41/kYnx09hY8P/sWv9h4/A4fTKW87XfjQGQx4YhhBp8GJLoMTXfpQy4FHegcEwRsgzIKAh7oBrCstwmtn92NUMKPHaJDDSHqpN3isKy3Ca+c+x63+bpgFho9Ia+kzxrxhYy38evfU9bBdcwwfRAuI6GtExTA1ph6PiE+PfD0leHx88C/45FAxztddkXs/Zur50Bn06DdMoM9gQp/ejKFRm6/sQcr7+qhpsucjMHzoTRMQbDaUtt/E2pKD+KD6BHLrzmBtyUGGjyjKL78T84aNtfDr/245E7ZrjuGDKIF5PCJ2HT4hB44dB77EjgNfYtv+L3DwVAWu9eshOF0AAlY4DTrnw1d6PQRBmNUiY4HhY11pEf6kPQ6zzQa7w4m91yphFMxwOJ3IOH8Uqxk+ombVofqYN2yshV//5jd/Dts1x/BBlMBEUURrexd2HSr26/Uoab6Fq/06XO0bQtvIONweEUJV8PAx3d0ugiBgbMIC44QFxgnrlDKZ1cOHNLxy6OYlWOw22BwOCDYb6h8/YM9HlH1ne0XMGzZWfNSYxRGWa47hgyjBiaKIwyfLsePAlzhaVoXGR/1o7hnEld4nuNo3hBsDegxYnLDWvArD2edgOBt6+DCbBYybBDzUqc/56NQ78MigPudDCh9rzn2Oa/3dsDkceDIxht+WH+acjyj7f5xsygqxeo1CWK45hg+iRcAkWHDpwSNc8/V2XOl94q1+HW7d78TEnkMYOfny7MOHL4AMGm0YGLGr1si41b/nY2jA7+6WdaVFWFtyEDuayvCHiqPeIZkyKXzwbpdoYPhghVoMH0QUMlEU8cg4gWt9Q7jaN4SrvU9wpXcQPX85DffmPLi25MO+dZM3eJx9dtbDLoIgwBKklHM+TGYzHumfYF3J5J0t6WWHkF56CG+UHZb/Pb30EF47ux+3+x8xfERBPIaP5LxStPQZ5c9gdbhRUHM/5ueV6MXwQUSz1jZqxpUBPVpv34PlrU1wrs6Ac+OHcG3WwLU5D2OHV806fMx2hVO7xQpN3Rm8feELvK0NXjsbyzBhmuAKp1Ew3/Dxzkn1WzA7dBMRCwTK4CFZx2fSMHwQ0cJjsjswdKYc4oe5cL2fDeeaN+FcnQHXhxo4fQHEcGqF76m2kXu2i8P3/Jbpyma18tkuURKp8CE5fasn7I2gpEM3gaS1h7GioCrmDfNiKIYPIpo9UYTnyHG4c7bCvSUfzt/8Cc41b8Lxh41wbtbAmaWB5ZP10Je+DJ1uKCJPtQ311ly1/TN8REY4w8c7J73Ph8kvvwOj4H0eiNXhjlj4iESwYTF8EFEEiFs/gXtLvjeArHkTjtf+AOd7Wd7ejw8/gvGr16HXDXl7P8IcPuZTDB+REYnwkbT2ME7f6pF/rhwSKai5j/7RyUaspc/o9z5luFhRUIWCmvtykMkvv4MO3cSUzyD1gKjtv39UmDL8I51bQ6feb/6Itm3A7/jrjjZA2zYAq8Mt7yu//A5WFFT5Df209Bn9PmNyXimONnX6navV4ZaPF/jdGQX7lHks/aPClKGk5LxSnL7VI38fynOStllRUIWGTr18zkbBjtO3evyOy/BBRFElejwQb9yCO2crXFl5cG3I9AaQ19+Ea7MGzqw8OHPzoB8cgF6vD9r7Ea2eDw67RF40woc0LKJtG5B/ZhTsfo2o8r2Shk6937kq96kkhQ/l/gNJwUJ5bv2jgl9QkXpSlOcYyOpwq/7cKNj9vhe1baRjqn13wY6lDA3Kc1WSwtWKgio5dADwCz/KgMbwQUSxsfcg3NkfwZ2dD+e6t73zP956Xx5+MZ0pkVczVQsg85nzIQgCrNNsZw3YluEjssIdPlYUVCG//I7fX95Swyhp6NTL75f+2lc2ykr9owKONnX69V5IlMMuyv239BmRnFeK5LxSvwAj9SQEhhht2wDyy+/IAUhJ+pky2FgdbqwoqJrSW6Gce/LOyetTenwCz0P53VkdbtVjSb0ayvdLPShSz5AUUKTPanW45WOsO9owZV8MH0QUGzY7xPyP4czKg/tDjTz84vogxzv8sikbI+0d0Ot03gAS9FZbywzl3cZisUAwm2G3WJFVewprS4uCV0kRPm4sg8lsWrThwyN6cH98EHfHBmB3uyAifM/8CRTpCadSaDja1Cn/TNnLkV9+R/55YLgI7E2YLnwE278ylEjbK8OH2h05EmVvgfJzKo+rDAXK40rDLsqeiMDtgu1T7efKkBPs/4V0rMBeDqnHZL5zZBg+iGh+RBGekgp4fMMv7j++7+39SH8brqw8OLfkw7arALogvR/SCqezGToxCQK69IOTT7FVLDQmr/nhq9VnP0dLfzdMZtOiCx8igB7zMH7YsAspFdl459YJjNjNcIueiASQSIWPwLkcwYZMlAIbf+VQyUzhQ7n/mbZXbqs2F0Lt+KEEBbWeiw7dBE7f6vHrgVELH8peCbVjSUMo0w2fzIThg4gWhr0HvZNPsz+Cc+0f4Vz9JpzrM73zPz7MxYS2Cnq9fkrvh1kQMDBiQ/+IHf0jDpWyo3/EjtEJC8xm/xVO15YexLrSIqw+dwBrSw5OCSPpZYfw2lnf8uqLdJExp+jG7vtapFzIQeqFHPyisRBlA7chuOxh7wWJ1JyPwFL2THToJlRrunAxU/iYa89HqPufTfiQKIeX1LYL9t3Nt+fDKNhVv9/5rrvC8EFE4aHXw5O7Da6sPLg/yPYuPLY6A64Pc313v+TC0Ns7Zd2P0QkLOnVOdBuCV5fegW69+rNdfn2mEGabFXd1/VhbctCvByTWz3bxiCLcosdXyn/3wCOKYSlleBBVXneLHtjcTrx/+yRStDlILduCf6j8CO+2nECvMOJ9HwBPGD57tMKHWgiQSpq/MJ/wMdc5H9EKH8rwMJfwoQxX2rYB+fMV1NyXQ4X0WY2CfcraJ+FYhI3hg4jCRvyi2Df8kg/n7zd453/8bgNcWXlwZuXBUnQU+uFhv94PwSxgzGTB6IQFoxPWoKUcdlGGj38+UwiL3Q7BZsOBGzXeh8yVHJR7QmIZPmxuJyacVow6BAzbTDDYJjBkHcegZRQDllH0W4zoE0bQ66seYRg9wrDff8/47+ZhPDYbvGUyyD/vFUbQJ4xgwDKKJ5YxtI32Y23zIaSUZyOlNAspF3Lwba0Gn7Vr0T4xBJPTBrfomdfnjVb4SFo7/d0oygZd7WczhYOZ9q8MApEOH8q7TIyCfcodMnMJH8l5parzR5TbBN7tEojhg4gWDrcH4o5dcGblwZWVB8frf4RjdQZc72z29n5k5mC0sdmv92Mucz78nmpbWoQPqr+GxW6Hy+XCxotfwiBMwO5wIaPiKFbHKHzY3S5kt53F+pZi/OHmcay78WesvnYIrzZ/jl827cfLDXvxs8sF+Gn9Hjxf9+mc69lLu/Djmo/xk5qd+EnNTr/Xfnp5D1Y27MWvmvbjtatFeOHSp3i6PAvJpZuRUpaFp8uykHI+G/906RNsaCnGl4+bMOG0zvkzRzN8JK09rLpWR4duQvVW29mGj6S1s1vnA4hM+EjOK/X7jC19Rr+1QeYSPqRwoVzDQ9p34BojDZ16v7BjFOx+4Yvhg4gWBMepN+HKyvOGjQ2Z3uGX1/8or/3h0GyH/skTeeExZbAwjFkxNGrF0KhtSo2b1cOHVKXttyDYbbDY7TDbrHig984JiVXPx4jdjLSKbCwrz8ayipzJKvf+M608e0r5bVM+/bZp5TmTVTG1UsuzkVK2BcllWXi6bDOSy33/XrrZr5JLs+TtllflYVe7ds6fOR4fLMeKTTF8EFFYCTW/hP2jTXBm+RYa+816OFZnwJnxLpxZGrg2a2A+cQo6g3f4Rer5GDcJeKhzokuvVsHnfEhzO1af+xwD40aYbTbYHA788cKxmA67WNwOvHr9EF5sLMDzl3fjucuf4dn6T/HjS5/41bOXP8Vzlz/Dc5c/wwuXd2NF4x78tHEvfta0Dy837cMvruzHz5v341fNn+MVX7165QB+feXglHrtahFWXzmE1VeKsKapCK83FuGNxsPIaD6KFTW7vL0dUugoy0JyqX8YST2fg5WX9sz5MzN8sEIthg8iCiuh6hUYvlkBZ1auN2xk5vgePPcmnO9v8QaSD3NhvNPqFz4EQcDIuBXDKmUYs8JkCuj5GBqYcpvtG2WHUXSzFhsufin3iHjDR1dM7nbpMY9419gY7UPraB9uG3txc+SxX90e7UXraB/ujPbi7lg/7o8N4MH4Ezyc0KHTpMNj8zAemQ3otxjRL3hrwGKEzjruX7ZxDNtNGLGZYbSbMeawYMJphcE6gYL2SvykdqcvcHiDR8r5bKRezEXK+S1ILduC5RW5+MfKrdjfUTPnz8vwwQq1GD6IKKyEqlegP/ssTPvfgHOzd+6H8633vcMv0tofWXmw7/wMeoMBgtk86yXSTWYz+ob13rtbSv3X9fD779JDWHV2P9oGe6IePsSAu1vku1wgTlaQbVweN1yiBy7P5H+rbResPBDh8rhhdtmR03oWaZUapJT65npczMXyqnysaTyIY12XcXPkMfqFEQxZxzHqEOAR5/4dMHywQi2GDyIKK0v1q9CffQ66sz+BXfOht/cjKw+OdN/S629/4J3/sVkDU4UWgsXiFwxCXV7dKljwRUs9ttR+M22dbG2G2RdwFts6Hw8nhvDDmh1ILd+Cb2s1+OfmA/j8YS3ax5/A5VtoLHCdj/ms+8HwwQq1GD6IKKws1a/CcPY56M8+i5GvfukdZtmsgev9Ld6hlzVvwrXJt/T6lnxYBgchmM2wzOL5LrN6HowwdfvFED5EiDDaBXxw+xSerfkER7sbMGAZBeBdcl30rREizqOnIxDDByvUYvggorCyVL8Kwzlv+NCV/xzCV197g0ZWHpwZ73jX/vjtBm8oycqDY38RBKt3HQ+LELmn2vq9dxGEj1hg+GCFWgwfRBRWUvgwnH0O+tKXoR8chMP34DnnZo1v6fUMODdkev/7Qw2sV6/PuvdjPsXwERkMH6xQi+GDiMJKDh/nnoO+bCX0uiGMNl2Rl1l3vrMZztUZcLz+5uTP8ndAGBubVQCRejTMM5Ra7wfDR2QwfLBCLYYPIgortfChGzbAcuioPNTi/J136XXnH96BtCCZ/dhXMEvDL7OY82EYG4VhPEiNjTJ8RBHDByvUYvggorBSCx96nQ6Gnl44c7Z6l17PzIHzde/aH653vUuvOzfnwXr/QUi9H4LZDKtgwVsXvvBb5VSt3qv8CiPjYzAzfEQcw0d4S3q+TEufMebnEu5i+CCisJoaPnTQ6/XQ6/WY0FbBKQ21rN/kXfl03VuTS6/v+BRmX7iYLoCYBAGdAcurp0v/LPNf9+O1s5+jpb87JouMLTbxFj6UgjXwyifZAvN/oNpsSnqmi9Xhjvl3xfBBRAuaWvgw6PXQ63TQGQyw7S6cnHz6xtve22//+B6k4RfbubIZb6WVVjhdW3oQr5ccxO6rWmTVnvIPI75VT+Xl1Rk+Ii6ewwegHiwCn+w6l/WNfkcAABnJSURBVOMU1NwHEPzhdsFqRUEVTt/qCekhe/FWDB9EFFbBwocUQEYetMvPfXF9kA3H6gw41rwJ5wfZ3kCSlQdhhrU/lM92WXV2P+wOJxxOF97WHse60iKsLfGGklg+22UxivfwkV9+x+/1/PI7AOAXQOZyHOnJuLMNH4lcDB9EFFZBw4fB4B1+MRhgPnVWHmpxvvWed/jljT9N9ojsLoRgswXt/VCGjzUlB9Dc+xAmqw29o8NYW3oQX91tgrazleEjyuI1fEiPpw98VLw05KIcelG+HvhYeqNgx+lbPUjOK5Vfl/YdKGnt5OPujYIdSWu9czysDjf6RwUkrZ0cdunQTUx7XOkzrDvaEPPvlOGDiGJiuvDh7f3QQ/9kCI6tn/it/eFY8yac631rf2zWwNrYDMFkUu39UIaPdaVF+PWZQgxNjMFit+Nqf6c3uNhs+MP5o1jN8BE18Ro+pGGRwLkVUuMu9YAAk+FjRUGVX+MvBQXp35PWHsbpWz1Bvytl+AD8A470frXwEXhcpRUFVTH/Thk+iCgmpg0fcgDRwXjrNlyZvsmn72bJwy+uD309IrnbYHY4IAhTn/uiDB/eB8gV4a0LX8BstcFss8Fqd2DftUqsLTnIno8oitfw8c7J6zAKdgCTQy9S4GjpM/qFBOm9UliwOtxyj8O6ow3ydtJ+lO8NHHZRviYdq6DmvvxetfChDClHmzrl4xbU3I/598nwQUQxM2P4UAy/WP583Dv3IysPzt9vlJdeN2V/hN7c7RgZGFR96NyU8OELIIduXcKYRUB9zwPO+YiBeA4f0m2t2rYBv0a+oOa+aviQeh8Ch0QC53eEGj4Ch3yChY9gx423YvggorAKJXxIvR+Gvj64tuR7n/3yoQa219/E15u3Yf32vXhvWwHKay7DZDJNmfth8t3tEnhny7rSIvzzmUKsKTngu/32EF479zlu9nfxbpcoiOfwIfVaSPMvpEY+Oa9UNXzMZLbhI3Cya7DwEWxf8VYMH0QJRnpKabifWBqqkMKHFEAMBlhv3YEzMxfm7I+Q9XEhPty+F5u278UH2/Zi18HjsKmsemo2m6EbNeL1kgNYV3po2nrt7OfoGOpn+IiCeA4fSWsPy0Mv0lwNae2P6Xo+jIIdHbqJKSUNg4QaPtRup2XPx8wYPoiizC164PJ4AHibTI/0iHSIcPtCh83thMFmiup5hRw+fMMvgsUC2/lKHNi2Bx9uL8Cm7XuRuWMfMnfsw4cfF8LpsE99Kq1vHZCmxw9QeK0yeF2txI2+TlgEC5dXj4J4Dx+BC4qpBQjpvdK2RsE+ZaKn8q4T5TwQaWhF2n4u4UN594x0ftJ6ILzbhYgixi16sO9hNX5z9c/Yeq8ce9orcbS7ASUDt1A1dA/HHzfhSFc9slvPYM2VQ/hlYyG23yuP2vnNJnwY9HoIZjMEQcDte+1496Pd2OTr+di0fS82bSvAkM4wZd7H5EPlzL4K/mA5k2Dms12iJN7Dh/KuFgDyLbNq4WO6u06U2yWtnbpQmfT6XMJH4CRVpXhajIzhgyiOiKKIXmEYyy9tReqFHKRWZCNF+uf5bKRczPX+U6ryLUgpy8LfV32Eu6N9UTnHWYUPg8EbIsxm71CKfhjvfbRb7vnYtH0vKi83w2QyhfSk21CL4SMy4j18KIOCcrl1tfCRtPYwkvNK0dCpl4drAG9PSODk0XVHG+SJqMBkmJhL+JDep+wBsTrcaOjUy2EpHorhgyiOeEQRDo8LDfoOvN9yEs9d/gzfvqBBStkWJJduRkpZFp5W/PPp0s1ILsvCdy7m43Tfzaico1/4KPU+WG7aYRfFU2fNZjNMZjO27j2CzB378MG2Anxa9CWsYQweFkFg+IiQeAsfrNgVwwdRnBFFER7fZNJRu4BP7lXgH7UfyWFDGTqSS7Pw7fJcnOq9DqfHDTEKjat/+HgZOt2QL4DooNfrYAgowWzylmCGRTBDMJtgEcw4VabF+1t3Y9O2PXA67LD4Xg9HCRYrw0cEMHywQi2GD6I4Ioqid2KpKKJ1tA+aO2fxcvM+JFdk+4WO1PJspFZqkHX7G+htE3B5go9Nh5ugDB9nfgL9pXehb9oKQ9NW6Bu3wtKyHdbbk2W/+zGcd3fA1faxXM67H8NxdwceV72L4aYtcNz92O/1+ZTz7g447+RCrHsBYv0LivDRB4aP+WH4YIVaDB9EccJ7NwswZB3D1tZS/LxhH1Iqc/F0hXdeR3Jplhw+vle9Dfvbq2GwTUD03QUTLULVKzCce94bPs4+K5fh7LPQn/knuGufh+fS897GP9ZVv8IbPhpeAoSeqH5PiYjhgxVqMXwQxQFpvY6DHbX4xeW9SK3SIKUiGyllW/CTizvw6uVC7zBLWRZSKjX47L4WALzDM1E+V3vdGgyXPC/3fihLf+45uC/5ehsWUjX8FLCrPwCMQsfwwQq1GD6IFijlAmElfTfx64b9+E619y6XlLItSC7Pwr4HVbg71o9n63Z5ez/Kt+Ct68eht03E7K94W/cZjJe/oB4+zj6LifPPxz5sKKvpRaDz45h8V4mG4YMVajF8EC0wynkdt429WNNwED+o3o5UbQ7SyrORqs3FWze+xIOJJ7C4HTjdewOplblILsvCPzcfwBPrmLzgWMx4HBBdVoguKzwui1yi2/szuK2A2+YtlzU2JR3fbZ/581BIXoijp6qyYlf/Mv0IXG5PWK45hg+iMJDmdRjtZmy9W4IX63YjRZuLtApv6PhZw15on9z19mz4QkrW7W+QejEXT5/fgrP90bmdlkjNH7+6EvOGjbXw63+8fzJs1xzDB9E8iJi8z+J4dwNeuVyItOo8pJ7PQer5HKRV5WHfw2o8nBgCMBlSRFHE2d4bWHP1EA501sITg2e5EEnO3x2IecPGWvj1xrHGsF1zDB9EcyD1XgBAzdA9rGsqwvdqtiP1gneIJaUyF5tbT+PGyCNY3Q54fGt8BHKJ4enCJJqvv/7TVzFv3FgLuy4/1IXtemP4IJolaV5Hx8QQNlz/Es/W7ULqxVwsK89G6sVcvH7tMOp0DzBsN/keFheLe1eIZqfw0oOYN26shVs/3KUN6/XG8EEUImmIxeJyYNe983i5vgCpVRqkVWQjTZuLf6r/FIe76tA5MQRRZOig+POPH5+PeSPHWnj1HzOO4/GwOazXGsMH0Qykx94DwNePr+DXjZ9jeXU+ll3IRdqFHKTW5COvrQQ3Rh4Bvm05h4PikW7Civ/y9l9i3tixFlaV3O4N+7XG8EEUhPLW2Ub9Q7zRdAg/qN2BVG0ullfkIK0mH7+7+QVK+25hzGGBCPV5HUTxpH1oHH+z6VTMGzxW7Ovf/vYoTt54HJHrjOGDKIAcOiCiTxjBpptf4/lLnyK1UoNlFTlIq9Tgpaa92PugCl0mPUSIcEXp4W9E0TBhdeLt4qsxb/xYsavn91Ti/pOxiF1j8wofNo8L9WP92NN3C+8+rMO6e1oWKyz1+weVyHvUjK+GHuCxbTxc1/uMpCETjyjiSGc9ft10ACmVuUg7n4M0bS6+W7cDm26fwmV9h29eB4dYKHH1jwrYXXUPL+2rxn/9E4djErn+3W+P4rs7KpBd0oJrj4cjfm3NKXy4RBF/GbqPv7/+Fb515RiLFfF64/5FdFsjF0I8vgmiAFA7dB9vXf8S/1C7DWlaX/CoycfaK4fx1aMmODxuv+2JFotO/QRq24dYCVY3ekaifi3NOnw8so7jV62lMW+MWIuvkq8eR7UxvBOflLfCdpv02HXvPF5sLECaYojlZw0F2NlWgX6LcXJ79nYQEc3ZrMLHkEPAd9jbwYpxHRm8G7ZfABGA4LLj4uBd/P7WcaTV5GN5RS6WXdTgh3U78da1L9Ckf8j1OoiIwijk8GHzuPBKa1nMGx4WK/nqF7hpCs9Ke8N2E/Y9rEZKdR6WX9Bg2YVcLK/5COuuHMY3PdcBTC6JTkRE4RFy+CgxdMW80WGxpPpVa2lYAsGpnmtIvZCDZedzkVqdh9VXilD0sBYmp9XvuS1ERBQ+IYePlXdKYt7gsFjKqh/rn/cvgNllw49qd+JXVw/gs/sX5FtnuV4HEVHkhBQ+HtvGY97QsFiB9V5nXVh+CcYdVtwfH+SS6EREURJS+OCQC2sh1o9vnQrbL4IIrtdBRBQtIYWPI4N3Y97QsFiBlXz1Cz6SnogoDoUUPgr7W2Le0LBYamV2OyP9O0JERGHG8MGK62L4ICKKPwwfrLguhg8iovjD8MGK62L4ICKKPwwfrLguhg8iovjD8MGK62L4ICKKPwwfrLguho/YKC4uhkajifpx9+3bh+Li4qgfl4jCi+GDFdfF8DGpuLgY6enpqtXa2hr2Y8UifGRmZuLIkSNRPy4RhRfDByuui+FjUnFxMTIzM9Ha2jqlzGZz2I8VyfDR3Nwck3BDRNHB8MGK62L4mBTN3ohIH+vIkSMMH0QJjOGDFdfF8DFppkBw5MgRbNiwQfW1DRs2yMMZzc3N2LlzJzIyMpCeno4NGzZMmWcReCxpyCdQa2vrlGGfmfav0WiCDhtpNJop59Ld3Y2dO3fK22ZmZqK5uXnKeWRkZKhu293dHfQ7I6LIWFThQ9Jjm5B/pnNYAAClw90xP79vXTmGmtFe+Tw/670Z8/NZ6MXwMWmm8NHd3Y309PQpDXNzczPS09PlRri5uRlHjhyRh2ykYKF833zDx0z712g0qp8lMHxIn2nnzp1T9ldVVTXlPDZs2ICqqip528zMTGRkZIR9WIqIprfow4ek3TIa8/P71pXECh89tgkAgM3jxqq2Cr/XTuja5c95Qtc+52MwfEwKNuFU2YhnZmZi3759fu/bt28fMjMzp913YO/EfMJHKPsPNXzs3LlTdbvi4mJkZGRMOQ9lIAGAoaGhiEzIJaLpLfrw8VnvTdSM9mJ9R+2s9rW+o3bKvsJRcwkfUkNeM9ob0e9v3OUAgJC3z300+Zds4LlJ+5rv98fwMSnYhFPlsEJVVZXfX/pmsxkZGRlTGuVAgY1+uMNH4P5DDR/p6emqt94GHlf6b7UhFoYPouhbVOFDGmIJR2BoHh8M276UdXjwrvy9hxo+pM8VyfChPK/ZvK/FpJffJwW80uHuWX/GYMXwMSmUSaBms9mvB6Cqqgrp6el+ww7SnIwNGzb49aCEK3yEsv9IhQ81DB9E0ReV8CF1vzePD+KErl3+q3fc5cDhwbvydp/13pR/LjXwNo8bOodF3mZ9Ry1aTHrYPG5525rR3ind+ocH7/odp3S4Wz4PtWGXwIb7s96baLeMyq/bPG60mPTI7m70651QUjakJ3TtcigAvMM6gQ3tqrYKv8a53TLqNxwxU8O8vqPW7xyVlMeoGe2VvwvpcwT29Ci3AQCdw4Lm8UGsaqvACV27/H0rhRJ2pB4iAGgx6bGqrULeVziGuhg+JoV6B8q+ffvk7TQajd8wjBRGSkpKMDQ0JP88XD0foe6f4YMosUU1fKg1YMBkIyuFDwB+jbIUFtZ31PrtQ9qvcpvA/ShJ750pfCj/ylcadzmC7lv5OaReEek9ykZdGSiU5x94joHbqlWwEARMhg9lANI5LPL+lfMwgu1HCoHBhNrTovw+1HpCGD7CI9TwoWyYAxtetUZfGpqZLnxIk1YDJ25KoUR5t0oo+4/UnA81DB9E0RfV8AFM3lWibMSlv4ADG3apJ0DqHZEaLpvHjdxHzfjWFf95BdJ2yt4AqQFXdvXPFD6UvQTKYKTspVHbl9pf+tLPpXOSenGU591uGcWqtgqs76j1CwuhDEkov7PAMKA2qXNVW4X8+ZrHB/3+/0hhQzq/YEFptv//lb0dat8Nw0d4zGaRsQ0bNkCj0Uy59fbIkSPIyMhAc3MzWltb5cW+Zhp2GRoaQkZGht9dJyUlJfLQitS4h7r/kpISv+2kXhK1u10Cjzvd3S5qGD6Ioi/q4UPt5zaPe0pDqtY4qfVcfOvK1DkPwbr11eZ8SKT3TjdJUlmSwHMJNp8hcM6EcjspSAVuN9/woQxhyp8HzldR9nxIQ1SBvRLzCR+Bx1C7+4XhY/5ms7y6tG3gkIXZbMa+ffvk90m3ph45cmTa8AF4ez8yMzPl9+7cuVO+FVY6fqj7N5vNfutxSEFiPut8MHwQLRxRDR+BDbWyQQpsSJW9DIENfjBS4xv439OdR+C2ynOYrvGXTPeZglH77GphYr7hQ21YR0l57tL8GrXvMxzhY1Vbhfx+qceF4YOIaHFasD0fag2vcpJpj21iSklDC8F6PkIJH+Hs+VA7R2n7YD0f4QwfUs+HzeNWPY/AECBNLlXOUZHObb7hQ+27ZvggIlqcoh4+1HoY1OZ8qDW80pyPcZdjyrCAsgFXm/Oh3PdMcz6UIUd6f+6jZr+hIGkbncOCVW0VcinnfAQ2stLrgSFHmvOxqq1C9dynK+V+pPOTjjHdnTPrO2rloY8TuvYZh36U5yXtf7YTRoN9LwwfRESLS9TDhxq1gKDW8Abe7RJI2m6+d7uEcheJ2i2uane7BAo2lBF4jsr9zVRq34n0mnICa7DzDbxrSHkuUkBR9tSofRaGDyIiClXU53wo15MIts4HELzhldbGUA4NjLscUyaoBq7zcULXLjegoazzEbhOh7SeiPI8lAFE57BM6T0IDBc9tgm/z6W2zofyzpBQw0fuo2a/c1Wbh6J83eZxo90y6rfol9rrys8jhSplr9Bsl0UP9l0zfBARLS4xnXDKYs23GD6IiOIPw8cCr/Udtfis96ZqhWORrvmWtB6IWoXrdtrpiuGDiCj+MHws8Jpu/kmkHyQ3m/+3aqLxVF6GDyKi+MPwwYrrYvggIoo/i+qptqzEK4YPIqL4w/DBiuti+CAiij8MH6y4LoYPIqL4w/DBiuti+CAiij8MH6y4LoYPIqL4w/DBiuti+CAiij8MH6y4LoYPIqL4w/DBiuti+CAiij8MH6y4LoYPIqL4w/DBiuti+CAiij8MH6y4LoYPIqL4E1L4ODJ4N+aNDIsVWE9f+QIuUYz07wgREYVZSOGjxNAV84aGxQqsH9z8OtK/H0REFAEhhY/HtvGYNzQsVmD9qaM2wr8eREQUCSGFDwBYeack5o0Ni6WssuHuSP5uEBFRhIQcPjj0wlpI9VzLadhFdyR/N4iIKEJCDh8A8IvW0pg3OizWt64cw4WRxxH6lSAiokibVfgYcgj4zvWvYt7wsBZ35T1qjtTvAxERRcGswgcAPLKO41fsAWHFoJKvfoGigVa4wdtriYji2azDBwC4RBFfDT3A37MXhBWlWt12Ht3W8XBf/0REFANzCh8Sm8eF+rF+7Om7hXcf1mHdPS2LFZb6/YNK5D5qxvGh++i0jIXreiciogVgXuGDiIiIaLYYPoiIiCiqGD6IiIgoqhg+iIiIKKoYPoiIiCiqGD6IiIgoqhg+iIiIKKoYPoiIiCiqGD6IiIgoqhg+iIiIKKoYPoiIiCiqGD6IEtTGjRuRlDT9r3h+fj6SkpKg1WqjdFZzt3HjRiQnJ8f6NIgoDBg+iBLUTOGjsLAQSUlJKCwsjOJZzR3DB1HiYPggSlDThY9r164hKSkJ+fn5UT6ruWP4IEocDB9ECSpY+Lh27RqWLFmClStXxuCs5o7hgyhxMHwQJSi18GE0GrFkyZJpG3GtVotnnnkGS5YsQVJSkhxUurq6VLc3Go1YuXIlnnrqqSnba7XaoL0vxcXFSE5ORlJSEpKSkrB06VJ5CCg5ORkbN26c8nnUzttoNGLjxo2qxyeihYnhgyhBBYYPo9GIpUuXYunSpTAajdO+Z+XKlSgsLIRWq0V+fj6eeuopLFmyZMr7pF6Up556Cvn5+dBqtSgsLERycjKWLFkiT2gNtHLlSvk4xcXF0Gq1SE9Pl4NDqOFD+kzSsQKPf+3atbl+fUQUQQwfRAkqMHxIjXSw4AF4w4TanS9dXV2qc0SmCzP5+fly74lScXFx0ImuRqNRDjqhhI+VK1cG/UxSbwwRLTwMH0QJShk+pJ6G+dxWm5yc7Nf4SyFiuv0tXbp0SvhYunTptMM+0n5nCh9Go3Hau3WkIaZ4uZuHaDFh+CBKUFL4SE9PlxvzJUuWzNj7EUxg+JD2F8o5KIVyl00o4UOaTzLdZ0lOTkZ6evq0xyKi6GP4IEpQUsOv7B2QbrFdunTptO+TJm8GVmD4mOnuk2DhY6bel9mEj5mKd8gQLTwMH0QJSmr4A4cdpMXF1HoEpEmfGzduhFar9avA4ZKF0vMhTVgNVpx0SrTwMHwQJajpFhmThmICg8mSJUuCDlPE25wPIlq4GD6IEtRMy6ur3Y761FNPqYYP6ZbawNAw090u0tCHUih3u4QSPoDJnhq13g2j0Yji4mKVT05EscbwQZSgZgofaut+KCepSsMW6enpeOqpp/DMM89MafxnWufjmWeemdM6H6GGD6PRKB9Lec7SvJXp5rYQUewwfBAlqFCeaiuFh2eeeUb+mbSomNRr8cwzz+DatWvTrjAabIXT6c5huhVOQw0fksLCQnmIR9pX4PuJaOFg+CCiiElPT5/13SbSXI65rkdCRAsfwwcRzZlWqw26zoa0yJfanS3TzcUI5S4aIopvDB9ENGfSfAvls2CU8zfUJqNKt8hKQyPSe6S5IryDhSjxMXwQ0bwUFhb6PQVXGSyC9Yp0dXUhPT3db56GNPeEwy1EiY/hg4iIiKKK4YOIiIiiiuGDiIiIoorhg4iIiKKK4YOIiIiiiuGDiIiIoorhg4iIiKKK4YOIiIiiiuGDiIiIoorhg4iIiKKK4YOIiIiiiuGDiIiIoorhg4iIiKKK4YOIiIiiiuGDiIiIour/A/v01V6lf3XOAAAAAElFTkSuQmCC)"
      ]
    },
    {
      "cell_type": "code",
      "metadata": {
        "id": "1SVAvO3vVF9C",
        "colab": {
          "base_uri": "https://localhost:8080/"
        },
        "outputId": "70818e9f-fffe-4641-c2d2-de9a67717c9b"
      },
      "source": [
        "predicted_test_Y_df = pd.DataFrame(predicted_test_Y)\n",
        "predicted_test_Y_df.columns = ['Label']\n",
        "predicted_test_Y_df.insert(loc=0, column='ImageId', value=predicted_test_Y_df.index + 1)\n",
        "print(predicted_test_Y_df)\n",
        "\n",
        "predicted_test_Y_df.to_csv('submission.csv', index=False)"
      ],
      "execution_count": null,
      "outputs": [
        {
          "output_type": "stream",
          "text": [
            "       ImageId  Label\n",
            "0            1      2\n",
            "1            2      0\n",
            "2            3      9\n",
            "3            4      4\n",
            "4            5      3\n",
            "...        ...    ...\n",
            "27995    27996      9\n",
            "27996    27997      7\n",
            "27997    27998      3\n",
            "27998    27999      9\n",
            "27999    28000      2\n",
            "\n",
            "[28000 rows x 2 columns]\n"
          ],
          "name": "stdout"
        }
      ]
    },
    {
      "cell_type": "markdown",
      "metadata": {
        "id": "ryVQLLyL67ld"
      },
      "source": [
        "# Prediction for single Test instance"
      ]
    },
    {
      "cell_type": "code",
      "metadata": {
        "id": "wEFBA-Mq639P",
        "colab": {
          "base_uri": "https://localhost:8080/"
        },
        "outputId": "a9a0d4a6-0af8-49aa-d3b7-98141f8c7384"
      },
      "source": [
        "# Training\n",
        "from sklearn.neighbors import KNeighborsClassifier\n",
        "num_neighbors = 10\n",
        "distance_param = 2\n",
        "clf = KNeighborsClassifier(n_neighbors=num_neighbors, p=distance_param)\n",
        "clf.fit(train_X_df, train_Y_df)"
      ],
      "execution_count": null,
      "outputs": [
        {
          "output_type": "execute_result",
          "data": {
            "text/plain": [
              "KNeighborsClassifier(algorithm='auto', leaf_size=30, metric='minkowski',\n",
              "                     metric_params=None, n_jobs=None, n_neighbors=10, p=2,\n",
              "                     weights='uniform')"
            ]
          },
          "metadata": {
            "tags": []
          },
          "execution_count": 11
        }
      ]
    },
    {
      "cell_type": "code",
      "metadata": {
        "id": "txtZJRnY77kO"
      },
      "source": [
        "# Function to visualize the pixels as gray-scale image\n",
        "import numpy as np\n",
        "import matplotlib.pyplot as plt\n",
        "\n",
        "def visualise(image_df):\n",
        "    image_1D = image_df.to_numpy()\n",
        "    image_2D = image_1D.reshape((28,28))\n",
        "    plt.imshow(image_2D, cmap=plt.get_cmap('gray'))\n",
        "    plt.show()"
      ],
      "execution_count": null,
      "outputs": []
    },
    {
      "cell_type": "code",
      "metadata": {
        "id": "DIH9mkn57Hzp",
        "colab": {
          "base_uri": "https://localhost:8080/",
          "height": 529
        },
        "outputId": "72c482a3-ab9c-4fc4-ab67-777e3eff5647"
      },
      "source": [
        "#Prediction\n",
        "visualise(test_X_df.loc[10])\n",
        "visualise( test_X_df.loc[16])\n",
        "clf.predict([test_X_df.loc[10], test_X_df.loc[16]])"
      ],
      "execution_count": null,
      "outputs": [
        {
          "output_type": "display_data",
          "data": {
            "image/png": "[encoded data removed]",
            "text/plain": [
              "<Figure size 432x288 with 1 Axes>"
            ]
          },
          "metadata": {
            "tags": [],
            "needs_background": "light"
          }
        },
        {
          "output_type": "display_data",
          "data": {
            "image/png": "[encoded data removed]",
            "text/plain": [
              "<Figure size 432x288 with 1 Axes>"
            ]
          },
          "metadata": {
            "tags": [],
            "needs_background": "light"
          }
        },
        {
          "output_type": "execute_result",
          "data": {
            "text/plain": [
              "array([5, 3])"
            ]
          },
          "metadata": {
            "tags": []
          },
          "execution_count": 13
        }
      ]
    }
  ]
}