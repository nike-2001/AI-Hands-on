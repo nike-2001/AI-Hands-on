{
  "nbformat": 4,
  "nbformat_minor": 0,
  "metadata": {
    "colab": {
      "name": "Copy of Array Manipulation and Padding.ipynb",
      "provenance": [],
      "collapsed_sections": [],
      "toc_visible": true,
      "include_colab_link": true
    },
    "kernelspec": {
      "name": "python3",
      "display_name": "Python 3"
    }
  },
  "cells": [
    {
      "cell_type": "markdown",
      "metadata": {
        "id": "view-in-github",
        "colab_type": "text"
      },
      "source": [
        "<a href=\"https://colab.research.google.com/github/nike-2001/AI-Hands-on/blob/main/Copy_of_Array_Manipulation_and_Padding.ipynb\" target=\"_parent\"><img src=\"https://colab.research.google.com/assets/colab-badge.svg\" alt=\"Open In Colab\"/></a>"
      ]
    },
    {
      "cell_type": "code",
      "metadata": {
        "id": "qd-8WG4KbtPL"
      },
      "source": [
        "# importing numpy\n",
        "import numpy as np"
      ],
      "execution_count": null,
      "outputs": []
    },
    {
      "cell_type": "markdown",
      "metadata": {
        "id": "pP6405TdktmW"
      },
      "source": [
        "## Broadcasting with different dimensions"
      ]
    },
    {
      "cell_type": "markdown",
      "metadata": {
        "id": "Y9xkGFXfk2OQ"
      },
      "source": [
        "* Two arrays do not need to have the same number of dimensions to do element-wise operations.\n",
        "* When the dimensions are not the same, to check the compatibility for broadcasting, start with the trailing dimensions and check the compatibility for each dimension moving towards the left.\n",
        "* If all the existing dimensions are compatible, then we can do element-wise operations with the two arrays.\n",
        "\n",
        "```\n",
        "a      (2d array):  3 x 2\n",
        "b      (1d array):      2\n",
        "a + b  (2d array):  3 x 2\n",
        "```"
      ]
    },
    {
      "cell_type": "code",
      "metadata": {
        "id": "7aDfHP_3mqKx",
        "colab": {
          "base_uri": "https://localhost:8080/"
        },
        "outputId": "0de9ee3d-c6e7-492e-d67f-c13a6a9ea8b9"
      },
      "source": [
        "a = np.zeros([3,2])\n",
        "b = np.ones(2)\n",
        "(a + b).shape"
      ],
      "execution_count": null,
      "outputs": [
        {
          "output_type": "execute_result",
          "data": {
            "text/plain": [
              "(3, 2)"
            ]
          },
          "metadata": {
            "tags": []
          },
          "execution_count": 2
        }
      ]
    },
    {
      "cell_type": "markdown",
      "metadata": {
        "id": "fC2nQzWlrzBV"
      },
      "source": [
        "```\n",
        "a      (4d array):  3 x 1 x 4 x 2\n",
        "b      (3d array):      3 x 4 x 2\n",
        "a + b  (4d array):  3 x 3 x 4 x 2\n",
        "```"
      ]
    },
    {
      "cell_type": "code",
      "metadata": {
        "id": "k9OY5pWLlxF0",
        "colab": {
          "base_uri": "https://localhost:8080/"
        },
        "outputId": "a0a6a14f-dee9-4595-e34e-380340e121b7"
      },
      "source": [
        "a = np.zeros([3,1,4,2])\n",
        "b = np.ones([3,4,2])\n",
        "(a + b).shape"
      ],
      "execution_count": null,
      "outputs": [
        {
          "output_type": "execute_result",
          "data": {
            "text/plain": [
              "(3, 3, 4, 2)"
            ]
          },
          "metadata": {
            "tags": []
          },
          "execution_count": 4
        }
      ]
    },
    {
      "cell_type": "markdown",
      "metadata": {
        "id": "CmW9amGOd13V"
      },
      "source": [
        "# Array Manipulations\n"
      ]
    },
    {
      "cell_type": "markdown",
      "metadata": {
        "id": "T3C9BOp519HU"
      },
      "source": [
        "## Changing the array shape"
      ]
    },
    {
      "cell_type": "markdown",
      "metadata": {
        "id": "Fsjl14keZ68b"
      },
      "source": [
        "### Reshaping"
      ]
    },
    {
      "cell_type": "markdown",
      "metadata": {
        "id": "qfq4D_P-Z87m"
      },
      "source": [
        "\n",
        "*   `np.reshape(arr, new_shape)`\n",
        "  * Returns a new array with the shape `new_shape`.\n",
        "  * The shape of the original array will not change.\n",
        "  * Might return a **view** of the original array."
      ]
    },
    {
      "cell_type": "code",
      "metadata": {
        "id": "gH1mP-rLaeGy",
        "colab": {
          "base_uri": "https://localhost:8080/"
        },
        "outputId": "20ca1eff-7c10-4e39-8b56-98ae6c0ed4ca"
      },
      "source": [
        "array_1d = np.array([1, 3, 5, 0, 2, 4, 9, 7, 3, 11, 5, 13])\n",
        "\n",
        "reshaped_array = np.reshape(array_1d, (3, 4))\n",
        "\n",
        "print(\"reshaped_array: \\n\", reshaped_array, \"\\n\")\n",
        "print(\"array_1d: \\n\", array_1d)"
      ],
      "execution_count": null,
      "outputs": [
        {
          "output_type": "stream",
          "text": [
            "reshaped_array: \n",
            " [[ 1  3  5  0]\n",
            " [ 2  4  9  7]\n",
            " [ 3 11  5 13]] \n",
            "\n",
            "array_1d: \n",
            " [ 1  3  5  0  2  4  9  7  3 11  5 13]\n"
          ],
          "name": "stdout"
        }
      ]
    },
    {
      "cell_type": "markdown",
      "metadata": {
        "id": "fZMys3l60tyW"
      },
      "source": [
        "**`ndarray.reshape(newshape)`** is equivalent to **`np.reshape()`**"
      ]
    },
    {
      "cell_type": "code",
      "metadata": {
        "id": "pBPWO8j8w9z4",
        "colab": {
          "base_uri": "https://localhost:8080/"
        },
        "outputId": "8301b09e-a1f1-4f49-feac-f07321b5b85d"
      },
      "source": [
        "array_1d = np.array([1, 3, 5, 0, 2, 4, 9, 7, 3, 11, 5, 13])\n",
        "\n",
        "reshaped_array = array_1d.reshape((4, 3))\n",
        "\n",
        "print(\"reshaped_array: \\n\", reshaped_array, \"\\n\")\n",
        "print(\"array_1d: \\n\", array_1d)"
      ],
      "execution_count": null,
      "outputs": [
        {
          "output_type": "stream",
          "text": [
            "reshaped_array: \n",
            " [[ 1  3  5]\n",
            " [ 0  2  4]\n",
            " [ 9  7  3]\n",
            " [11  5 13]] \n",
            "\n",
            "array_1d: \n",
            " [ 1  3  5  0  2  4  9  7  3 11  5 13]\n"
          ],
          "name": "stdout"
        }
      ]
    },
    {
      "cell_type": "markdown",
      "metadata": {
        "id": "DcQ7hI8-n2UX"
      },
      "source": [
        "**Using `-1` as a placeholder in the `reshape()` method**"
      ]
    },
    {
      "cell_type": "code",
      "metadata": {
        "id": "v6hejFJ7n1lP",
        "colab": {
          "base_uri": "https://localhost:8080/"
        },
        "outputId": "46ebfb41-285b-4380-abb1-7a27760d58aa"
      },
      "source": [
        "array_1d = np.array([1, 3, 5, 0, 2, 4, 9, 7, 3, 11, 5, 13])\n",
        "\n",
        "reshaped_array = array_1d.reshape((4, -1))\n",
        "print(\"reshaped array with placeholder: \\n\", reshaped_array, \"\\n\")\n",
        "\n",
        "reshaped_array = array_1d.reshape((2, -1, 3))\n",
        "print(\"reshaped array with placeholder: \\n\", reshaped_array, \"\\n\")"
      ],
      "execution_count": null,
      "outputs": [
        {
          "output_type": "stream",
          "text": [
            "reshaped array with placeholder: \n",
            " [[ 1  3  5]\n",
            " [ 0  2  4]\n",
            " [ 9  7  3]\n",
            " [11  5 13]] \n",
            "\n",
            "reshaped array with placeholder: \n",
            " [[[ 1  3  5]\n",
            "  [ 0  2  4]]\n",
            "\n",
            " [[ 9  7  3]\n",
            "  [11  5 13]]] \n",
            "\n"
          ],
          "name": "stdout"
        }
      ]
    },
    {
      "cell_type": "code",
      "metadata": {
        "id": "_xbN3NtD1Q_d",
        "colab": {
          "base_uri": "https://localhost:8080/"
        },
        "outputId": "04846d88-28ca-4756-bd56-cf787d5e1c04"
      },
      "source": [
        "array_2d = np.array([[1,3,5], \n",
        "                     [0,2,4]])\n",
        "\n",
        "print(\"reshaped to (3,2):\\n\", array_2d.reshape((3,2)))\n",
        "print(\"reshaped to 6:\\n\", array_2d.reshape(6), \"\\n\")"
      ],
      "execution_count": null,
      "outputs": [
        {
          "output_type": "stream",
          "text": [
            "reshaped to (3,2):\n",
            " [[1 3]\n",
            " [5 0]\n",
            " [2 4]]\n",
            "reshaped to 6:\n",
            " [1 3 5 0 2 4] \n",
            "\n"
          ],
          "name": "stdout"
        }
      ]
    },
    {
      "cell_type": "markdown",
      "metadata": {
        "id": "JpMY_fob2KxX"
      },
      "source": [
        "### **`np.ravel(arr)`**\n",
        "\n",
        "*  Returns a contiguous flattened array (A 1D array, containing the elements of the input array).\n",
        "*  The shape of the original array will not change.\n",
        "*  Returns a **view** of the original array. \n"
      ]
    },
    {
      "cell_type": "code",
      "metadata": {
        "id": "NJPctzbw2ONC",
        "colab": {
          "base_uri": "https://localhost:8080/"
        },
        "outputId": "a07f6e78-7d8b-43a1-b35d-8ceed0f63f1b"
      },
      "source": [
        "array_2d = np.array([[1,3,5], \n",
        "                     [0,2,4]])\n",
        "\n",
        "raveled_array = np.ravel(array_2d)\n",
        "raveled_array[0] = -10\n",
        "\n",
        "print(\"raveled array: \\n\", raveled_array, \"\\n\")\n",
        "print(\"array_2d: \\n\", array_2d)"
      ],
      "execution_count": null,
      "outputs": [
        {
          "output_type": "stream",
          "text": [
            "raveled array: \n",
            " [-10   3   5   0   2   4] \n",
            "\n",
            "array_2d: \n",
            " [[-10   3   5]\n",
            " [  0   2   4]]\n"
          ],
          "name": "stdout"
        }
      ]
    },
    {
      "cell_type": "markdown",
      "metadata": {
        "id": "4MsFWa8r5K04"
      },
      "source": [
        "**`np.ravel(arr)`** is equivalent to **`np.reshape(arr, -1)` and `arr.ravel()`**"
      ]
    },
    {
      "cell_type": "code",
      "metadata": {
        "id": "6SvVc7485F0Y",
        "colab": {
          "base_uri": "https://localhost:8080/"
        },
        "outputId": "ba0e8d65-9063-4ebd-dc5e-566c9c0da501"
      },
      "source": [
        "array_2d = np.array([[1,3,5], \n",
        "                     [0,2,4]])\n",
        "\n",
        "print(\"raveled array: \\n\", np.ravel(array_2d), \"\\n\")\n",
        "print(\"raveled array alternative: \\n\", array_2d.ravel(), \"\\n\")\n",
        "print(\"reshaped array: \\n\", np.reshape(array_2d, -1), \"\\n\")"
      ],
      "execution_count": null,
      "outputs": [
        {
          "output_type": "stream",
          "text": [
            "raveled array: \n",
            " [1 3 5 0 2 4] \n",
            "\n",
            "raveled array alternative: \n",
            " [1 3 5 0 2 4] \n",
            "\n",
            "reshaped array: \n",
            " [1 3 5 0 2 4] \n",
            "\n"
          ],
          "name": "stdout"
        }
      ]
    },
    {
      "cell_type": "markdown",
      "metadata": {
        "id": "Wwp6euNB8Wyw"
      },
      "source": [
        "### **`ndarray.flatten()`**\n",
        "\n",
        "*  Returns a **copy** of the array flattened to one dimension. \n",
        "*  The shape of the original array will not change."
      ]
    },
    {
      "cell_type": "code",
      "metadata": {
        "id": "wbX-FpPy4rih",
        "colab": {
          "base_uri": "https://localhost:8080/"
        },
        "outputId": "7f7701fa-8fd3-46d2-b7d6-4a4b3fc4c592"
      },
      "source": [
        "array_2d = np.array([[1,3,5], \n",
        "                     [0,2,4]])\n",
        "\n",
        "flattened_array = array_2d.flatten()\n",
        "\n",
        "flattened_array[0] = -10\n",
        "\n",
        "print(\"flattened array: \\n\", flattened_array, \"\\n\")\n",
        "print(\"array_2d: \\n\", array_2d)"
      ],
      "execution_count": null,
      "outputs": [
        {
          "output_type": "stream",
          "text": [
            "flattened array: \n",
            " [-10   3   5   0   2   4] \n",
            "\n",
            "array_2d: \n",
            " [[1 3 5]\n",
            " [0 2 4]]\n"
          ],
          "name": "stdout"
        }
      ]
    },
    {
      "cell_type": "markdown",
      "metadata": {
        "id": "1DG6bdDyldIZ"
      },
      "source": [
        "### Using **`np.newaxis`**\n",
        "\n",
        "It is used to increase the dimension of an existing array by one.\n",
        "* **`nD`** array becomes **`(n+1)D`** array."
      ]
    },
    {
      "cell_type": "markdown",
      "metadata": {
        "id": "877-UTjRpTMA"
      },
      "source": [
        "It can be used to convert a 1D array to either a row vector or a column vector"
      ]
    },
    {
      "cell_type": "code",
      "metadata": {
        "id": "cM4fzySWlqGz",
        "colab": {
          "base_uri": "https://localhost:8080/"
        },
        "outputId": "6e545b1d-012a-48d0-cb3e-f4059e49f3af"
      },
      "source": [
        "a = np.array([1, 3, 5])\n",
        "\n",
        "row_vector = a[np.newaxis, :]\n",
        "row_vector"
      ],
      "execution_count": null,
      "outputs": [
        {
          "output_type": "execute_result",
          "data": {
            "text/plain": [
              "array([[1, 3, 5]])"
            ]
          },
          "metadata": {
            "tags": []
          },
          "execution_count": 12
        }
      ]
    },
    {
      "cell_type": "code",
      "metadata": {
        "id": "VU0aAPRueEHU",
        "colab": {
          "base_uri": "https://localhost:8080/"
        },
        "outputId": "525e8d07-e02f-4392-e20c-99b076f5d73f"
      },
      "source": [
        "print(\"row vector alternative:\", a[np.newaxis])"
      ],
      "execution_count": null,
      "outputs": [
        {
          "output_type": "stream",
          "text": [
            "row vector alternative: [[1 3 5]]\n"
          ],
          "name": "stdout"
        }
      ]
    },
    {
      "cell_type": "code",
      "metadata": {
        "id": "kO9IHEX9rdXD",
        "colab": {
          "base_uri": "https://localhost:8080/"
        },
        "outputId": "13f70370-b55a-4a9e-f7d5-8d942b35d220"
      },
      "source": [
        "print(\"shape of original array:        \", a.shape)\n",
        "print(\"shape of a[np.newaxis, :]\", row_vector.shape)"
      ],
      "execution_count": null,
      "outputs": [
        {
          "output_type": "stream",
          "text": [
            "shape of original array:         (3,)\n",
            "shape of a[np.newaxis, :] (1, 3)\n"
          ],
          "name": "stdout"
        }
      ]
    },
    {
      "cell_type": "code",
      "metadata": {
        "id": "iSlPxBBMrOTw",
        "colab": {
          "base_uri": "https://localhost:8080/"
        },
        "outputId": "f3828127-ded5-4f4b-d92e-10d364528555"
      },
      "source": [
        "a = np.array([1, 3, 5])\n",
        "\n",
        "column_vector = a[:, np.newaxis]\n",
        "column_vector"
      ],
      "execution_count": null,
      "outputs": [
        {
          "output_type": "execute_result",
          "data": {
            "text/plain": [
              "array([[1],\n",
              "       [3],\n",
              "       [5]])"
            ]
          },
          "metadata": {
            "tags": []
          },
          "execution_count": 15
        }
      ]
    },
    {
      "cell_type": "code",
      "metadata": {
        "id": "EerKrUIWrkA3",
        "colab": {
          "base_uri": "https://localhost:8080/"
        },
        "outputId": "262f47fb-b6ec-4335-cb2a-bbb4ecc98cb8"
      },
      "source": [
        "print(\"shape of original array:  \", a.shape)\n",
        "print(\"shape of a[:, np.newaxis]:\", column_vector.shape)\n",
        "\n",
        "print(\"shape of a[:, np.newaxis, np.newaxis]:\", a[:, np.newaxis, np.newaxis].shape)\n",
        "print(\"shape of a[np.newaxis, :, np.newaxis]:\", a[np.newaxis, :, np.newaxis].shape)"
      ],
      "execution_count": null,
      "outputs": [
        {
          "output_type": "stream",
          "text": [
            "shape of original array:   (3,)\n",
            "shape of a[:, np.newaxis]: (3, 1)\n",
            "shape of a[:, np.newaxis, np.newaxis]: (3, 1, 1)\n",
            "shape of a[np.newaxis, :, np.newaxis]: (1, 3, 1)\n"
          ],
          "name": "stdout"
        }
      ]
    },
    {
      "cell_type": "markdown",
      "metadata": {
        "id": "NajdLpGFkr3S"
      },
      "source": [
        "### **`np.squeeze`**\n",
        "\n",
        "`np.squeeze(arr, axis)`\n",
        "* It removes single-dimensional entries from the shape of an array."
      ]
    },
    {
      "cell_type": "code",
      "metadata": {
        "id": "2lFZGq0_mcO4",
        "colab": {
          "base_uri": "https://localhost:8080/"
        },
        "outputId": "51606ce8-6f9b-41a1-9f86-25015ce1de68"
      },
      "source": [
        "a = np.array([[[1], [3], [5]]])\n",
        "a.shape"
      ],
      "execution_count": null,
      "outputs": [
        {
          "output_type": "execute_result",
          "data": {
            "text/plain": [
              "(1, 3, 1)"
            ]
          },
          "metadata": {
            "tags": []
          },
          "execution_count": 17
        }
      ]
    },
    {
      "cell_type": "code",
      "metadata": {
        "id": "wOLq1EXrmmNm",
        "colab": {
          "base_uri": "https://localhost:8080/"
        },
        "outputId": "786b7a9c-b391-41d7-f848-a52aeaf74062"
      },
      "source": [
        "np.squeeze(a).shape"
      ],
      "execution_count": null,
      "outputs": [
        {
          "output_type": "execute_result",
          "data": {
            "text/plain": [
              "(3,)"
            ]
          },
          "metadata": {
            "tags": []
          },
          "execution_count": 18
        }
      ]
    },
    {
      "cell_type": "code",
      "metadata": {
        "id": "Q0dBz7sQmrD2",
        "colab": {
          "base_uri": "https://localhost:8080/"
        },
        "outputId": "7f85fbd6-ec0c-4624-a19c-be059e72383f"
      },
      "source": [
        "a = np.array([[[1], [3], [5]]])\n",
        "np.squeeze(a, axis=2).shape"
      ],
      "execution_count": null,
      "outputs": [
        {
          "output_type": "execute_result",
          "data": {
            "text/plain": [
              "(1, 3)"
            ]
          },
          "metadata": {
            "tags": []
          },
          "execution_count": 19
        }
      ]
    },
    {
      "cell_type": "markdown",
      "metadata": {
        "id": "t1xymt-hm0iH"
      },
      "source": [
        "The following code gives an **error** as the size of the selected axis is not equal to one."
      ]
    },
    {
      "cell_type": "code",
      "metadata": {
        "id": "GMgnQE4Tmu1O",
        "colab": {
          "base_uri": "https://localhost:8080/",
          "height": 309
        },
        "outputId": "7c82db0d-5197-457b-c7b3-79a64d21ae32"
      },
      "source": [
        "np.squeeze(a, axis=1).shape"
      ],
      "execution_count": null,
      "outputs": [
        {
          "output_type": "error",
          "ename": "AxisError",
          "evalue": "ignored",
          "traceback": [
            "\u001b[0;31m---------------------------------------------------------------------------\u001b[0m",
            "\u001b[0;31mAxisError\u001b[0m                                 Traceback (most recent call last)",
            "\u001b[0;32m<ipython-input-24-47e31247f888>\u001b[0m in \u001b[0;36m<module>\u001b[0;34m()\u001b[0m\n\u001b[0;32m----> 1\u001b[0;31m \u001b[0mnp\u001b[0m\u001b[0;34m.\u001b[0m\u001b[0msqueeze\u001b[0m\u001b[0;34m(\u001b[0m\u001b[0ma\u001b[0m\u001b[0;34m,\u001b[0m \u001b[0maxis\u001b[0m\u001b[0;34m=\u001b[0m\u001b[0;36m2\u001b[0m\u001b[0;34m)\u001b[0m\u001b[0;34m.\u001b[0m\u001b[0mshape\u001b[0m\u001b[0;34m\u001b[0m\u001b[0;34m\u001b[0m\u001b[0m\n\u001b[0m",
            "\u001b[0;32m<__array_function__ internals>\u001b[0m in \u001b[0;36msqueeze\u001b[0;34m(*args, **kwargs)\u001b[0m\n",
            "\u001b[0;32m/usr/local/lib/python3.6/dist-packages/numpy/core/fromnumeric.py\u001b[0m in \u001b[0;36msqueeze\u001b[0;34m(a, axis)\u001b[0m\n\u001b[1;32m   1493\u001b[0m         \u001b[0;32mreturn\u001b[0m \u001b[0msqueeze\u001b[0m\u001b[0;34m(\u001b[0m\u001b[0;34m)\u001b[0m\u001b[0;34m\u001b[0m\u001b[0;34m\u001b[0m\u001b[0m\n\u001b[1;32m   1494\u001b[0m     \u001b[0;32melse\u001b[0m\u001b[0;34m:\u001b[0m\u001b[0;34m\u001b[0m\u001b[0;34m\u001b[0m\u001b[0m\n\u001b[0;32m-> 1495\u001b[0;31m         \u001b[0;32mreturn\u001b[0m \u001b[0msqueeze\u001b[0m\u001b[0;34m(\u001b[0m\u001b[0maxis\u001b[0m\u001b[0;34m=\u001b[0m\u001b[0maxis\u001b[0m\u001b[0;34m)\u001b[0m\u001b[0;34m\u001b[0m\u001b[0;34m\u001b[0m\u001b[0m\n\u001b[0m\u001b[1;32m   1496\u001b[0m \u001b[0;34m\u001b[0m\u001b[0m\n\u001b[1;32m   1497\u001b[0m \u001b[0;34m\u001b[0m\u001b[0m\n",
            "\u001b[0;31mAxisError\u001b[0m: axis 2 is out of bounds for array of dimension 1"
          ]
        }
      ]
    },
    {
      "cell_type": "markdown",
      "metadata": {
        "id": "eqm-D7ZORmwL"
      },
      "source": [
        "When expanded arrays are squeezed, the original array is obtained."
      ]
    },
    {
      "cell_type": "code",
      "metadata": {
        "id": "gqCWjSB5l3i_",
        "colab": {
          "base_uri": "https://localhost:8080/"
        },
        "outputId": "e24a23e5-80ad-4e70-b712-127b15169715"
      },
      "source": [
        "a = np.array([1, 3, 5])\n",
        "print(\"original:\", a)\n",
        "\n",
        "expanded = np.expand_dims(a, axis=0)\n",
        "print(\"expanded:\", expanded)\n",
        "\n",
        "squeezed = np.squeeze(expanded, axis=0)\n",
        "print(\"squeezed:\", squeezed)"
      ],
      "execution_count": null,
      "outputs": [
        {
          "output_type": "stream",
          "text": [
            "original: [1 3 5]\n",
            "expanded: [[1 3 5]]\n",
            "squeezed: [1 3 5]\n"
          ],
          "name": "stdout"
        }
      ]
    },
    {
      "cell_type": "code",
      "metadata": {
        "id": "hZBEdDZqmShi",
        "colab": {
          "base_uri": "https://localhost:8080/"
        },
        "outputId": "96f810a1-2c15-434f-e2ea-80565034cfc7"
      },
      "source": [
        "a = np.array([1, 3, 5])\n",
        "print(\"original:\", a)\n",
        "\n",
        "expanded = np.expand_dims(a, axis=1)\n",
        "print(\"expanded: \\n\", expanded)\n",
        "\n",
        "squeezed = np.squeeze(expanded, axis=1)\n",
        "print(\"squeezed:\", squeezed)"
      ],
      "execution_count": null,
      "outputs": [
        {
          "output_type": "stream",
          "text": [
            "original: [1 3 5]\n",
            "expanded: \n",
            " [[1]\n",
            " [3]\n",
            " [5]]\n",
            "squeezed: [1 3 5]\n"
          ],
          "name": "stdout"
        }
      ]
    },
    {
      "cell_type": "markdown",
      "metadata": {
        "id": "dO7jOw1A93h1"
      },
      "source": [
        "## Changing the axes of an array"
      ]
    },
    {
      "cell_type": "markdown",
      "metadata": {
        "id": "Szkxba_zAlj3"
      },
      "source": [
        "### **`np.moveaxis`**\n",
        "\n",
        "`np.moveaxis(arr, original_positions, new_positions)`\n",
        "* Returns the view of an array with the axes moved from their original positions to the new positions.\n",
        "* Other axes remain in their original order."
      ]
    },
    {
      "cell_type": "code",
      "metadata": {
        "id": "RTCiIc4lBBWZ",
        "colab": {
          "base_uri": "https://localhost:8080/"
        },
        "outputId": "21e4ff4f-55cb-48cd-df7e-afffb6f90752"
      },
      "source": [
        "array_3d = np.ones((2, 3, 4, 5, 6))\n",
        "\n",
        "axis_moved_array = np.moveaxis(array_3d, [0, 1], [1, 2])\n",
        "print(axis_moved_array.shape)"
      ],
      "execution_count": null,
      "outputs": [
        {
          "output_type": "stream",
          "text": [
            "(4, 2, 3, 5, 6)\n"
          ],
          "name": "stdout"
        }
      ]
    },
    {
      "cell_type": "code",
      "metadata": {
        "id": "WezASTpWBo1h",
        "colab": {
          "base_uri": "https://localhost:8080/"
        },
        "outputId": "a5014284-1b84-4ba9-b08d-a1995108f179"
      },
      "source": [
        "array_3d = np.array([[[5, 5, 5],\n",
        "                    [0, 0, 0]],\n",
        "                     \n",
        "                    [[1, 2, 3],\n",
        "                    [-1, -2, -3]],\n",
        "                     \n",
        "                    [[6, 7, 8],\n",
        "                    [-6, -7, -8]]])\n",
        "\n",
        "print(\"original array: \\n\", array_3d, \"\\n\")\n",
        "\n",
        "moved_axes_array = np.moveaxis(array_3d, 0, 2)\n",
        "print(\"array after moving axes: \\n\", moved_axes_array)"
      ],
      "execution_count": null,
      "outputs": [
        {
          "output_type": "stream",
          "text": [
            "original array: \n",
            " [[[ 5  5  5]\n",
            "  [ 0  0  0]]\n",
            "\n",
            " [[ 1  2  3]\n",
            "  [-1 -2 -3]]\n",
            "\n",
            " [[ 6  7  8]\n",
            "  [-6 -7 -8]]] \n",
            "\n",
            "array after moving axes: \n",
            " [[[ 5  1  6]\n",
            "  [ 5  2  7]\n",
            "  [ 5  3  8]]\n",
            "\n",
            " [[ 0 -1 -6]\n",
            "  [ 0 -2 -7]\n",
            "  [ 0 -3 -8]]]\n"
          ],
          "name": "stdout"
        }
      ]
    },
    {
      "cell_type": "markdown",
      "metadata": {
        "id": "k70jgVdhFDIl"
      },
      "source": [
        "### **`np.swapaxes`**\n",
        "\n",
        "`np.swapaxes(arr, axis1, axis2)`\n",
        "* Returns an array with axis1 and axis2 interchanged.\n",
        "* Other axes remain in their original order."
      ]
    },
    {
      "cell_type": "code",
      "metadata": {
        "id": "LwkuKkyvYs9y",
        "colab": {
          "base_uri": "https://localhost:8080/"
        },
        "outputId": "a44d79ca-cdd7-46b5-86e9-033ac84e5b67"
      },
      "source": [
        "array_3d = np.array([[[5, 5, 5],\n",
        "                    [0, 0, 0]],\n",
        "                     \n",
        "                    [[1, 2, 3],\n",
        "                    [-1, -2, -3]],\n",
        "                     \n",
        "                    [[6, 7, 8],\n",
        "                    [-6, -7, -8]]])\n",
        "\n",
        "print(\"original array: \\n\", array_3d, \"\\n\")\n",
        "\n",
        "swapped_axes_array = np.swapaxes(array_3d, 1, 2)\n",
        "print(\"array after swapping axes: \\n\", swapped_axes_array)"
      ],
      "execution_count": null,
      "outputs": [
        {
          "output_type": "stream",
          "text": [
            "original array: \n",
            " [[[ 5  5  5]\n",
            "  [ 0  0  0]]\n",
            "\n",
            " [[ 1  2  3]\n",
            "  [-1 -2 -3]]\n",
            "\n",
            " [[ 6  7  8]\n",
            "  [-6 -7 -8]]] \n",
            "\n",
            "array after swapping axes: \n",
            " [[[ 5  0]\n",
            "  [ 5  0]\n",
            "  [ 5  0]]\n",
            "\n",
            " [[ 1 -1]\n",
            "  [ 2 -2]\n",
            "  [ 3 -3]]\n",
            "\n",
            " [[ 6 -6]\n",
            "  [ 7 -7]\n",
            "  [ 8 -8]]]\n"
          ],
          "name": "stdout"
        }
      ]
    },
    {
      "cell_type": "markdown",
      "metadata": {
        "id": "ujN2Tf32jFZ2"
      },
      "source": [
        "## Splitting an array"
      ]
    },
    {
      "cell_type": "markdown",
      "metadata": {
        "id": "S5qI5tp7jN7J"
      },
      "source": [
        "\n",
        "*   `np.split(arr, indices_or_sections, axis=0)`\n",
        "  *   Splits the given array `arr` into multiple sub-arrays along the given `axis` based on `indices_or_sections` and returns a list of sub-arrays."
      ]
    },
    {
      "cell_type": "markdown",
      "metadata": {
        "id": "7IMkKBtZs_as"
      },
      "source": [
        "If `indices_or_sections` is an integer say N, then `arr` will be divided into N equal arrays along the given `axis`."
      ]
    },
    {
      "cell_type": "code",
      "metadata": {
        "id": "Us8EUl1Kjxpe",
        "colab": {
          "base_uri": "https://localhost:8080/"
        },
        "outputId": "e49aa6c0-fc62-49df-aec4-5fb225a02339"
      },
      "source": [
        "array_1d = np.array([1, 7, 11, 0, 3, 17])\n",
        "split_arrays = np.split(array_1d, 2) \n",
        "print(split_arrays)"
      ],
      "execution_count": null,
      "outputs": [
        {
          "output_type": "stream",
          "text": [
            "[array([ 1,  7, 11]), array([ 0,  3, 17])]\n"
          ],
          "name": "stdout"
        }
      ]
    },
    {
      "cell_type": "markdown",
      "metadata": {
        "id": "MyekU0cwtKXi"
      },
      "source": [
        "If `indices_or_sections` is a list, then `arr` will be split into sub-arrays at the indices mentioned in the list."
      ]
    },
    {
      "cell_type": "code",
      "metadata": {
        "id": "76Rp3Ci3tPIZ",
        "colab": {
          "base_uri": "https://localhost:8080/"
        },
        "outputId": "fae8c442-7bdd-4532-a35c-1f2e0535f107"
      },
      "source": [
        "array_1d = np.array([1, 7, 11, 0, 3, 17])\n",
        "\n",
        "split_arrays = np.split(array_1d, [1]) \n",
        "print(split_arrays)"
      ],
      "execution_count": null,
      "outputs": [
        {
          "output_type": "stream",
          "text": [
            "[array([1]), array([ 7, 11,  0,  3, 17])]\n"
          ],
          "name": "stdout"
        }
      ]
    },
    {
      "cell_type": "markdown",
      "metadata": {
        "id": "UrS__u0zvWfN"
      },
      "source": [
        "Helper function to print splits of an array"
      ]
    },
    {
      "cell_type": "code",
      "metadata": {
        "id": "K3rEuUzZvUbc"
      },
      "source": [
        "def print_splits(array_to_split):\n",
        "    for item in array_to_split:\n",
        "        print(item, \"\\n\")"
      ],
      "execution_count": null,
      "outputs": []
    },
    {
      "cell_type": "markdown",
      "metadata": {
        "id": "9AJnGuZUvaUj"
      },
      "source": [
        "**Split an array along given axis**"
      ]
    },
    {
      "cell_type": "code",
      "metadata": {
        "id": "6VIAm-CfkP2i",
        "colab": {
          "base_uri": "https://localhost:8080/"
        },
        "outputId": "36da5bc9-5134-463b-fe85-3c202878caf0"
      },
      "source": [
        "array_1 = np.array([[1, 7, 11, 12], \n",
        "                    [0, 3, 17, 2]])\n",
        "\n",
        "split_arrays1 = np.split(array_1, 2, axis = 1)\n",
        "print_splits(split_arrays1)"
      ],
      "execution_count": null,
      "outputs": [
        {
          "output_type": "stream",
          "text": [
            "[[1 7]\n",
            " [0 3]] \n",
            "\n",
            "[[11 12]\n",
            " [17  2]] \n",
            "\n"
          ],
          "name": "stdout"
        }
      ]
    },
    {
      "cell_type": "code",
      "metadata": {
        "id": "QaIxQJk0u9s_",
        "colab": {
          "base_uri": "https://localhost:8080/"
        },
        "outputId": "6467e0c1-a877-4f5a-e4b2-3d5aa59cddb9"
      },
      "source": [
        "split_arrays2 = np.split(array_1, [1, 3], axis = 1)\n",
        "print_splits(split_arrays2)"
      ],
      "execution_count": null,
      "outputs": [
        {
          "output_type": "stream",
          "text": [
            "[[1]\n",
            " [0]] \n",
            "\n",
            "[[ 7 11]\n",
            " [ 3 17]] \n",
            "\n",
            "[[12]\n",
            " [ 2]] \n",
            "\n"
          ],
          "name": "stdout"
        }
      ]
    },
    {
      "cell_type": "markdown",
      "metadata": {
        "id": "GK5ONhJekpDa"
      },
      "source": [
        "### Split - Horizontal"
      ]
    },
    {
      "cell_type": "markdown",
      "metadata": {
        "id": "g6L8vpWnkzAF"
      },
      "source": [
        "\n",
        "*   `np.hsplit(arr, indices_or_sections)`\n",
        "  *   Split the given `arr` into multiple sub-arrays horizontally i.e column-wise and returns a list of sub-arrays. \n",
        "  *   It is equivalent to split with `axis = 1`.\n",
        "\n"
      ]
    },
    {
      "cell_type": "code",
      "metadata": {
        "id": "4FbONCRj214O",
        "colab": {
          "base_uri": "https://localhost:8080/"
        },
        "outputId": "18863ef3-2292-4aaf-9e7e-ff7b24a9c928"
      },
      "source": [
        "array = np.array([1, 2, 3, 4, 5])\n",
        "split_arrays = np.hsplit(array, [3])\n",
        "print_splits(split_arrays)"
      ],
      "execution_count": null,
      "outputs": [
        {
          "output_type": "stream",
          "text": [
            "[1 2 3] \n",
            "\n",
            "[4 5] \n",
            "\n"
          ],
          "name": "stdout"
        }
      ]
    },
    {
      "cell_type": "code",
      "metadata": {
        "id": "pkHiAnBbk_r6",
        "colab": {
          "base_uri": "https://localhost:8080/"
        },
        "outputId": "e7e7456c-ed24-42cb-d88d-b74699009c8b"
      },
      "source": [
        "array = np.array([[ 1, -1,  2, -2,  3, -3],\n",
        "                  [ 1, -1,  2, -2,  3, -3],\n",
        "                  [ 1, -1,  2, -2,  3, -3]])\n",
        "\n",
        "split_arrays = np.hsplit(array, [2])\n",
        "\n",
        "print(\"split arrays:\")\n",
        "print_splits(split_arrays)"
      ],
      "execution_count": null,
      "outputs": [
        {
          "output_type": "stream",
          "text": [
            "split arrays:\n",
            "[[ 1 -1]\n",
            " [ 1 -1]\n",
            " [ 1 -1]] \n",
            "\n",
            "[[ 2 -2  3 -3]\n",
            " [ 2 -2  3 -3]\n",
            " [ 2 -2  3 -3]] \n",
            "\n"
          ],
          "name": "stdout"
        }
      ]
    },
    {
      "cell_type": "code",
      "metadata": {
        "id": "BcObWV2Al0FF",
        "colab": {
          "base_uri": "https://localhost:8080/"
        },
        "outputId": "6e6cb5ed-c21b-4ded-f6ae-47d077f1f3a2"
      },
      "source": [
        "split_arrays = np.hsplit(array, [1, 2])\n",
        "\n",
        "print(\"split arrays:\")\n",
        "print_splits(split_arrays)"
      ],
      "execution_count": null,
      "outputs": [
        {
          "output_type": "stream",
          "text": [
            "split arrays:\n",
            "[[1]\n",
            " [1]\n",
            " [1]] \n",
            "\n",
            "[[-1]\n",
            " [-1]\n",
            " [-1]] \n",
            "\n",
            "[[ 2 -2  3 -3]\n",
            " [ 2 -2  3 -3]\n",
            " [ 2 -2  3 -3]] \n",
            "\n"
          ],
          "name": "stdout"
        }
      ]
    },
    {
      "cell_type": "markdown",
      "metadata": {
        "id": "48Nat67tmC1r"
      },
      "source": [
        "### Split - Vertical"
      ]
    },
    {
      "cell_type": "markdown",
      "metadata": {
        "id": "K5vku_qAmG_f"
      },
      "source": [
        "*   `np.vsplit(arr, indices_or_sections)`\n",
        "  *   Splits the given `arr` into multiple sub-arrays vertically i.e row-wise and returns a list of sub-arrays.\n",
        "  *   It is equivalent to split with `axis = 0`.\n",
        "  * `.vsplit` only works on arrays of 2 or more dimensions."
      ]
    },
    {
      "cell_type": "code",
      "metadata": {
        "id": "8XL0UwEt3oVR",
        "colab": {
          "base_uri": "https://localhost:8080/"
        },
        "outputId": "a96512e8-625e-4b53-bfcc-f006441b764d"
      },
      "source": [
        "array = np.array([[1,   1,  1],\n",
        "                  [-1, -1, -1],\n",
        "                  [2,   2,  2],\n",
        "                  [-2, -2, -2],\n",
        "                  [3,   3,  3],\n",
        "                  [-3, -3, -3]])\n",
        "\n",
        "split_arrays = np.vsplit(array, [2])\n",
        "\n",
        "print(\"split arrays:\")\n",
        "print_splits(split_arrays)"
      ],
      "execution_count": null,
      "outputs": [
        {
          "output_type": "stream",
          "text": [
            "split arrays:\n",
            "[[ 1  1  1]\n",
            " [-1 -1 -1]] \n",
            "\n",
            "[[ 2  2  2]\n",
            " [-2 -2 -2]\n",
            " [ 3  3  3]\n",
            " [-3 -3 -3]] \n",
            "\n"
          ],
          "name": "stdout"
        }
      ]
    },
    {
      "cell_type": "code",
      "metadata": {
        "id": "GKpiqL7UybLF",
        "colab": {
          "base_uri": "https://localhost:8080/"
        },
        "outputId": "1ac4c7a7-be62-4a19-bb0d-e0eb644078f6"
      },
      "source": [
        "split_arrays = np.vsplit(array, [2,3])\n",
        "print_splits(split_arrays)"
      ],
      "execution_count": null,
      "outputs": [
        {
          "output_type": "stream",
          "text": [
            "[[ 1  1  1]\n",
            " [-1 -1 -1]] \n",
            "\n",
            "[[2 2 2]] \n",
            "\n",
            "[[-2 -2 -2]\n",
            " [ 3  3  3]\n",
            " [-3 -3 -3]] \n",
            "\n"
          ],
          "name": "stdout"
        }
      ]
    },
    {
      "cell_type": "markdown",
      "metadata": {
        "id": "kmiYySzrisSj"
      },
      "source": [
        "## Joining Arrays"
      ]
    },
    {
      "cell_type": "markdown",
      "metadata": {
        "id": "Ww46R_7A29a2"
      },
      "source": [
        "### Concatenation of arrays\n"
      ]
    },
    {
      "cell_type": "markdown",
      "metadata": {
        "id": "y39UneC229a5"
      },
      "source": [
        "\n",
        "`np.concatenate((a1, a2, ...), axis=0)`\n",
        "  *   Joins a sequence of arrays along the **given axis** and returns the concatenated array.\n",
        "  *   The arrays must have the same shape, except in the dimension corresponding to the `axis`.\n",
        "  *  The resulting array has the same dimensions as that of the input arrays."
      ]
    },
    {
      "cell_type": "code",
      "metadata": {
        "id": "-t277Z6229a8",
        "colab": {
          "base_uri": "https://localhost:8080/"
        },
        "outputId": "0062a963-47f4-476d-901f-a5c31251ae2f"
      },
      "source": [
        "a = np.array([7, 1, 11])\n",
        "b = np.array([3, 0, 17])\n",
        "\n",
        "np.concatenate((a, b))"
      ],
      "execution_count": null,
      "outputs": [
        {
          "output_type": "execute_result",
          "data": {
            "text/plain": [
              "array([ 7,  1, 11,  3,  0, 17])"
            ]
          },
          "metadata": {
            "tags": []
          },
          "execution_count": 38
        }
      ]
    },
    {
      "cell_type": "markdown",
      "metadata": {
        "id": "xitfzFf43Gek"
      },
      "source": [
        "Concatenate along axis-0"
      ]
    },
    {
      "cell_type": "code",
      "metadata": {
        "id": "zjLsEo5_29bE",
        "colab": {
          "base_uri": "https://localhost:8080/"
        },
        "outputId": "405fe989-752e-4be2-e5a8-07c11cc61747"
      },
      "source": [
        "a = np.array([[7, 4, 5], \n",
        "              [1, 3, 2]])\n",
        "\n",
        "b = np.array([[-1, -2, -3]])\n",
        "\n",
        "np.concatenate((a, b), axis=0)"
      ],
      "execution_count": null,
      "outputs": [
        {
          "output_type": "execute_result",
          "data": {
            "text/plain": [
              "array([[ 7,  4,  5],\n",
              "       [ 1,  3,  2],\n",
              "       [-1, -2, -3]])"
            ]
          },
          "metadata": {
            "tags": []
          },
          "execution_count": 39
        }
      ]
    },
    {
      "cell_type": "markdown",
      "metadata": {
        "id": "ehrCdIMZ3J9C"
      },
      "source": [
        "Concatenate along axis-1"
      ]
    },
    {
      "cell_type": "code",
      "metadata": {
        "id": "rwMIu5zd29bJ",
        "colab": {
          "base_uri": "https://localhost:8080/"
        },
        "outputId": "b6b9857e-c5e3-42a0-929b-2b6822347cb9"
      },
      "source": [
        "a = np.array([[7, 4, 5], \n",
        "              [1, 3, 2]])\n",
        "\n",
        "b = np.array([[-1], \n",
        "             [-2]])\n",
        "\n",
        "np.concatenate((a, b), axis=1)"
      ],
      "execution_count": null,
      "outputs": [
        {
          "output_type": "execute_result",
          "data": {
            "text/plain": [
              "array([[ 7,  4,  5, -1],\n",
              "       [ 1,  3,  2, -2]])"
            ]
          },
          "metadata": {
            "tags": []
          },
          "execution_count": 40
        }
      ]
    },
    {
      "cell_type": "markdown",
      "metadata": {
        "id": "W_HHGVp16YXU"
      },
      "source": [
        "The split arrays obtained by `np.split()` can be concatenated using `np.concatenate()` to get the original array."
      ]
    },
    {
      "cell_type": "code",
      "metadata": {
        "id": "SmHdQjNH6XmF",
        "colab": {
          "base_uri": "https://localhost:8080/"
        },
        "outputId": "0f3e2db8-917d-47ec-ca41-9864644c9264"
      },
      "source": [
        "array = np.array([[1,   1,  1],\n",
        "                  [-1, -1, -1],\n",
        "                  [2,   2,  2],\n",
        "                  [-2, -2, -2],\n",
        "                  [3,   3,  3],\n",
        "                  [-3, -3, -3]])\n",
        "\n",
        "split_arrays = np.split(array, [2], axis=0)\n",
        "\n",
        "print(\"split arrays:\")\n",
        "print_splits(split_arrays)\n",
        "\n",
        "np.concatenate(split_arrays, axis=0)"
      ],
      "execution_count": null,
      "outputs": [
        {
          "output_type": "stream",
          "text": [
            "split arrays:\n",
            "[[ 1  1  1]\n",
            " [-1 -1 -1]] \n",
            "\n",
            "[[ 2  2  2]\n",
            " [-2 -2 -2]\n",
            " [ 3  3  3]\n",
            " [-3 -3 -3]] \n",
            "\n"
          ],
          "name": "stdout"
        },
        {
          "output_type": "execute_result",
          "data": {
            "text/plain": [
              "array([[ 1,  1,  1],\n",
              "       [-1, -1, -1],\n",
              "       [ 2,  2,  2],\n",
              "       [-2, -2, -2],\n",
              "       [ 3,  3,  3],\n",
              "       [-3, -3, -3]])"
            ]
          },
          "metadata": {
            "tags": []
          },
          "execution_count": 41
        }
      ]
    },
    {
      "cell_type": "markdown",
      "metadata": {
        "id": "dv237F9ntHIz"
      },
      "source": [
        "### Stacking - Vertical"
      ]
    },
    {
      "cell_type": "markdown",
      "metadata": {
        "id": "mu9ROPZotaHO"
      },
      "source": [
        "\n",
        "\n",
        "\n",
        "*   `np.vstack((a1, a2, ...))`\n",
        "  *   Stacks the arrays a1, a2, … vertically (row-wise) in sequence and returns the stacked array.\n",
        "  * Except in the case of 1D arrays, it's equivalent to `np.concatenate` along `axis = 0`\n",
        "\n"
      ]
    },
    {
      "cell_type": "markdown",
      "metadata": {
        "id": "juJedbQd_gtF"
      },
      "source": [
        "1-D arrays must have the same length to apply `np.vstack` on them"
      ]
    },
    {
      "cell_type": "code",
      "metadata": {
        "id": "DRiZeMO3yS6V",
        "colab": {
          "base_uri": "https://localhost:8080/"
        },
        "outputId": "ae0800c5-b2bb-4920-d55e-90f51cd95fea"
      },
      "source": [
        "a = np.array([1, 7, 11]) # 1D array\n",
        "b = np.array([10, 20, 30])\n",
        "\n",
        "vstack_array = np.vstack((a, b))\n",
        "print(vstack_array)"
      ],
      "execution_count": null,
      "outputs": [
        {
          "output_type": "stream",
          "text": [
            "[[ 1  7 11]\n",
            " [10 20 30]]\n"
          ],
          "name": "stdout"
        }
      ]
    },
    {
      "cell_type": "markdown",
      "metadata": {
        "id": "cF4-M74f_wTZ"
      },
      "source": [
        "nD-arrays (n > 1) must have the same shape along every axis except for the first axis (axis-0)."
      ]
    },
    {
      "cell_type": "code",
      "metadata": {
        "id": "A-g1gZp8yZkl",
        "colab": {
          "base_uri": "https://localhost:8080/"
        },
        "outputId": "4ab0daca-f01a-4e6f-b469-1a49f9141c07"
      },
      "source": [
        "a = np.array([[1, 2, 3], \n",
        "              [4, 5, 6]])\n",
        "\n",
        "b = np.array([[-1,   -2,  -3], \n",
        "              [-4,   -5,  -6],\n",
        "              [-7,   -8,  -9],\n",
        "              [-10, -11, -12]])\n",
        "\n",
        "np.vstack((a, b))"
      ],
      "execution_count": null,
      "outputs": [
        {
          "output_type": "execute_result",
          "data": {
            "text/plain": [
              "array([[  1,   2,   3],\n",
              "       [  4,   5,   6],\n",
              "       [ -1,  -2,  -3],\n",
              "       [ -4,  -5,  -6],\n",
              "       [ -7,  -8,  -9],\n",
              "       [-10, -11, -12]])"
            ]
          },
          "metadata": {
            "tags": []
          },
          "execution_count": 43
        }
      ]
    },
    {
      "cell_type": "markdown",
      "metadata": {
        "id": "YBa8ubofy7X0"
      },
      "source": [
        "### Stacking - Horizontal"
      ]
    },
    {
      "cell_type": "markdown",
      "metadata": {
        "id": "nN_peHRDzFvU"
      },
      "source": [
        "* `np.hstack((a1, a2, ...))`\n",
        "  *  Stacks the arrays a1, a2, … horizontally (column-wise) in sequence and returns the stacked array.\n",
        "  *   Except in the case of 1D arrays, its equivalent to `np.concatenate` along axis = 1\n"
      ]
    },
    {
      "cell_type": "markdown",
      "metadata": {
        "id": "IwVxmU8OCmFv"
      },
      "source": [
        "1-D arrays can be of any length"
      ]
    },
    {
      "cell_type": "code",
      "metadata": {
        "id": "QkTjU4-T0USW",
        "colab": {
          "base_uri": "https://localhost:8080/"
        },
        "outputId": "f9c4d0e7-4db1-4d6b-943c-76494ea83c9c"
      },
      "source": [
        "a = np.array([1, 7, 11]) \n",
        "b = np.array([10, 20])\n",
        "\n",
        "np.hstack((a, b))"
      ],
      "execution_count": null,
      "outputs": [
        {
          "output_type": "execute_result",
          "data": {
            "text/plain": [
              "array([ 1,  7, 11, 10, 20])"
            ]
          },
          "metadata": {
            "tags": []
          },
          "execution_count": 44
        }
      ]
    },
    {
      "cell_type": "markdown",
      "metadata": {
        "id": "hJ-SwKPcBqie"
      },
      "source": [
        "nD-arrays (n > 1) must have the same shape along every axis except for the second axis (axis-1)."
      ]
    },
    {
      "cell_type": "code",
      "metadata": {
        "id": "05d0-i_VzQ-x",
        "colab": {
          "base_uri": "https://localhost:8080/"
        },
        "outputId": "138c5f82-cecd-4f5f-8bd5-a6e14ad33747"
      },
      "source": [
        "a = np.array([[1, 2], \n",
        "             [3, 4],\n",
        "             [5, 6]])\n",
        "\n",
        "b = np.array([[-1,  -2,  -3,  -4], \n",
        "              [-5,  -6,  -7,  -8],\n",
        "              [-9, -10, -11, -12]])\n",
        "\n",
        "np.hstack((a, b))"
      ],
      "execution_count": null,
      "outputs": [
        {
          "output_type": "execute_result",
          "data": {
            "text/plain": [
              "array([[  1,   2,  -1,  -2,  -3,  -4],\n",
              "       [  3,   4,  -5,  -6,  -7,  -8],\n",
              "       [  5,   6,  -9, -10, -11, -12]])"
            ]
          },
          "metadata": {
            "tags": []
          },
          "execution_count": 45
        }
      ]
    },
    {
      "cell_type": "markdown",
      "metadata": {
        "id": "rwt4kDwInFkw"
      },
      "source": [
        "### Stacking"
      ]
    },
    {
      "cell_type": "markdown",
      "metadata": {
        "id": "ZSR5CNFrnXa3"
      },
      "source": [
        "\n",
        "\n",
        "\n",
        "*   `np.stack(arrays, axis=0)`\n",
        "  *   Joins a sequence of arrays along the **new axis**.\n",
        "  *   All input arrays must have the **same shape**.\n",
        "  *   The resulting array has 1 additional dimension compared to the input arrays.\n",
        "  *   The `axis` parameter specifies the index of the new axis which has to be created.\n",
        "\n"
      ]
    },
    {
      "cell_type": "code",
      "metadata": {
        "id": "ILHd2MX7olsj",
        "colab": {
          "base_uri": "https://localhost:8080/"
        },
        "outputId": "0c6e42c2-6530-4ad5-9248-b54242a71303"
      },
      "source": [
        "a = np.array([1, 2, 3])\n",
        "b = np.array([-1, -2, -3])\n",
        "\n",
        "stacked_axis_0 = np.stack([a, b], axis = 0)\n",
        "shape_axis_0 = stacked_axis_0.shape\n",
        "\n",
        "print(\"stacked array with axis-0:\\n\", stacked_axis_0, \"\\n\")\n",
        "\n",
        "stacked_axis_1 = np.stack([a, b], axis = 1)\n",
        "shape_axis_1 = stacked_axis_1.shape\n",
        "\n",
        "print(\"stacked array with axis-1:\\n\", stacked_axis_1)"
      ],
      "execution_count": null,
      "outputs": [
        {
          "output_type": "stream",
          "text": [
            "stacked array with axis-0:\n",
            " [[ 1  2  3]\n",
            " [-1 -2 -3]] \n",
            "\n",
            "stacked array with axis-1:\n",
            " [[ 1 -1]\n",
            " [ 2 -2]\n",
            " [ 3 -3]]\n"
          ],
          "name": "stdout"
        }
      ]
    },
    {
      "cell_type": "code",
      "metadata": {
        "id": "vZIDn8R-qV1a",
        "colab": {
          "base_uri": "https://localhost:8080/"
        },
        "outputId": "59a2eac3-a44b-46f9-e26c-9f4262426315"
      },
      "source": [
        "a = np.array([[1, 2, 3], \n",
        "              [4, 5, 6]])\n",
        "\n",
        "b = np.array([[-1, -2, -3], \n",
        "              [-4, -5, -6]])\n",
        "\n",
        "stacked_axis_2 = np.stack([a, b], axis = 2)\n",
        "print(\"stacked array with axis-2:\\n\", stacked_axis_2, \"\\n\")\n",
        "\n",
        "print(\"shape of given arrays: \", a.shape)\n",
        "print(\"shape of stacked array:\", stacked_axis_2.shape)"
      ],
      "execution_count": null,
      "outputs": [
        {
          "output_type": "stream",
          "text": [
            "stacked array with axis-2:\n",
            " [[[ 1 -1]\n",
            "  [ 2 -2]\n",
            "  [ 3 -3]]\n",
            "\n",
            " [[ 4 -4]\n",
            "  [ 5 -5]\n",
            "  [ 6 -6]]] \n",
            "\n",
            "shape of given arrays:  (2, 3)\n",
            "shape of stacked array: (2, 3, 2)\n"
          ],
          "name": "stdout"
        }
      ]
    },
    {
      "cell_type": "markdown",
      "metadata": {
        "id": "w9_toMGb05rp"
      },
      "source": [
        "**The size of the new dimension which is created will be equal to the number of arrays that are stacked**"
      ]
    },
    {
      "cell_type": "code",
      "metadata": {
        "id": "ac4WGErcoLXG",
        "colab": {
          "base_uri": "https://localhost:8080/"
        },
        "outputId": "76e8be2b-af95-4557-fa9f-935204eb38c6"
      },
      "source": [
        "arrays = [np.random.randn(2, 3) for i in range(5)]\n",
        "\n",
        "np.stack(arrays, axis=2).shape"
      ],
      "execution_count": null,
      "outputs": [
        {
          "output_type": "execute_result",
          "data": {
            "text/plain": [
              "(2, 3, 5)"
            ]
          },
          "metadata": {
            "tags": []
          },
          "execution_count": 48
        }
      ]
    },
    {
      "cell_type": "markdown",
      "metadata": {
        "id": "dkC8yOaU0y1o"
      },
      "source": [
        "## Tiling arrays\n"
      ]
    },
    {
      "cell_type": "markdown",
      "metadata": {
        "id": "SMoi7Y66Bfuy"
      },
      "source": [
        "### np.repeat()"
      ]
    },
    {
      "cell_type": "markdown",
      "metadata": {
        "id": "1P1ZYFjX-ntA"
      },
      "source": [
        "\n",
        "*   `numpy.repeat(arr, num_repeats, axis=None)`\n",
        "  *   Repeats elements of an array.\n",
        "  *   Outputs an array which has the same shape as `arr`, except along the given `axis`.\n",
        "  *   `num_repeats` are the number of repetitions for each element which is broadcasted to fit the shape of the given axis.\n"
      ]
    },
    {
      "cell_type": "code",
      "metadata": {
        "id": "mQdUB_Sk_jg_",
        "colab": {
          "base_uri": "https://localhost:8080/"
        },
        "outputId": "b8260e78-421c-4e1b-8ba8-4d2593729426"
      },
      "source": [
        "np.repeat(2, 5)"
      ],
      "execution_count": null,
      "outputs": [
        {
          "output_type": "execute_result",
          "data": {
            "text/plain": [
              "array([2, 2, 2, 2, 2])"
            ]
          },
          "metadata": {
            "tags": []
          },
          "execution_count": 49
        }
      ]
    },
    {
      "cell_type": "code",
      "metadata": {
        "id": "RAyrgxT5_-nI",
        "colab": {
          "base_uri": "https://localhost:8080/"
        },
        "outputId": "a26af712-288b-42dd-927a-c90c38a16c33"
      },
      "source": [
        "a = np.array([[1,2,3],\n",
        "              [4,5,6]])\n",
        "\n",
        "np.repeat(a, 2, axis=0)"
      ],
      "execution_count": null,
      "outputs": [
        {
          "output_type": "execute_result",
          "data": {
            "text/plain": [
              "array([[1, 2, 3],\n",
              "       [1, 2, 3],\n",
              "       [4, 5, 6],\n",
              "       [4, 5, 6]])"
            ]
          },
          "metadata": {
            "tags": []
          },
          "execution_count": 50
        }
      ]
    },
    {
      "cell_type": "code",
      "metadata": {
        "id": "OeN80kSvAjAD",
        "colab": {
          "base_uri": "https://localhost:8080/"
        },
        "outputId": "6e305645-8a5c-49e9-d16a-6f618b9fca55"
      },
      "source": [
        "a = np.array([[1,2,3],\n",
        "              [4,5,6]])\n",
        "\n",
        "np.repeat(a, 3, axis=1)"
      ],
      "execution_count": null,
      "outputs": [
        {
          "output_type": "execute_result",
          "data": {
            "text/plain": [
              "array([[1, 1, 1, 2, 2, 2, 3, 3, 3],\n",
              "       [4, 4, 4, 5, 5, 5, 6, 6, 6]])"
            ]
          },
          "metadata": {
            "tags": []
          },
          "execution_count": 51
        }
      ]
    },
    {
      "cell_type": "markdown",
      "metadata": {
        "id": "hN6oJmFm3NQx"
      },
      "source": [
        "**`num_repeats`** can also be a list that indicates how many times each of the corresponding elements should be repeated (along the given axis)"
      ]
    },
    {
      "cell_type": "code",
      "metadata": {
        "id": "1MFnbqlLAwT7",
        "colab": {
          "base_uri": "https://localhost:8080/"
        },
        "outputId": "18965c80-3b89-4a98-96b6-06528bbcdbd8"
      },
      "source": [
        "a = np.array([[1,2,3],\n",
        "              [4,5,6]])\n",
        "\n",
        "np.repeat(a, [3,5], axis=0)"
      ],
      "execution_count": null,
      "outputs": [
        {
          "output_type": "execute_result",
          "data": {
            "text/plain": [
              "array([[1, 2, 3],\n",
              "       [1, 2, 3],\n",
              "       [1, 2, 3],\n",
              "       [4, 5, 6],\n",
              "       [4, 5, 6],\n",
              "       [4, 5, 6],\n",
              "       [4, 5, 6],\n",
              "       [4, 5, 6]])"
            ]
          },
          "metadata": {
            "tags": []
          },
          "execution_count": 52
        }
      ]
    },
    {
      "cell_type": "markdown",
      "metadata": {
        "id": "t6kRguD9BNnV"
      },
      "source": [
        "## Adding and removing elements\n"
      ]
    },
    {
      "cell_type": "markdown",
      "metadata": {
        "id": "R3SYP9PzBnQq"
      },
      "source": [
        "### np.delete()"
      ]
    },
    {
      "cell_type": "markdown",
      "metadata": {
        "id": "q8XroykWBuC1"
      },
      "source": [
        "\n",
        "\n",
        "*   `np.delete(arr, delete_indices, axis=None)`\n",
        "  *   Returns a new array by deleting all the sub-arrays along the mentioned `axis`.\n",
        "  *   `delete_indices` indicates the indices of the sub-arrays that need to be removed along the specified `axis`.\n",
        "\n",
        "\n",
        "\n",
        "\n"
      ]
    },
    {
      "cell_type": "code",
      "metadata": {
        "id": "OIaNJaLSDTyv",
        "colab": {
          "base_uri": "https://localhost:8080/"
        },
        "outputId": "842fab13-1684-4b8a-a20d-83b597c3456a"
      },
      "source": [
        "a = np.array([[ 1,  3,  5,  7],\n",
        "              [ 2,  4,  6,  8],\n",
        "              [-1, -2, -3, -4]])\n",
        "\n",
        "delete_in_axis_0 = np.delete(a, 1, 0)\n",
        "print(\"delete at position-1 along axis-0:\\n\", delete_in_axis_0)"
      ],
      "execution_count": null,
      "outputs": [
        {
          "output_type": "stream",
          "text": [
            "delete at position-1 along axis-0:\n",
            " [[ 1  3  5  7]\n",
            " [-1 -2 -3 -4]]\n"
          ],
          "name": "stdout"
        }
      ]
    },
    {
      "cell_type": "code",
      "metadata": {
        "id": "eWVUD5GUENZq",
        "colab": {
          "base_uri": "https://localhost:8080/"
        },
        "outputId": "189149e1-e462-4f84-b222-aece689418c6"
      },
      "source": [
        "a = np.array([[ 1,  3,  5,  7],\n",
        "              [ 2,  4,  6,  8],\n",
        "              [-1, -2, -3, -4]])\n",
        "\n",
        "delete_in_axis_1 = np.delete(a, 2, 1)\n",
        "print(\"delete at position-2 along axis-1:\\n\", delete_in_axis_1)"
      ],
      "execution_count": null,
      "outputs": [
        {
          "output_type": "stream",
          "text": [
            "delete at position-2 along axis-1:\n",
            " [[ 1  3  7]\n",
            " [ 2  4  8]\n",
            " [-1 -2 -4]]\n"
          ],
          "name": "stdout"
        }
      ]
    },
    {
      "cell_type": "code",
      "metadata": {
        "id": "iR_EZz8HFe_2",
        "colab": {
          "base_uri": "https://localhost:8080/"
        },
        "outputId": "92e5c86b-389d-4ee4-844b-f32abeaae439"
      },
      "source": [
        "a = np.array([[ 1,  3,  5,  7],\n",
        "              [ 2,  4,  6,  8],\n",
        "              [-1, -2, -3, -4]])\n",
        "\n",
        "np.delete(a, [0,3], axis=None)"
      ],
      "execution_count": null,
      "outputs": [
        {
          "output_type": "execute_result",
          "data": {
            "text/plain": [
              "array([ 3,  5,  2,  4,  6,  8, -1, -2, -3, -4])"
            ]
          },
          "metadata": {
            "tags": []
          },
          "execution_count": 55
        }
      ]
    },
    {
      "cell_type": "markdown",
      "metadata": {
        "id": "dsZk89XYF8jx"
      },
      "source": [
        "### np.insert()"
      ]
    },
    {
      "cell_type": "markdown",
      "metadata": {
        "id": "B2I2YXv6GJ7B"
      },
      "source": [
        "\n",
        "\n",
        "*   `numpy.insert(arr, indices, values, axis=None)`\n",
        "  *   Insert values along the given axis before the given indices.\n",
        "  *   **indices** defines the index or indices before which the given `values` are inserted.\n",
        "  *   **values** to insert into `arr`. If the type of values is different from that of `arr`, `values` is converted to the type of `arr`. values should be shaped so that `arr[...,indices,...] = values` is legal.\n",
        "  *   Output is a copy of `arr` with values appended to the specified axis.\n",
        "\n",
        "\n",
        "\n"
      ]
    },
    {
      "cell_type": "code",
      "metadata": {
        "id": "6wHT6FkSIHBI",
        "colab": {
          "base_uri": "https://localhost:8080/"
        },
        "outputId": "2b1eaa25-7a2d-496e-8eb8-7569a562bd1d"
      },
      "source": [
        "a = np.array([[1, -1], \n",
        "              [2, -2], \n",
        "              [3, -3]])\n",
        "\n",
        "insert_axis_0 = np.insert(a, 1, [4, 4], axis=0)\n",
        "print(\"insert 4's at position-1 along axis-0:\\n\", insert_axis_0)"
      ],
      "execution_count": null,
      "outputs": [
        {
          "output_type": "stream",
          "text": [
            "insert 4's at position-1 along axis-0:\n",
            " [[ 1 -1]\n",
            " [ 4  4]\n",
            " [ 2 -2]\n",
            " [ 3 -3]]\n"
          ],
          "name": "stdout"
        }
      ]
    },
    {
      "cell_type": "code",
      "metadata": {
        "id": "eCBWHhpxODQO",
        "colab": {
          "base_uri": "https://localhost:8080/"
        },
        "outputId": "39ba09fc-b3b8-46d1-9ad8-d3537f249c5f"
      },
      "source": [
        "insert_axis_1 = np.insert(a, 1, 4, axis=1)\n",
        "print(\"insert 4's at position-1 along axis-1:\\n\",insert_axis_1)"
      ],
      "execution_count": null,
      "outputs": [
        {
          "output_type": "stream",
          "text": [
            "insert 4's at position-1 along axis-1:\n",
            " [[ 1  4 -1]\n",
            " [ 2  4 -2]\n",
            " [ 3  4 -3]]\n"
          ],
          "name": "stdout"
        }
      ]
    },
    {
      "cell_type": "code",
      "metadata": {
        "id": "jTJtdFLGWJlt",
        "colab": {
          "base_uri": "https://localhost:8080/"
        },
        "outputId": "8df22f30-6356-42ba-88fd-4a98249fa4d9"
      },
      "source": [
        "a = np.array([[1, -1], \n",
        "              [2, -2], \n",
        "              [3, -3]])\n",
        "\n",
        "zeros = np.zeros((3,2))\n",
        "\n",
        "np.insert(a, [1], zeros, axis=1)"
      ],
      "execution_count": null,
      "outputs": [
        {
          "output_type": "execute_result",
          "data": {
            "text/plain": [
              "array([[ 1,  0,  0, -1],\n",
              "       [ 2,  0,  0, -2],\n",
              "       [ 3,  0,  0, -3]])"
            ]
          },
          "metadata": {
            "tags": []
          },
          "execution_count": 58
        }
      ]
    },
    {
      "cell_type": "code",
      "metadata": {
        "id": "eFEPjtJxOtrU",
        "colab": {
          "base_uri": "https://localhost:8080/"
        },
        "outputId": "0e250654-9657-4cb3-c530-f6033d40cd2b"
      },
      "source": [
        "a = np.array([[1, -1], \n",
        "              [2, -2], \n",
        "              [3, -3]])\n",
        "\n",
        "np.insert(a, 1, 4, axis=None)"
      ],
      "execution_count": null,
      "outputs": [
        {
          "output_type": "execute_result",
          "data": {
            "text/plain": [
              "array([ 1,  4, -1,  2, -2,  3, -3])"
            ]
          },
          "metadata": {
            "tags": []
          },
          "execution_count": 59
        }
      ]
    },
    {
      "cell_type": "markdown",
      "metadata": {
        "id": "HUbRLBaqF_5-"
      },
      "source": [
        "### np.append()"
      ]
    },
    {
      "cell_type": "markdown",
      "metadata": {
        "id": "Rr5_GlCUNWCY"
      },
      "source": [
        "*  `numpy.append(arr, values, axis=None)`\n",
        "  *  Append values to the end of an array.\n",
        "  *  Output is a copy of `arr` with values appended to axis."
      ]
    },
    {
      "cell_type": "markdown",
      "metadata": {
        "id": "7PYkszD6YQqH"
      },
      "source": [
        "\n",
        "\n",
        "*   If axis is given, both `arr` and `values` should have the same shape\n",
        "\n",
        "\n"
      ]
    },
    {
      "cell_type": "code",
      "metadata": {
        "id": "UCQPrf93Qby-",
        "colab": {
          "base_uri": "https://localhost:8080/"
        },
        "outputId": "cbb10297-94ea-4946-dea6-9f9cfd3692f8"
      },
      "source": [
        "array_2d = np.array([[1, 2, 3], \n",
        "              [4, 5, 6]])\n",
        "\n",
        "values = np.array([[-1, -2, -3], \n",
        "              [-4, -5, -6]])\n",
        "\n",
        "np.append(array_2d, values, axis=0)"
      ],
      "execution_count": null,
      "outputs": [
        {
          "output_type": "execute_result",
          "data": {
            "text/plain": [
              "array([[ 1,  2,  3],\n",
              "       [ 4,  5,  6],\n",
              "       [-1, -2, -3],\n",
              "       [-4, -5, -6]])"
            ]
          },
          "metadata": {
            "tags": []
          },
          "execution_count": 60
        }
      ]
    },
    {
      "cell_type": "code",
      "metadata": {
        "id": "16uCItEnQmI-",
        "colab": {
          "base_uri": "https://localhost:8080/"
        },
        "outputId": "1d966eb9-1105-48de-f1b5-7259eb024830"
      },
      "source": [
        "np.append(array_2d, values, axis=1)"
      ],
      "execution_count": null,
      "outputs": [
        {
          "output_type": "execute_result",
          "data": {
            "text/plain": [
              "array([[ 1,  2,  3, -1, -2, -3],\n",
              "       [ 4,  5,  6, -4, -5, -6]])"
            ]
          },
          "metadata": {
            "tags": []
          },
          "execution_count": 61
        }
      ]
    },
    {
      "cell_type": "markdown",
      "metadata": {
        "id": "qIZrQr3iXyiB"
      },
      "source": [
        " \n",
        "\n",
        "*   If `axis` is not given, both `arr` and `values` are flattened before use."
      ]
    },
    {
      "cell_type": "code",
      "metadata": {
        "id": "Ssxju53YOUPy",
        "colab": {
          "base_uri": "https://localhost:8080/"
        },
        "outputId": "c3d855c3-7fbc-4b08-838b-4f890b67a4eb"
      },
      "source": [
        "np.append(array_2d, values)"
      ],
      "execution_count": null,
      "outputs": [
        {
          "output_type": "execute_result",
          "data": {
            "text/plain": [
              "array([ 1,  2,  3,  4,  5,  6, -1, -2, -3, -4, -5, -6])"
            ]
          },
          "metadata": {
            "tags": []
          },
          "execution_count": 62
        }
      ]
    },
    {
      "cell_type": "markdown",
      "metadata": {
        "id": "mDriEnHOm4bd"
      },
      "source": [
        "## Padding"
      ]
    },
    {
      "cell_type": "markdown",
      "metadata": {
        "id": "VjHGwgTtn8TX"
      },
      "source": [
        "* `numpy.pad(array, pad_width, mode='constant', **kwargs)`\n",
        "  * `pad_width` is the number of values padded to the edges of each axis.\n",
        "  * Output is a padded array of rank equal to `array`, with shape increased according to `pad_width`. \n"
      ]
    },
    {
      "cell_type": "markdown",
      "metadata": {
        "id": "bexOwiaxpekE"
      },
      "source": [
        "* `mode = ‘constant’` (default)\n",
        "\n",
        "    * Pads with a constant value.\n",
        "\n",
        "* `constant_values`: The padded values to set for each axis.\n"
      ]
    },
    {
      "cell_type": "code",
      "metadata": {
        "id": "TlsWYdVPpkac",
        "colab": {
          "base_uri": "https://localhost:8080/"
        },
        "outputId": "ca6fe50d-6a52-4350-bbb5-1377bc429241"
      },
      "source": [
        "array = np.array([[1, 3], [7, 9]])\n",
        "\n",
        "pad_array_constant = np.pad(array, (1, 2), 'constant', constant_values=(-1, -2))\n",
        "print('pad_array_constant:\\n', pad_array_constant)"
      ],
      "execution_count": null,
      "outputs": [
        {
          "output_type": "stream",
          "text": [
            "pad_array_constant:\n",
            " [[-1 -1 -1 -2 -2]\n",
            " [-1  1  3 -2 -2]\n",
            " [-1  7  9 -2 -2]\n",
            " [-1 -2 -2 -2 -2]\n",
            " [-1 -2 -2 -2 -2]]\n"
          ],
          "name": "stdout"
        }
      ]
    },
    {
      "cell_type": "markdown",
      "metadata": {
        "id": "lnvZEE4JqIM9"
      },
      "source": [
        "* `mode = ‘edge’`\n",
        "    * Pads with the edge values of the array.\n"
      ]
    },
    {
      "cell_type": "code",
      "metadata": {
        "id": "ZQR-30tyqT8q",
        "colab": {
          "base_uri": "https://localhost:8080/"
        },
        "outputId": "7a8412cc-8545-400e-eebf-190313c2b5c2"
      },
      "source": [
        "array = np.array([[1, 3], [7, 9]])\n",
        "\n",
        "pad_array_edge = np.pad(array, (1, 1), 'edge')\n",
        "print('pad_array_edge:\\n', pad_array_edge)"
      ],
      "execution_count": null,
      "outputs": [
        {
          "output_type": "stream",
          "text": [
            "pad_array_edge:\n",
            " [[1 1 3 3]\n",
            " [1 1 3 3]\n",
            " [7 7 9 9]\n",
            " [7 7 9 9]]\n"
          ],
          "name": "stdout"
        }
      ]
    },
    {
      "cell_type": "markdown",
      "metadata": {
        "id": "cylIdP-I5Wv6"
      },
      "source": [
        "## Understanding NumPy Internals"
      ]
    },
    {
      "cell_type": "code",
      "metadata": {
        "id": "YYmZXG_jwi54",
        "colab": {
          "base_uri": "https://localhost:8080/"
        },
        "outputId": "650fe2c2-8b7d-4720-e156-29b7a6fd7657"
      },
      "source": [
        "import numpy as np\n",
        "\n",
        "original_3D = np.array([[['A', 'B'],\n",
        "                      ['C', 'D'],\n",
        "                      ['E', 'F']],\n",
        "                     \n",
        "                     [['G', 'H'],\n",
        "                      ['I', 'J'],\n",
        "                      ['K', 'L']],\n",
        "                     \n",
        "                     [['M', 'N'],\n",
        "                      ['O', 'P'],\n",
        "                      ['Q', 'R']],\n",
        "                     \n",
        "                     [['S', 'T'],\n",
        "                      ['U', 'V'],\n",
        "                      ['W', 'X']]])\n",
        "\n",
        "print(\"original_3D shape: \", original_3D.shape)\n",
        "print(\"original_3D strides: \", original_3D.strides)\n",
        "print(\"original_3D data: \", original_3D.data, \"\\n\")\n",
        "\n",
        "print(original_3D, \"\\n\")"
      ],
      "execution_count": null,
      "outputs": [
        {
          "output_type": "stream",
          "text": [
            "original_3D shape:  (4, 3, 2)\n",
            "original_3D strides:  (24, 8, 4)\n",
            "original_3D data:  <memory at 0x7f972434e8b8> \n",
            "\n",
            "[[['A' 'B']\n",
            "  ['C' 'D']\n",
            "  ['E' 'F']]\n",
            "\n",
            " [['G' 'H']\n",
            "  ['I' 'J']\n",
            "  ['K' 'L']]\n",
            "\n",
            " [['M' 'N']\n",
            "  ['O' 'P']\n",
            "  ['Q' 'R']]\n",
            "\n",
            " [['S' 'T']\n",
            "  ['U' 'V']\n",
            "  ['W' 'X']]] \n",
            "\n"
          ],
          "name": "stdout"
        }
      ]
    },
    {
      "cell_type": "markdown",
      "metadata": {
        "id": "S-4gs9zFGonl"
      },
      "source": [
        "#### **`np.ravel`**"
      ]
    },
    {
      "cell_type": "code",
      "metadata": {
        "id": "B6RlY-Nc6JwG",
        "colab": {
          "base_uri": "https://localhost:8080/"
        },
        "outputId": "3c6ae35f-e0dc-4860-c862-b82e53c7fc41"
      },
      "source": [
        "ravel_3D = original_3D.ravel()\n",
        "\n",
        "print(\"ravel_3D shape: \", ravel_3D.shape)\n",
        "print(\"ravel_3D strides: \", ravel_3D.strides)\n",
        "print(ravel_3D.base is original_3D)"
      ],
      "execution_count": null,
      "outputs": [
        {
          "output_type": "stream",
          "text": [
            "ravel_3D shape:  (24,)\n",
            "ravel_3D strides:  (4,)\n",
            "True\n"
          ],
          "name": "stdout"
        }
      ]
    },
    {
      "cell_type": "markdown",
      "metadata": {
        "id": "JLKqhpVoGzzu"
      },
      "source": [
        "#### **`np.swapaxes`**"
      ]
    },
    {
      "cell_type": "code",
      "metadata": {
        "id": "0HPa3-n4ldi7",
        "colab": {
          "base_uri": "https://localhost:8080/"
        },
        "outputId": "458f66d3-8f50-4e7e-c3ec-c7a6b5e3efc8"
      },
      "source": [
        "swap_3D = np.swapaxes(original_3D, 1, 2)\n",
        "\n",
        "print(\"swap_3D shape: \", swap_3D.shape)\n",
        "print(\"swap_3D strides: \", swap_3D.strides)\n",
        "print(swap_3D.base is original_3D)"
      ],
      "execution_count": null,
      "outputs": [
        {
          "output_type": "stream",
          "text": [
            "swap_3D shape:  (4, 2, 3)\n",
            "swap_3D strides:  (24, 4, 8)\n",
            "True\n"
          ],
          "name": "stdout"
        }
      ]
    },
    {
      "cell_type": "markdown",
      "metadata": {
        "id": "99JjguGsG21e"
      },
      "source": [
        "#### **`np.moveaxis`**"
      ]
    },
    {
      "cell_type": "code",
      "metadata": {
        "id": "1GsDL7kppxbI",
        "colab": {
          "base_uri": "https://localhost:8080/"
        },
        "outputId": "de9df8b7-bf59-45fd-cf21-f39cfeaf1750"
      },
      "source": [
        "move_3D = np.moveaxis(original_3D, [1],[2])\n",
        "\n",
        "print(\"move_3D shape: \", move_3D.shape)\n",
        "print(\"move_3D strides: \", move_3D.strides)\n",
        "print(move_3D.base is original_3D)"
      ],
      "execution_count": null,
      "outputs": [
        {
          "output_type": "stream",
          "text": [
            "move_3D shape:  (4, 2, 3)\n",
            "move_3D strides:  (24, 4, 8)\n",
            "True\n"
          ],
          "name": "stdout"
        }
      ]
    },
    {
      "cell_type": "code",
      "metadata": {
        "id": "ATfbVCvBdbDc",
        "colab": {
          "base_uri": "https://localhost:8080/"
        },
        "outputId": "9df5a75f-ad03-4be1-b46a-d30f48cb311e"
      },
      "source": [
        "print(move_3D, \"\\n\")\n",
        "print(move_3D[0,0,0])\n",
        "print(move_3D[0,0,1])"
      ],
      "execution_count": null,
      "outputs": [
        {
          "output_type": "stream",
          "text": [
            "[[['A' 'C' 'E']\n",
            "  ['B' 'D' 'F']]\n",
            "\n",
            " [['G' 'I' 'K']\n",
            "  ['H' 'J' 'L']]\n",
            "\n",
            " [['M' 'O' 'Q']\n",
            "  ['N' 'P' 'R']]\n",
            "\n",
            " [['S' 'U' 'W']\n",
            "  ['T' 'V' 'X']]] \n",
            "\n",
            "A\n",
            "C\n"
          ],
          "name": "stdout"
        }
      ]
    },
    {
      "cell_type": "markdown",
      "metadata": {
        "id": "cSP6QBVaG6RF"
      },
      "source": [
        "#### **`np.reshape`**"
      ]
    },
    {
      "cell_type": "code",
      "metadata": {
        "id": "igEZh5k-FyOq",
        "colab": {
          "base_uri": "https://localhost:8080/"
        },
        "outputId": "64638580-5b31-498f-e4ba-2bbe6e03a044"
      },
      "source": [
        "reshape_3D = np.reshape(original_3D, (4, 2, 3))\n",
        "\n",
        "print(\"reshape_3D shape: \", reshape_3D.shape)\n",
        "print(\"reshape_3D strides: \", reshape_3D.strides)\n",
        "print(reshape_3D.base is original_3D)"
      ],
      "execution_count": null,
      "outputs": [
        {
          "output_type": "stream",
          "text": [
            "reshape_3D shape:  (4, 2, 3)\n",
            "reshape_3D strides:  (24, 12, 4)\n",
            "True\n"
          ],
          "name": "stdout"
        }
      ]
    },
    {
      "cell_type": "code",
      "metadata": {
        "id": "n6ROdXlVcm8R",
        "colab": {
          "base_uri": "https://localhost:8080/"
        },
        "outputId": "e0cf928f-8eed-4c7a-ae52-3ae3d57c73e5"
      },
      "source": [
        "print(reshape_3D, \"\\n\")\n",
        "print(reshape_3D[0,0,0])\n",
        "print(reshape_3D[0,0,1])"
      ],
      "execution_count": null,
      "outputs": [
        {
          "output_type": "stream",
          "text": [
            "[[['A' 'B' 'C']\n",
            "  ['D' 'E' 'F']]\n",
            "\n",
            " [['G' 'H' 'I']\n",
            "  ['J' 'K' 'L']]\n",
            "\n",
            " [['M' 'N' 'O']\n",
            "  ['P' 'Q' 'R']]\n",
            "\n",
            " [['S' 'T' 'U']\n",
            "  ['V' 'W' 'X']]] \n",
            "\n",
            "A\n",
            "B\n"
          ],
          "name": "stdout"
        }
      ]
    },
    {
      "cell_type": "markdown",
      "metadata": {
        "id": "2OY9FMJgG9GH"
      },
      "source": [
        "#### **Slicing**"
      ]
    },
    {
      "cell_type": "code",
      "metadata": {
        "id": "BMMXgINH_vps",
        "colab": {
          "base_uri": "https://localhost:8080/"
        },
        "outputId": "8b9236f5-5d7d-44da-c04f-166deb3c7dc0"
      },
      "source": [
        "sliced_3D = original_3D[::2,:,::2]\n",
        "\n",
        "print(\"sliced_3D shape: \", sliced_3D.shape)\n",
        "print(\"sliced_3D strides: \", sliced_3D.strides)\n",
        "print(\"sliced_3D data: \", sliced_3D.data, \"\\n\")\n",
        "\n",
        "print(sliced_3D.base is original_3D)"
      ],
      "execution_count": null,
      "outputs": [
        {
          "output_type": "stream",
          "text": [
            "sliced_3D shape:  (2, 3, 1)\n",
            "sliced_3D strides:  (48, 8, 8)\n",
            "sliced_3D data:  <memory at 0x7f972434e8b8> \n",
            "\n",
            "True\n"
          ],
          "name": "stdout"
        }
      ]
    },
    {
      "cell_type": "markdown",
      "metadata": {
        "id": "Hj0AFR5yHC9N"
      },
      "source": [
        "#### **`np.transpose`**"
      ]
    },
    {
      "cell_type": "code",
      "metadata": {
        "id": "LrwiRG8qnZ8i",
        "colab": {
          "base_uri": "https://localhost:8080/"
        },
        "outputId": "ede14b93-34f1-4f3d-c003-cd700e1bd60f"
      },
      "source": [
        "transpose_3D = original_3D.T\n",
        "\n",
        "print(\"transpose_3D shape: \", transpose_3D.shape)\n",
        "print(\"transpose_3D strides: \", transpose_3D.strides)\n",
        "print(transpose_3D.base is original_3D)"
      ],
      "execution_count": null,
      "outputs": [
        {
          "output_type": "stream",
          "text": [
            "transpose_3D shape:  (2, 3, 4)\n",
            "transpose_3D strides:  (4, 8, 24)\n",
            "True\n"
          ],
          "name": "stdout"
        }
      ]
    },
    {
      "cell_type": "markdown",
      "metadata": {
        "id": "MOYePonibcZq"
      },
      "source": [
        "For more details, look at \n",
        "*  https://numpy.org/doc/stable/reference/internals.html\n",
        "*  https://ipython-books.github.io/45-understanding-the-internals-of-numpy-to-avoid-unnecessary-array-copying/"
      ]
    }
  ]
}