{
  "nbformat": 4,
  "nbformat_minor": 0,
  "metadata": {
    "kernelspec": {
      "display_name": "Python 3",
      "language": "python",
      "name": "python3"
    },
    "language_info": {
      "codemirror_mode": {
        "name": "ipython",
        "version": 3
      },
      "file_extension": ".py",
      "mimetype": "text/x-python",
      "name": "python",
      "nbconvert_exporter": "python",
      "pygments_lexer": "ipython3",
      "version": "3.7.3"
    },
    "colab": {
      "name": "NLP_using_nltk.ipynb",
      "provenance": [],
      "include_colab_link": true
    }
  },
  "cells": [
    {
      "cell_type": "markdown",
      "metadata": {
        "id": "view-in-github",
        "colab_type": "text"
      },
      "source": [
        "<a href=\"https://colab.research.google.com/github/nike-2001/AI-Hands-on/blob/main/NLP_using_nltk.ipynb\" target=\"_parent\"><img src=\"https://colab.research.google.com/assets/colab-badge.svg\" alt=\"Open In Colab\"/></a>"
      ]
    },
    {
      "cell_type": "code",
      "metadata": {
        "id": "gNzDSwRaoQs9"
      },
      "source": [
        "with open(\"data_description.txt\") as fp:\n",
        "    contents = fp.read()\n",
        "with open(\"data_description.txt\") as fp:\n",
        "    content_list = fp.readlines()"
      ],
      "execution_count": null,
      "outputs": []
    },
    {
      "cell_type": "code",
      "metadata": {
        "id": "PfILIuR9oQtE"
      },
      "source": [
        "import nltk\n",
        "# nltk.download()\n",
        "from nltk.tokenize import sent_tokenize\n",
        "article_text=\"\"\"Hello Mr. Smith, how are you doing today? The weather is great and \n",
        "city is awesome.\n",
        "you see the sky is pinkish-blue. Everyone is enjoying here.\"\"\""
      ],
      "execution_count": null,
      "outputs": []
    },
    {
      "cell_type": "code",
      "metadata": {
        "id": "B5xQYlftoQtE"
      },
      "source": [
        "# Convert Everything to lower case\n",
        "article_text = article_text.lower()"
      ],
      "execution_count": null,
      "outputs": []
    },
    {
      "cell_type": "code",
      "metadata": {
        "id": "_V1T4jkEoQtF",
        "outputId": "52730445-c863-4bd4-937a-5d3f7bd91d75"
      },
      "source": [
        "tokenized_text=sent_tokenize(article_text)\n",
        "print(tokenized_text)"
      ],
      "execution_count": null,
      "outputs": [
        {
          "output_type": "stream",
          "text": [
            "['hello mr. smith, how are you doing today?', 'the weather is great and \\ncity is awesome.', 'you see the sky is pinkish-blue.', 'everyone is enjoying here.']\n"
          ],
          "name": "stdout"
        }
      ]
    },
    {
      "cell_type": "code",
      "metadata": {
        "id": "VHV-hP_HoQtG",
        "outputId": "e5396fd1-ef37-430c-cf30-69f2fff7d35a"
      },
      "source": [
        "# regex to replace all special characters\n",
        "import re\n",
        "aplha_text = []\n",
        "for t in tokenized_text:\n",
        "    aplha_text.append(re.sub('[^A-Za-z0-9 ]+', '', t))\n",
        "print(aplha_text)\n",
        "aplha_text = \" \".join(aplha_text)\n",
        "print(aplha_text)"
      ],
      "execution_count": null,
      "outputs": [
        {
          "output_type": "stream",
          "text": [
            "['hello mr smith how are you doing today', 'the weather is great and city is awesome', 'the sky is pinkishblue', 'everyone is enjoying here']\n",
            "hello mr smith how are you doing today the weather is great and city is awesome the sky is pinkishblue everyone is enjoying here\n"
          ],
          "name": "stdout"
        }
      ]
    },
    {
      "cell_type": "code",
      "metadata": {
        "id": "XJoF6KnaoQtG",
        "outputId": "c8a84341-b3ad-448c-e89c-e9c21902aa1f"
      },
      "source": [
        "word_tokens=nltk.word_tokenize(aplha_text)\n",
        "print(word_tokens)\n",
        "word_frequencies = {}\n",
        "for word in word_tokens:\n",
        "    if word not in word_frequencies.keys():\n",
        "        word_frequencies[word] = 1\n",
        "    else:\n",
        "        word_frequencies[word] += 1\n",
        "print(word_frequencies)"
      ],
      "execution_count": null,
      "outputs": [
        {
          "output_type": "stream",
          "text": [
            "['hello', 'mr', 'smith', 'how', 'are', 'you', 'doing', 'today', 'the', 'weather', 'is', 'great', 'and', 'city', 'is', 'awesome', 'the', 'sky', 'is', 'pinkishblue', 'everyone', 'is', 'enjoying', 'here']\n",
            "{'hello': 1, 'mr': 1, 'smith': 1, 'how': 1, 'are': 1, 'you': 1, 'doing': 1, 'today': 1, 'the': 2, 'weather': 1, 'is': 4, 'great': 1, 'and': 1, 'city': 1, 'awesome': 1, 'sky': 1, 'pinkishblue': 1, 'everyone': 1, 'enjoying': 1, 'here': 1}\n"
          ],
          "name": "stdout"
        }
      ]
    },
    {
      "cell_type": "code",
      "metadata": {
        "id": "oQ70FBAgoQtG",
        "outputId": "2bfb5deb-2b78-4111-a9b5-383bac4d61e4"
      },
      "source": [
        "from nltk.probability import FreqDist\n",
        "fdist = FreqDist(word_tokens)\n",
        "print(len(fdist))\n",
        "fdist.most_common(len(fdist))"
      ],
      "execution_count": null,
      "outputs": [
        {
          "output_type": "stream",
          "text": [
            "20\n"
          ],
          "name": "stdout"
        },
        {
          "output_type": "execute_result",
          "data": {
            "text/plain": [
              "[('is', 4),\n",
              " ('the', 2),\n",
              " ('hello', 1),\n",
              " ('mr', 1),\n",
              " ('smith', 1),\n",
              " ('how', 1),\n",
              " ('are', 1),\n",
              " ('you', 1),\n",
              " ('doing', 1),\n",
              " ('today', 1),\n",
              " ('weather', 1),\n",
              " ('great', 1),\n",
              " ('and', 1),\n",
              " ('city', 1),\n",
              " ('awesome', 1),\n",
              " ('sky', 1),\n",
              " ('pinkishblue', 1),\n",
              " ('everyone', 1),\n",
              " ('enjoying', 1),\n",
              " ('here', 1)]"
            ]
          },
          "metadata": {
            "tags": []
          },
          "execution_count": 104
        }
      ]
    },
    {
      "cell_type": "code",
      "metadata": {
        "id": "P_PJuBR2oQtH",
        "outputId": "13b78a78-a9b2-4144-c537-23ad5329d37f"
      },
      "source": [
        "# Frequency Distribution Plot\n",
        "import matplotlib.pyplot as plt\n",
        "fdist.plot(30,cumulative=False)\n",
        "plt.show()"
      ],
      "execution_count": null,
      "outputs": [
        {
          "output_type": "display_data",
          "data": {
            "image/png": "[encoded data removed]",
            "text/plain": [
              "<Figure size 432x288 with 1 Axes>"
            ]
          },
          "metadata": {
            "tags": [],
            "needs_background": "light"
          }
        }
      ]
    },
    {
      "cell_type": "code",
      "metadata": {
        "id": "VoBhoKHgoQtH",
        "outputId": "b7fe5c84-b9eb-44b7-d342-8d7720c19e1b"
      },
      "source": [
        "from nltk.corpus import stopwords\n",
        "stop_words=set(stopwords.words(\"english\"))\n",
        "print(stop_words)\n",
        "print(len(stop_words))"
      ],
      "execution_count": null,
      "outputs": [
        {
          "output_type": "stream",
          "text": [
            "{'further', 'through', 'why', 'whom', \"wasn't\", 'needn', \"couldn't\", \"didn't\", 'up', 'who', \"it's\", 'this', 'had', 'wasn', 'into', 'most', 'not', 'then', 'myself', 'her', 'too', 'about', \"wouldn't\", 'very', 'at', 'for', \"you'd\", 'll', 'ourselves', 'each', \"needn't\", 'yourself', 'the', 'again', 'all', 'few', 'these', 'are', 'nor', 'own', 'during', 'before', 'does', 's', 'some', 'doesn', 'being', 'which', 'out', 'won', 'with', \"she's\", 'have', 'of', 'to', 'more', \"haven't\", 't', 'themselves', 'am', 'haven', 'below', 'both', 'be', 'will', 'me', 'do', 're', \"hasn't\", 'didn', 'other', 'd', 'while', 'hasn', 'shouldn', 'm', 'as', 'doing', 'him', 'or', 'i', 'those', \"shan't\", 'o', 'only', 'theirs', 'is', 'yours', 'here', 'if', \"shouldn't\", 'don', \"doesn't\", 'couldn', 'once', 'was', 'because', 'where', 'any', \"weren't\", 'above', 'ma', 'been', 'until', 'having', 'yourselves', 'now', 'your', \"isn't\", 'there', 'what', 'from', 'their', \"won't\", 'ours', 'aren', 'under', \"mustn't\", 'his', 'isn', 'same', 'but', 'between', 'such', 'a', 'should', \"hadn't\", 'wouldn', 'by', 'its', 'mustn', 'off', 'it', 'they', 'in', 'them', 'than', 'weren', 'our', 'himself', 'and', 'can', \"don't\", 'ain', 'herself', 'you', 'how', 'that', 'he', \"you've\", \"you'll\", 'after', 'no', 'my', 'against', 'she', 'hadn', 'itself', 'just', 'when', \"should've\", \"aren't\", 'were', 've', 'over', 'hers', 'mightn', 'did', 'has', \"you're\", 'we', 'so', 'down', 'y', 'an', \"that'll\", 'shan', 'on', \"mightn't\"}\n",
            "179\n"
          ],
          "name": "stdout"
        }
      ]
    },
    {
      "cell_type": "code",
      "metadata": {
        "id": "yPkPBG0OoQtI",
        "outputId": "202d1476-2436-4d0b-9aec-a5bd00ede81c"
      },
      "source": [
        "clean_words=[]\n",
        "for w in word_tokens:\n",
        "    if w not in stop_words:\n",
        "        clean_words.append(w)\n",
        "print(\"Tokenized Sentence:\",word_tokens)\n",
        "print(\"Filterd Sentence:\",clean_words)"
      ],
      "execution_count": null,
      "outputs": [
        {
          "output_type": "stream",
          "text": [
            "Tokenized Sentence: ['hello', 'mr', 'smith', 'how', 'are', 'you', 'doing', 'today', 'the', 'weather', 'is', 'great', 'and', 'city', 'is', 'awesome', 'the', 'sky', 'is', 'pinkishblue', 'everyone', 'is', 'enjoying', 'here']\n",
            "Filterd Sentence: ['hello', 'mr', 'smith', 'today', 'weather', 'great', 'city', 'awesome', 'sky', 'pinkishblue', 'everyone', 'enjoying']\n"
          ],
          "name": "stdout"
        }
      ]
    },
    {
      "cell_type": "code",
      "metadata": {
        "id": "yNMKQ15VoQtI",
        "outputId": "fde4006f-8968-4a92-9671-21feea8fd93f"
      },
      "source": [
        "# Stemming\n",
        "from nltk.stem import PorterStemmer\n",
        "from nltk.tokenize import sent_tokenize, word_tokenize\n",
        "\n",
        "ps = PorterStemmer()\n",
        "\n",
        "stemmed_words=[]\n",
        "for w in clean_words:\n",
        "    stemmed_words.append(ps.stem(w))\n",
        "\n",
        "print(\"Filtered Sentence:\",clean_words)\n",
        "print(\"Stemmed Sentence:\",stemmed_words)"
      ],
      "execution_count": null,
      "outputs": [
        {
          "output_type": "stream",
          "text": [
            "Filtered Sentence: ['hello', 'mr', 'smith', 'today', 'weather', 'great', 'city', 'awesome', 'sky', 'pinkishblue', 'everyone', 'enjoying']\n",
            "Stemmed Sentence: ['hello', 'mr', 'smith', 'today', 'weather', 'great', 'citi', 'awesom', 'sky', 'pinkishblu', 'everyon', 'enjoy']\n"
          ],
          "name": "stdout"
        }
      ]
    },
    {
      "cell_type": "code",
      "metadata": {
        "id": "0-oxCc4ZoQtI",
        "outputId": "2ff1052e-a1c7-44fa-d34b-add0e75a8203"
      },
      "source": [
        "#Lexicon Normalization\n",
        "#performing stemming and Lemmatization\n",
        "\n",
        "from nltk.stem.wordnet import WordNetLemmatizer\n",
        "lem = WordNetLemmatizer()\n",
        "\n",
        "from nltk.stem.porter import PorterStemmer\n",
        "stem = PorterStemmer()\n",
        "\n",
        "word = \"flying\"\n",
        "# Should know POS for Lemmatization\n",
        "print(\"Lemmatized Word:\",lem.lemmatize(word,\"v\")) \n",
        "print(\"Stemmed Word:\",stem.stem(word))"
      ],
      "execution_count": null,
      "outputs": [
        {
          "output_type": "stream",
          "text": [
            "Lemmatized Word: fly\n",
            "Stemmed Word: fli\n"
          ],
          "name": "stdout"
        }
      ]
    },
    {
      "cell_type": "code",
      "metadata": {
        "id": "dAy6U5IyoQtJ",
        "outputId": "12557218-a4ec-40dd-87eb-7474b9289874"
      },
      "source": [
        "# List of Tags ...\n",
        "nltk.download('tagsets')\n",
        "nltk.download('averaged_perceptron_tagger')\n",
        "nltk.help.upenn_tagset()"
      ],
      "execution_count": null,
      "outputs": [
        {
          "output_type": "stream",
          "text": [
            "[nltk_data] Downloading package tagsets to /home/shantanu/nltk_data...\n",
            "[nltk_data]   Package tagsets is already up-to-date!\n",
            "[nltk_data] Downloading package averaged_perceptron_tagger to\n",
            "[nltk_data]     /home/shantanu/nltk_data...\n"
          ],
          "name": "stderr"
        },
        {
          "output_type": "stream",
          "text": [
            "$: dollar\n",
            "    $ -$ --$ A$ C$ HK$ M$ NZ$ S$ U.S.$ US$\n",
            "'': closing quotation mark\n",
            "    ' ''\n",
            "(: opening parenthesis\n",
            "    ( [ {\n",
            "): closing parenthesis\n",
            "    ) ] }\n",
            ",: comma\n",
            "    ,\n",
            "--: dash\n",
            "    --\n",
            ".: sentence terminator\n",
            "    . ! ?\n",
            ":: colon or ellipsis\n",
            "    : ; ...\n",
            "CC: conjunction, coordinating\n",
            "    & 'n and both but either et for less minus neither nor or plus so\n",
            "    therefore times v. versus vs. whether yet\n",
            "CD: numeral, cardinal\n",
            "    mid-1890 nine-thirty forty-two one-tenth ten million 0.5 one forty-\n",
            "    seven 1987 twenty '79 zero two 78-degrees eighty-four IX '60s .025\n",
            "    fifteen 271,124 dozen quintillion DM2,000 ...\n",
            "DT: determiner\n",
            "    all an another any both del each either every half la many much nary\n",
            "    neither no some such that the them these this those\n",
            "EX: existential there\n",
            "    there\n",
            "FW: foreign word\n",
            "    gemeinschaft hund ich jeux habeas Haementeria Herr K'ang-si vous\n",
            "    lutihaw alai je jour objets salutaris fille quibusdam pas trop Monte\n",
            "    terram fiche oui corporis ...\n",
            "IN: preposition or conjunction, subordinating\n",
            "    astride among uppon whether out inside pro despite on by throughout\n",
            "    below within for towards near behind atop around if like until below\n",
            "    next into if beside ...\n",
            "JJ: adjective or numeral, ordinal\n",
            "    third ill-mannered pre-war regrettable oiled calamitous first separable\n",
            "    ectoplasmic battery-powered participatory fourth still-to-be-named\n",
            "    multilingual multi-disciplinary ...\n",
            "JJR: adjective, comparative\n",
            "    bleaker braver breezier briefer brighter brisker broader bumper busier\n",
            "    calmer cheaper choosier cleaner clearer closer colder commoner costlier\n",
            "    cozier creamier crunchier cuter ...\n",
            "JJS: adjective, superlative\n",
            "    calmest cheapest choicest classiest cleanest clearest closest commonest\n",
            "    corniest costliest crassest creepiest crudest cutest darkest deadliest\n",
            "    dearest deepest densest dinkiest ...\n",
            "LS: list item marker\n",
            "    A A. B B. C C. D E F First G H I J K One SP-44001 SP-44002 SP-44005\n",
            "    SP-44007 Second Third Three Two * a b c d first five four one six three\n",
            "    two\n",
            "MD: modal auxiliary\n",
            "    can cannot could couldn't dare may might must need ought shall should\n",
            "    shouldn't will would\n",
            "NN: noun, common, singular or mass\n",
            "    common-carrier cabbage knuckle-duster Casino afghan shed thermostat\n",
            "    investment slide humour falloff slick wind hyena override subhumanity\n",
            "    machinist ...\n",
            "NNP: noun, proper, singular\n",
            "    Motown Venneboerger Czestochwa Ranzer Conchita Trumplane Christos\n",
            "    Oceanside Escobar Kreisler Sawyer Cougar Yvette Ervin ODI Darryl CTCA\n",
            "    Shannon A.K.C. Meltex Liverpool ...\n",
            "NNPS: noun, proper, plural\n",
            "    Americans Americas Amharas Amityvilles Amusements Anarcho-Syndicalists\n",
            "    Andalusians Andes Andruses Angels Animals Anthony Antilles Antiques\n",
            "    Apache Apaches Apocrypha ...\n",
            "NNS: noun, common, plural\n",
            "    undergraduates scotches bric-a-brac products bodyguards facets coasts\n",
            "    divestitures storehouses designs clubs fragrances averages\n",
            "    subjectivists apprehensions muses factory-jobs ...\n",
            "PDT: pre-determiner\n",
            "    all both half many quite such sure this\n",
            "POS: genitive marker\n",
            "    ' 's\n",
            "PRP: pronoun, personal\n",
            "    hers herself him himself hisself it itself me myself one oneself ours\n",
            "    ourselves ownself self she thee theirs them themselves they thou thy us\n",
            "PRP$: pronoun, possessive\n",
            "    her his mine my our ours their thy your\n",
            "RB: adverb\n",
            "    occasionally unabatingly maddeningly adventurously professedly\n",
            "    stirringly prominently technologically magisterially predominately\n",
            "    swiftly fiscally pitilessly ...\n",
            "RBR: adverb, comparative\n",
            "    further gloomier grander graver greater grimmer harder harsher\n",
            "    healthier heavier higher however larger later leaner lengthier less-\n",
            "    perfectly lesser lonelier longer louder lower more ...\n",
            "RBS: adverb, superlative\n",
            "    best biggest bluntest earliest farthest first furthest hardest\n",
            "    heartiest highest largest least less most nearest second tightest worst\n",
            "RP: particle\n",
            "    aboard about across along apart around aside at away back before behind\n",
            "    by crop down ever fast for forth from go high i.e. in into just later\n",
            "    low more off on open out over per pie raising start teeth that through\n",
            "    under unto up up-pp upon whole with you\n",
            "SYM: symbol\n",
            "    % & ' '' ''. ) ). * + ,. < = > @ A[fj] U.S U.S.S.R * ** ***\n",
            "TO: \"to\" as preposition or infinitive marker\n",
            "    to\n",
            "UH: interjection\n",
            "    Goodbye Goody Gosh Wow Jeepers Jee-sus Hubba Hey Kee-reist Oops amen\n",
            "    huh howdy uh dammit whammo shucks heck anyways whodunnit honey golly\n",
            "    man baby diddle hush sonuvabitch ...\n",
            "VB: verb, base form\n",
            "    ask assemble assess assign assume atone attention avoid bake balkanize\n",
            "    bank begin behold believe bend benefit bevel beware bless boil bomb\n",
            "    boost brace break bring broil brush build ...\n",
            "VBD: verb, past tense\n",
            "    dipped pleaded swiped regummed soaked tidied convened halted registered\n",
            "    cushioned exacted snubbed strode aimed adopted belied figgered\n",
            "    speculated wore appreciated contemplated ...\n",
            "VBG: verb, present participle or gerund\n",
            "    telegraphing stirring focusing angering judging stalling lactating\n",
            "    hankerin' alleging veering capping approaching traveling besieging\n",
            "    encrypting interrupting erasing wincing ...\n",
            "VBN: verb, past participle\n",
            "    multihulled dilapidated aerosolized chaired languished panelized used\n",
            "    experimented flourished imitated reunifed factored condensed sheared\n",
            "    unsettled primed dubbed desired ...\n",
            "VBP: verb, present tense, not 3rd person singular\n",
            "    predominate wrap resort sue twist spill cure lengthen brush terminate\n",
            "    appear tend stray glisten obtain comprise detest tease attract\n",
            "    emphasize mold postpone sever return wag ...\n",
            "VBZ: verb, present tense, 3rd person singular\n",
            "    bases reconstructs marks mixes displeases seals carps weaves snatches\n",
            "    slumps stretches authorizes smolders pictures emerges stockpiles\n",
            "    seduces fizzes uses bolsters slaps speaks pleads ...\n",
            "WDT: WH-determiner\n",
            "    that what whatever which whichever\n",
            "WP: WH-pronoun\n",
            "    that what whatever whatsoever which who whom whosoever\n",
            "WP$: WH-pronoun, possessive\n",
            "    whose\n",
            "WRB: Wh-adverb\n",
            "    how however whence whenever where whereby whereever wherein whereof why\n",
            "``: opening quotation mark\n",
            "    ` ``\n"
          ],
          "name": "stdout"
        },
        {
          "output_type": "stream",
          "text": [
            "[nltk_data]   Unzipping taggers/averaged_perceptron_tagger.zip.\n"
          ],
          "name": "stderr"
        }
      ]
    },
    {
      "cell_type": "code",
      "metadata": {
        "id": "n_DBtLO7oQtJ",
        "outputId": "492008c3-3d99-4bd6-bcaf-5f7d4eea7112"
      },
      "source": [
        "print(nltk.pos_tag(stemmed_words))\n",
        "print(nltk.pos_tag(clean_words))"
      ],
      "execution_count": null,
      "outputs": [
        {
          "output_type": "stream",
          "text": [
            "[('hello', 'NN'), ('mr', 'NN'), ('smith', 'NN'), ('today', 'NN'), ('weather', 'VBP'), ('great', 'JJ'), ('citi', 'JJ'), ('awesom', 'NN'), ('sky', 'NN'), ('pinkishblu', 'NN'), ('everyon', 'NN'), ('enjoy', 'NN')]\n",
            "[('hello', 'NN'), ('mr', 'NN'), ('smith', 'NN'), ('today', 'NN'), ('weather', 'VBP'), ('great', 'JJ'), ('city', 'NN'), ('awesome', 'VBP'), ('sky', 'JJ'), ('pinkishblue', 'NN'), ('everyone', 'NN'), ('enjoying', 'VBG')]\n"
          ],
          "name": "stdout"
        }
      ]
    },
    {
      "cell_type": "code",
      "metadata": {
        "id": "tZRm699CoQtJ"
      },
      "source": [
        "code_data=[\"for i in range(10):\", \"if xyz ! = 0:\", \"a=b+c\",\"e=100\",\"nltk.pos_tag(word_list)\"]\n",
        "tags = [\"loop\",\"condition\",\"assignment\",\"assignment\",\"pos tagging\"]\n"
      ],
      "execution_count": null,
      "outputs": []
    },
    {
      "cell_type": "code",
      "metadata": {
        "id": "d4FPxVkqoQtJ",
        "outputId": "5cc21959-2d82-4228-d326-65152c66733f"
      },
      "source": [
        "import pandas as pd\n",
        "df = pd.read_csv(\"SMSSpamCollection.csv\",sep='\\t',names=[\"Tag\",\"Content\"])\n",
        "df.head()"
      ],
      "execution_count": null,
      "outputs": [
        {
          "output_type": "execute_result",
          "data": {
            "text/html": [
              "<div>\n",
              "<style scoped>\n",
              "    .dataframe tbody tr th:only-of-type {\n",
              "        vertical-align: middle;\n",
              "    }\n",
              "\n",
              "    .dataframe tbody tr th {\n",
              "        vertical-align: top;\n",
              "    }\n",
              "\n",
              "    .dataframe thead th {\n",
              "        text-align: right;\n",
              "    }\n",
              "</style>\n",
              "<table border=\"1\" class=\"dataframe\">\n",
              "  <thead>\n",
              "    <tr style=\"text-align: right;\">\n",
              "      <th></th>\n",
              "      <th>Tag</th>\n",
              "      <th>Content</th>\n",
              "    </tr>\n",
              "  </thead>\n",
              "  <tbody>\n",
              "    <tr>\n",
              "      <th>0</th>\n",
              "      <td>ham</td>\n",
              "      <td>Go until jurong point, crazy.. Available only ...</td>\n",
              "    </tr>\n",
              "    <tr>\n",
              "      <th>1</th>\n",
              "      <td>ham</td>\n",
              "      <td>Ok lar... Joking wif u oni...</td>\n",
              "    </tr>\n",
              "    <tr>\n",
              "      <th>2</th>\n",
              "      <td>spam</td>\n",
              "      <td>Free entry in 2 a wkly comp to win FA Cup fina...</td>\n",
              "    </tr>\n",
              "    <tr>\n",
              "      <th>3</th>\n",
              "      <td>ham</td>\n",
              "      <td>U dun say so early hor... U c already then say...</td>\n",
              "    </tr>\n",
              "    <tr>\n",
              "      <th>4</th>\n",
              "      <td>ham</td>\n",
              "      <td>Nah I don't think he goes to usf, he lives aro...</td>\n",
              "    </tr>\n",
              "  </tbody>\n",
              "</table>\n",
              "</div>"
            ],
            "text/plain": [
              "    Tag                                            Content\n",
              "0   ham  Go until jurong point, crazy.. Available only ...\n",
              "1   ham                      Ok lar... Joking wif u oni...\n",
              "2  spam  Free entry in 2 a wkly comp to win FA Cup fina...\n",
              "3   ham  U dun say so early hor... U c already then say...\n",
              "4   ham  Nah I don't think he goes to usf, he lives aro..."
            ]
          },
          "metadata": {
            "tags": []
          },
          "execution_count": 111
        }
      ]
    }
  ]
}